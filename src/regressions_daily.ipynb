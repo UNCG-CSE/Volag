{
 "cells": [
  {
   "cell_type": "markdown",
   "metadata": {
    "collapsed": true
   },
   "source": [
    "### Load Data File"
   ]
  },
  {
   "cell_type": "code",
   "execution_count": 1,
   "metadata": {
    "collapsed": true
   },
   "outputs": [],
   "source": [
    "%matplotlib inline\n",
    "import math\n",
    "import matplotlib.pyplot as plt\n",
    "from decimal import *\n",
    "import numpy as np # linear algebra\n",
    "import pandas as pd # read_csv and such\n",
    "from io import StringIO # convert strings to buffers or something like that.\n",
    "import os # for listing files in directory\n",
    "import seaborn as sns\n",
    "import scipy.stats as stats\n",
    "\n",
    "pd.options.display.max_columns = 99\n",
    "pd.options.display.max_rows = 99"
   ]
  },
  {
   "cell_type": "code",
   "execution_count": 2,
   "metadata": {},
   "outputs": [
    {
     "data": {
      "text/html": [
       "<div>\n",
       "<style>\n",
       "    .dataframe thead tr:only-child th {\n",
       "        text-align: right;\n",
       "    }\n",
       "\n",
       "    .dataframe thead th {\n",
       "        text-align: left;\n",
       "    }\n",
       "\n",
       "    .dataframe tbody tr th {\n",
       "        vertical-align: top;\n",
       "    }\n",
       "</style>\n",
       "<table border=\"1\" class=\"dataframe\">\n",
       "  <thead>\n",
       "    <tr style=\"text-align: right;\">\n",
       "      <th></th>\n",
       "      <th>MONTH</th>\n",
       "      <th>DATE</th>\n",
       "      <th>ORIGIN_AIRPORT</th>\n",
       "      <th>WEATHER_DELAY</th>\n",
       "      <th>OR_TEMP</th>\n",
       "      <th>OR_VISIB</th>\n",
       "      <th>OR_WDSP</th>\n",
       "      <th>OR_MXSPD</th>\n",
       "      <th>OR_SNDP</th>\n",
       "      <th>OR_PRCP</th>\n",
       "      <th>OR_GUST</th>\n",
       "      <th>OR_MAX</th>\n",
       "      <th>OR_MIN</th>\n",
       "      <th>OR_FOG</th>\n",
       "      <th>OR_RAIN_DRIZZLE</th>\n",
       "      <th>OR_SNOW_ICE_PELLETS</th>\n",
       "      <th>OR_HAIL</th>\n",
       "      <th>OR_THUNDER</th>\n",
       "      <th>OR_TORNADO_FUNNEL_CLOUD</th>\n",
       "      <th>DES_TEMP</th>\n",
       "      <th>DES_VISIB</th>\n",
       "      <th>DES_WDSP</th>\n",
       "      <th>DES_MXSPD</th>\n",
       "      <th>DES_SNDP</th>\n",
       "      <th>DES_PRCP</th>\n",
       "      <th>DES_GUST</th>\n",
       "      <th>DES_MAX</th>\n",
       "      <th>DES_MIN</th>\n",
       "      <th>DES_FOG</th>\n",
       "      <th>DES_RAIN_DRIZZLE</th>\n",
       "      <th>DES_SNOW_ICE_PELLETS</th>\n",
       "      <th>DES_HAIL</th>\n",
       "      <th>DES_THUNDER</th>\n",
       "      <th>DES_TORNADO_FUNNEL_CLOUD</th>\n",
       "    </tr>\n",
       "  </thead>\n",
       "  <tbody>\n",
       "    <tr>\n",
       "      <th>0</th>\n",
       "      <td>1</td>\n",
       "      <td>2015-01-01</td>\n",
       "      <td>ANC</td>\n",
       "      <td>NaN</td>\n",
       "      <td>35.1</td>\n",
       "      <td>7.5</td>\n",
       "      <td>3.6</td>\n",
       "      <td>6.0</td>\n",
       "      <td>999.9</td>\n",
       "      <td>0.09G</td>\n",
       "      <td>999.9</td>\n",
       "      <td>43.0</td>\n",
       "      <td>32.0</td>\n",
       "      <td>True</td>\n",
       "      <td>True</td>\n",
       "      <td>False</td>\n",
       "      <td>False</td>\n",
       "      <td>False</td>\n",
       "      <td>False</td>\n",
       "      <td>32.9</td>\n",
       "      <td>10.0</td>\n",
       "      <td>4.6</td>\n",
       "      <td>11.1</td>\n",
       "      <td>999.9</td>\n",
       "      <td>0.00G</td>\n",
       "      <td>999.9</td>\n",
       "      <td>42.1</td>\n",
       "      <td>26.1</td>\n",
       "      <td>False</td>\n",
       "      <td>False</td>\n",
       "      <td>False</td>\n",
       "      <td>False</td>\n",
       "      <td>False</td>\n",
       "      <td>False</td>\n",
       "    </tr>\n",
       "    <tr>\n",
       "      <th>1</th>\n",
       "      <td>1</td>\n",
       "      <td>2015-01-01</td>\n",
       "      <td>ANC</td>\n",
       "      <td>NaN</td>\n",
       "      <td>35.1</td>\n",
       "      <td>7.5</td>\n",
       "      <td>3.6</td>\n",
       "      <td>6.0</td>\n",
       "      <td>999.9</td>\n",
       "      <td>0.09G</td>\n",
       "      <td>999.9</td>\n",
       "      <td>43.0</td>\n",
       "      <td>32.0</td>\n",
       "      <td>True</td>\n",
       "      <td>True</td>\n",
       "      <td>False</td>\n",
       "      <td>False</td>\n",
       "      <td>False</td>\n",
       "      <td>False</td>\n",
       "      <td>32.9</td>\n",
       "      <td>10.0</td>\n",
       "      <td>4.6</td>\n",
       "      <td>11.1</td>\n",
       "      <td>999.9</td>\n",
       "      <td>0.00G</td>\n",
       "      <td>999.9</td>\n",
       "      <td>42.1</td>\n",
       "      <td>26.1</td>\n",
       "      <td>False</td>\n",
       "      <td>False</td>\n",
       "      <td>False</td>\n",
       "      <td>False</td>\n",
       "      <td>False</td>\n",
       "      <td>False</td>\n",
       "    </tr>\n",
       "    <tr>\n",
       "      <th>2</th>\n",
       "      <td>1</td>\n",
       "      <td>2015-01-01</td>\n",
       "      <td>ANC</td>\n",
       "      <td>NaN</td>\n",
       "      <td>35.1</td>\n",
       "      <td>7.5</td>\n",
       "      <td>3.6</td>\n",
       "      <td>6.0</td>\n",
       "      <td>999.9</td>\n",
       "      <td>0.09G</td>\n",
       "      <td>999.9</td>\n",
       "      <td>43.0</td>\n",
       "      <td>32.0</td>\n",
       "      <td>True</td>\n",
       "      <td>True</td>\n",
       "      <td>False</td>\n",
       "      <td>False</td>\n",
       "      <td>False</td>\n",
       "      <td>False</td>\n",
       "      <td>32.9</td>\n",
       "      <td>10.0</td>\n",
       "      <td>4.6</td>\n",
       "      <td>11.1</td>\n",
       "      <td>999.9</td>\n",
       "      <td>0.00G</td>\n",
       "      <td>999.9</td>\n",
       "      <td>42.1</td>\n",
       "      <td>26.1</td>\n",
       "      <td>False</td>\n",
       "      <td>False</td>\n",
       "      <td>False</td>\n",
       "      <td>False</td>\n",
       "      <td>False</td>\n",
       "      <td>False</td>\n",
       "    </tr>\n",
       "    <tr>\n",
       "      <th>3</th>\n",
       "      <td>1</td>\n",
       "      <td>2015-01-01</td>\n",
       "      <td>ANC</td>\n",
       "      <td>NaN</td>\n",
       "      <td>35.1</td>\n",
       "      <td>7.5</td>\n",
       "      <td>3.6</td>\n",
       "      <td>6.0</td>\n",
       "      <td>999.9</td>\n",
       "      <td>0.09G</td>\n",
       "      <td>999.9</td>\n",
       "      <td>43.0</td>\n",
       "      <td>32.0</td>\n",
       "      <td>True</td>\n",
       "      <td>True</td>\n",
       "      <td>False</td>\n",
       "      <td>False</td>\n",
       "      <td>False</td>\n",
       "      <td>False</td>\n",
       "      <td>32.9</td>\n",
       "      <td>10.0</td>\n",
       "      <td>4.6</td>\n",
       "      <td>11.1</td>\n",
       "      <td>999.9</td>\n",
       "      <td>0.00G</td>\n",
       "      <td>999.9</td>\n",
       "      <td>42.1</td>\n",
       "      <td>26.1</td>\n",
       "      <td>False</td>\n",
       "      <td>False</td>\n",
       "      <td>False</td>\n",
       "      <td>False</td>\n",
       "      <td>False</td>\n",
       "      <td>False</td>\n",
       "    </tr>\n",
       "    <tr>\n",
       "      <th>4</th>\n",
       "      <td>1</td>\n",
       "      <td>2015-01-01</td>\n",
       "      <td>ANC</td>\n",
       "      <td>NaN</td>\n",
       "      <td>35.1</td>\n",
       "      <td>7.5</td>\n",
       "      <td>3.6</td>\n",
       "      <td>6.0</td>\n",
       "      <td>999.9</td>\n",
       "      <td>0.09G</td>\n",
       "      <td>999.9</td>\n",
       "      <td>43.0</td>\n",
       "      <td>32.0</td>\n",
       "      <td>True</td>\n",
       "      <td>True</td>\n",
       "      <td>False</td>\n",
       "      <td>False</td>\n",
       "      <td>False</td>\n",
       "      <td>False</td>\n",
       "      <td>32.9</td>\n",
       "      <td>10.0</td>\n",
       "      <td>4.6</td>\n",
       "      <td>11.1</td>\n",
       "      <td>999.9</td>\n",
       "      <td>0.00G</td>\n",
       "      <td>999.9</td>\n",
       "      <td>42.1</td>\n",
       "      <td>26.1</td>\n",
       "      <td>False</td>\n",
       "      <td>False</td>\n",
       "      <td>False</td>\n",
       "      <td>False</td>\n",
       "      <td>False</td>\n",
       "      <td>False</td>\n",
       "    </tr>\n",
       "  </tbody>\n",
       "</table>\n",
       "</div>"
      ],
      "text/plain": [
       "   MONTH       DATE ORIGIN_AIRPORT  WEATHER_DELAY  OR_TEMP  OR_VISIB  OR_WDSP  \\\n",
       "0      1 2015-01-01            ANC            NaN     35.1       7.5      3.6   \n",
       "1      1 2015-01-01            ANC            NaN     35.1       7.5      3.6   \n",
       "2      1 2015-01-01            ANC            NaN     35.1       7.5      3.6   \n",
       "3      1 2015-01-01            ANC            NaN     35.1       7.5      3.6   \n",
       "4      1 2015-01-01            ANC            NaN     35.1       7.5      3.6   \n",
       "\n",
       "   OR_MXSPD  OR_SNDP OR_PRCP  OR_GUST OR_MAX OR_MIN  OR_FOG  OR_RAIN_DRIZZLE  \\\n",
       "0       6.0    999.9   0.09G    999.9   43.0   32.0    True             True   \n",
       "1       6.0    999.9   0.09G    999.9   43.0   32.0    True             True   \n",
       "2       6.0    999.9   0.09G    999.9   43.0   32.0    True             True   \n",
       "3       6.0    999.9   0.09G    999.9   43.0   32.0    True             True   \n",
       "4       6.0    999.9   0.09G    999.9   43.0   32.0    True             True   \n",
       "\n",
       "   OR_SNOW_ICE_PELLETS  OR_HAIL  OR_THUNDER  OR_TORNADO_FUNNEL_CLOUD  \\\n",
       "0                False    False       False                    False   \n",
       "1                False    False       False                    False   \n",
       "2                False    False       False                    False   \n",
       "3                False    False       False                    False   \n",
       "4                False    False       False                    False   \n",
       "\n",
       "   DES_TEMP  DES_VISIB  DES_WDSP  DES_MXSPD  DES_SNDP DES_PRCP  DES_GUST  \\\n",
       "0      32.9       10.0       4.6       11.1     999.9    0.00G     999.9   \n",
       "1      32.9       10.0       4.6       11.1     999.9    0.00G     999.9   \n",
       "2      32.9       10.0       4.6       11.1     999.9    0.00G     999.9   \n",
       "3      32.9       10.0       4.6       11.1     999.9    0.00G     999.9   \n",
       "4      32.9       10.0       4.6       11.1     999.9    0.00G     999.9   \n",
       "\n",
       "  DES_MAX DES_MIN  DES_FOG  DES_RAIN_DRIZZLE  DES_SNOW_ICE_PELLETS  DES_HAIL  \\\n",
       "0    42.1    26.1    False             False                 False     False   \n",
       "1    42.1    26.1    False             False                 False     False   \n",
       "2    42.1    26.1    False             False                 False     False   \n",
       "3    42.1    26.1    False             False                 False     False   \n",
       "4    42.1    26.1    False             False                 False     False   \n",
       "\n",
       "   DES_THUNDER  DES_TORNADO_FUNNEL_CLOUD  \n",
       "0        False                     False  \n",
       "1        False                     False  \n",
       "2        False                     False  \n",
       "3        False                     False  \n",
       "4        False                     False  "
      ]
     },
     "execution_count": 2,
     "metadata": {},
     "output_type": "execute_result"
    }
   ],
   "source": [
    "flights_weather_path = '../data/flight_delays_2015/flights_weather.csv'\n",
    "dtypes = {\n",
    "    'ORIGIN_AIRPORT': 'str', \n",
    "    'DESTINATION_AIRPORT': 'str', \n",
    "    'IATA_CODE_x': 'str', \n",
    "    'origin_weather_station': 'str', \n",
    "    'IATA_CODE_y': 'str', \n",
    "    'destination_weather_station': 'str', \n",
    "    'OR_MAX': 'str', \n",
    "    'OR_MIN': 'str', \n",
    "    'OR_PRCP': 'str', \n",
    "    'DES_MAX': 'str', \n",
    "    'DES_MIN': 'str', \n",
    "    'DES_PRCP': 'str', \n",
    "    'OR_FRSHTT': 'str', \n",
    "    'DES_FRSHTT': 'str'\n",
    "}\n",
    "fw_df = pd.read_csv(flights_weather_path, dtype=dtypes, parse_dates=['DATE'])\n",
    "fw_df = fw_df[['MONTH', 'DATE', 'ORIGIN_AIRPORT', 'WEATHER_DELAY', 'OR_TEMP', 'OR_VISIB', 'OR_WDSP', 'OR_MXSPD', 'OR_SNDP',\n",
    "               'OR_PRCP', 'OR_GUST', 'OR_MAX', 'OR_MIN', 'OR_FOG', 'OR_RAIN_DRIZZLE', 'OR_SNOW_ICE_PELLETS',\n",
    "               'OR_HAIL', 'OR_THUNDER', 'OR_TORNADO_FUNNEL_CLOUD', 'DES_TEMP', 'DES_VISIB', 'DES_WDSP',\n",
    "               'DES_MXSPD', 'DES_SNDP', 'DES_PRCP', 'DES_GUST', 'DES_MAX', 'DES_MIN', 'DES_FOG', 'DES_RAIN_DRIZZLE',\n",
    "               'DES_SNOW_ICE_PELLETS', 'DES_HAIL', 'DES_THUNDER', 'DES_TORNADO_FUNNEL_CLOUD']]\n",
    "#fw_df = fw_df.dropna()\n",
    "fw_df.head()"
   ]
  },
  {
   "cell_type": "code",
   "execution_count": 3,
   "metadata": {
    "collapsed": true
   },
   "outputs": [],
   "source": [
    "fw_df['OR_PRCP'] = pd.to_numeric(fw_df['OR_PRCP'].str.replace('A|B|C|D|E|F|G|H|I', ''))\n",
    "fw_df['OR_MAX'] = pd.to_numeric(fw_df['OR_MAX'].str.replace('*', ''))\n",
    "fw_df['OR_MIN'] = pd.to_numeric(fw_df['OR_MIN'].str.replace('*', ''))\n",
    "fw_df.loc[fw_df['OR_TEMP'] == 9999.9, 'OR_TEMP'] = fw_df.OR_TEMP.mean()\n",
    "fw_df.loc[fw_df['OR_WDSP'] == 999.9, 'OR_WDSP'] = fw_df.OR_WDSP.mean()\n",
    "fw_df.loc[fw_df['OR_PRCP'] == 99.99, 'OR_PRCP'] = 0\n",
    "fw_df.loc[fw_df['OR_VISIB'] == 999.9, 'OR_VISIB'] = fw_df.OR_VISIB.mean()\n",
    "fw_df.loc[fw_df['OR_GUST'] == 999.9, 'OR_GUST'] = fw_df.OR_GUST.mean()\n",
    "fw_df.loc[fw_df['OR_MAX'] == 9999.9, 'OR_MAX'] = fw_df.OR_MAX.mean()\n",
    "fw_df.loc[fw_df['OR_MIN'] == 9999.9, 'OR_MIN'] = fw_df.OR_MIN.mean()\n",
    "fw_df.loc[fw_df['OR_WDSP'] == 999.9, 'OR_WDSP'] = fw_df.OR_WDSP.mean()\n",
    "fw_df.loc[fw_df['OR_MXSPD'] == 999.9, 'OR_MXSPD'] = fw_df.OR_MXSPD.mean()\n",
    "fw_df.loc[fw_df['OR_SNDP'] == 999.9, 'OR_SNDP'] = 0\n",
    "fw_df.loc[fw_df['OR_FOG'] == True, 'OR_FOGV'] = 1\n",
    "fw_df.loc[fw_df['OR_FOG'] == False, 'OR_FOGV'] = 0\n",
    "fw_df.loc[fw_df['OR_RAIN_DRIZZLE'] == True, 'OR_RAIN_DRIZZLEV'] = 1\n",
    "fw_df.loc[fw_df['OR_RAIN_DRIZZLE'] == False, 'OR_RAIN_DRIZZLEV'] = 0\n",
    "fw_df.loc[fw_df['OR_SNOW_ICE_PELLETS'] == True, 'OR_SNOW_ICE_PELLETSV'] = 1\n",
    "fw_df.loc[fw_df['OR_SNOW_ICE_PELLETS'] == False, 'OR_SNOW_ICE_PELLETSV'] = 0\n",
    "fw_df.loc[fw_df['OR_HAIL'] == True, 'OR_HAILV'] = 1\n",
    "fw_df.loc[fw_df['OR_HAIL'] == False, 'OR_HAILV'] = 0\n",
    "fw_df.loc[fw_df['OR_THUNDER'] == True, 'OR_THUNDERV'] = 1\n",
    "fw_df.loc[fw_df['OR_THUNDER'] == False, 'OR_THUNDERV'] = 0\n",
    "fw_df.loc[fw_df['OR_TORNADO_FUNNEL_CLOUD'] == True, 'OR_TORNADO_FUNNEL_CLOUDV'] = 1\n",
    "fw_df.loc[fw_df['OR_TORNADO_FUNNEL_CLOUD'] == False, 'OR_TORNADO_FUNNEL_CLOUDV'] = 0\n",
    "fw_df.loc[fw_df['WEATHER_DELAY'].isnull(), 'WEATHER_DELAY'] = 0\n"
   ]
  },
  {
   "cell_type": "code",
   "execution_count": 4,
   "metadata": {
    "collapsed": true
   },
   "outputs": [],
   "source": [
    "fw_df = fw_df[['MONTH', 'DATE', 'ORIGIN_AIRPORT', 'WEATHER_DELAY', 'OR_TEMP', 'OR_VISIB', 'OR_WDSP', 'OR_MXSPD', 'OR_SNDP',\n",
    "               'OR_PRCP', 'OR_MAX', 'OR_MIN', 'OR_FOGV', 'OR_RAIN_DRIZZLEV', 'OR_SNOW_ICE_PELLETSV',\n",
    "               'OR_HAILV', 'OR_THUNDERV', 'OR_TORNADO_FUNNEL_CLOUDV']]"
   ]
  },
  {
   "cell_type": "code",
   "execution_count": 5,
   "metadata": {
    "collapsed": true
   },
   "outputs": [],
   "source": [
    "fw_airports = fw_df.groupby(['DATE', 'ORIGIN_AIRPORT'], as_index=False).mean()"
   ]
  },
  {
   "cell_type": "markdown",
   "metadata": {},
   "source": [
    "#### Train a SGD Regressor on Data"
   ]
  },
  {
   "cell_type": "code",
   "execution_count": 7,
   "metadata": {},
   "outputs": [
    {
     "name": "stderr",
     "output_type": "stream",
     "text": [
      "/home/tcox/Envs/Volag/local/lib/python2.7/site-packages/sklearn/cross_validation.py:41: DeprecationWarning: This module was deprecated in version 0.18 in favor of the model_selection module into which all the refactored classes and functions are moved. Also note that the interface of the new CV iterators are different from that of this module. This module will be removed in 0.20.\n",
      "  \"This module will be removed in 0.20.\", DeprecationWarning)\n"
     ]
    }
   ],
   "source": [
    "from sklearn.cross_validation import train_test_split\n",
    "X_train, X_test, y_train, y_test = train_test_split(fw_df[['OR_TEMP', 'OR_VISIB',\n",
    "               'OR_WDSP', 'OR_MXSPD', 'OR_SNDP', 'OR_PRCP','OR_MAX', 'OR_MIN', 'OR_FOGV',\n",
    "               'OR_RAIN_DRIZZLEV', 'OR_SNOW_ICE_PELLETSV', 'OR_HAILV', 'OR_THUNDERV', 'OR_TORNADO_FUNNEL_CLOUDV']],\n",
    "                                                    fw_df[['WEATHER_DELAY']])"
   ]
  },
  {
   "cell_type": "code",
   "execution_count": 23,
   "metadata": {},
   "outputs": [
    {
     "name": "stderr",
     "output_type": "stream",
     "text": [
      "/home/tcox/Envs/Volag/local/lib/python2.7/site-packages/sklearn/utils/validation.py:578: DataConversionWarning: A column-vector y was passed when a 1d array was expected. Please change the shape of y to (n_samples, ), for example using ravel().\n",
      "  y = column_or_1d(y, warn=True)\n"
     ]
    },
    {
     "data": {
      "text/plain": [
       "SGDRegressor(alpha=0.0001, average=False, epsilon=0.1, eta0=0.01,\n",
       "       fit_intercept=True, l1_ratio=0.15, learning_rate='invscaling',\n",
       "       loss='squared_loss', max_iter=None, n_iter=None, penalty='l2',\n",
       "       power_t=0.25, random_state=None, shuffle=True, tol=None, verbose=0,\n",
       "       warm_start=False)"
      ]
     },
     "execution_count": 23,
     "metadata": {},
     "output_type": "execute_result"
    }
   ],
   "source": [
    "from sklearn import linear_model\n",
    "clf = linear_model.SGDRegressor()\n",
    "clf.fit(X_train, y_train)"
   ]
  },
  {
   "cell_type": "code",
   "execution_count": 24,
   "metadata": {},
   "outputs": [
    {
     "data": {
      "text/plain": [
       "-2.2088787633529505e+18"
      ]
     },
     "execution_count": 24,
     "metadata": {},
     "output_type": "execute_result"
    }
   ],
   "source": [
    "clf.score(X_test, y_test)"
   ]
  },
  {
   "cell_type": "markdown",
   "metadata": {},
   "source": [
    "Based on this score, the model is the same as predicting the mean weather delay for all inputs (the negative score indicates that it is actually a little worse, but the value is essentially 0)."
   ]
  },
  {
   "cell_type": "code",
   "execution_count": 8,
   "metadata": {},
   "outputs": [],
   "source": [
    "X_train, X_test, y_train, y_test = train_test_split(fw_df[['OR_TEMP', 'OR_VISIB',\n",
    "               'OR_WDSP', 'OR_MXSPD', 'OR_SNDP', 'OR_PRCP','OR_MAX', 'OR_MIN']], fw_df[['WEATHER_DELAY']])"
   ]
  },
  {
   "cell_type": "code",
   "execution_count": 26,
   "metadata": {},
   "outputs": [
    {
     "data": {
      "text/plain": [
       "SGDRegressor(alpha=0.0001, average=False, epsilon=0.1, eta0=0.01,\n",
       "       fit_intercept=True, l1_ratio=0.15, learning_rate='invscaling',\n",
       "       loss='squared_loss', max_iter=None, n_iter=None, penalty='l2',\n",
       "       power_t=0.25, random_state=None, shuffle=True, tol=None, verbose=0,\n",
       "       warm_start=False)"
      ]
     },
     "execution_count": 26,
     "metadata": {},
     "output_type": "execute_result"
    }
   ],
   "source": [
    "clf = linear_model.SGDRegressor()\n",
    "clf.fit(X_train, y_train)"
   ]
  },
  {
   "cell_type": "code",
   "execution_count": 27,
   "metadata": {},
   "outputs": [
    {
     "data": {
      "text/plain": [
       "-8.9201568837612257e+19"
      ]
     },
     "execution_count": 27,
     "metadata": {},
     "output_type": "execute_result"
    }
   ],
   "source": [
    "clf.score(X_test, y_test)"
   ]
  },
  {
   "cell_type": "markdown",
   "metadata": {},
   "source": [
    "Training with fewer variables results in a model that is essentially the same."
   ]
  },
  {
   "cell_type": "markdown",
   "metadata": {},
   "source": [
    "#### Ridge Regressor"
   ]
  },
  {
   "cell_type": "code",
   "execution_count": 28,
   "metadata": {},
   "outputs": [
    {
     "data": {
      "text/plain": [
       "Ridge(alpha=1.0, copy_X=True, fit_intercept=True, max_iter=None,\n",
       "   normalize=False, random_state=None, solver='auto', tol=0.001)"
      ]
     },
     "execution_count": 28,
     "metadata": {},
     "output_type": "execute_result"
    }
   ],
   "source": [
    "from sklearn.linear_model import Ridge\n",
    "clf = clf = Ridge(alpha=1.0)\n",
    "clf.fit(X_train, y_train)"
   ]
  },
  {
   "cell_type": "code",
   "execution_count": 29,
   "metadata": {},
   "outputs": [
    {
     "data": {
      "text/plain": [
       "0.0045940073950920812"
      ]
     },
     "execution_count": 29,
     "metadata": {},
     "output_type": "execute_result"
    }
   ],
   "source": [
    "clf.score(X_test, y_test)"
   ]
  },
  {
   "cell_type": "markdown",
   "metadata": {},
   "source": [
    "The ridge regressor performs slightly better than estimating the mean, but not by much.\n",
    "\n",
    "\n",
    "#### Elastic Lasso"
   ]
  },
  {
   "cell_type": "code",
   "execution_count": 9,
   "metadata": {
    "collapsed": true
   },
   "outputs": [],
   "source": [
    "X_train, X_test, y_train, y_test = train_test_split(fw_df[['OR_TEMP', 'OR_VISIB',\n",
    "               'OR_WDSP', 'OR_SNDP', 'OR_PRCP']], fw_df[['WEATHER_DELAY']])"
   ]
  },
  {
   "cell_type": "code",
   "execution_count": null,
   "metadata": {
    "collapsed": true
   },
   "outputs": [],
   "source": [
    "from sklearn.linear_model import ElasticNet\n",
    "from sklearn.datasets import make_regression\n",
    "\n",
    "X, y = make_regression(n_features=2, random_state=0)\n",
    "regr = ElasticNet(random_state=0)\n",
    "regr.fit(X_train, y_train)"
   ]
  },
  {
   "cell_type": "code",
   "execution_count": null,
   "metadata": {
    "collapsed": true
   },
   "outputs": [],
   "source": [
    "regr.score(X_test, y_test)"
   ]
  },
  {
   "cell_type": "markdown",
   "metadata": {},
   "source": [
    "The Elastic Lass also performs about the same as predicting the mean for all inputs."
   ]
  },
  {
   "cell_type": "markdown",
   "metadata": {},
   "source": [
    "#### Support Vector Regressor"
   ]
  },
  {
   "cell_type": "code",
   "execution_count": null,
   "metadata": {
    "collapsed": true
   },
   "outputs": [],
   "source": [
    "from sklearn.svm import SVR\n",
    "clf = clf = SVR(C=1.0, epsilon=0.2)\n",
    "clf.fit(X_train, y_train)"
   ]
  },
  {
   "cell_type": "code",
   "execution_count": null,
   "metadata": {
    "collapsed": true
   },
   "outputs": [],
   "source": [
    "clf.score(X_test, y_test)"
   ]
  },
  {
   "cell_type": "markdown",
   "metadata": {},
   "source": [
    "The support vector regressor is actually signifigantly worse than predicting the mean for all inputs.\n",
    "\n"
   ]
  }
 ],
 "metadata": {
  "kernelspec": {
   "display_name": "Python 2",
   "language": "python",
   "name": "python2"
  },
  "language_info": {
   "codemirror_mode": {
    "name": "ipython",
    "version": 2
   },
   "file_extension": ".py",
   "mimetype": "text/x-python",
   "name": "python",
   "nbconvert_exporter": "python",
   "pygments_lexer": "ipython2",
   "version": "2.7.13"
  }
 },
 "nbformat": 4,
 "nbformat_minor": 2
}

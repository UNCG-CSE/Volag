{
 "cells": [
  {
   "cell_type": "markdown",
   "metadata": {},
   "source": [
    "# Statistical Analysis\n",
    "\n",
    "Includes statistical analysis, visualization, hypothesis testing, and a simple linear regression."
   ]
  },
  {
   "cell_type": "markdown",
   "metadata": {},
   "source": [
    "### Load the data set"
   ]
  },
  {
   "cell_type": "code",
   "execution_count": 1,
   "metadata": {
    "collapsed": true
   },
   "outputs": [],
   "source": [
    "import matplotlib.pyplot as plt\n",
    "import numpy as np\n",
    "import pandas as pd\n",
    "import scipy.stats as stats\n",
    "import seaborn as sns\n",
    "%matplotlib inline"
   ]
  },
  {
   "cell_type": "code",
   "execution_count": 2,
   "metadata": {},
   "outputs": [
    {
     "data": {
      "text/html": [
       "<div>\n",
       "<style>\n",
       "    .dataframe thead tr:only-child th {\n",
       "        text-align: right;\n",
       "    }\n",
       "\n",
       "    .dataframe thead th {\n",
       "        text-align: left;\n",
       "    }\n",
       "\n",
       "    .dataframe tbody tr th {\n",
       "        vertical-align: top;\n",
       "    }\n",
       "</style>\n",
       "<table border=\"1\" class=\"dataframe\">\n",
       "  <thead>\n",
       "    <tr style=\"text-align: right;\">\n",
       "      <th></th>\n",
       "      <th>YEAR</th>\n",
       "      <th>MONTH</th>\n",
       "      <th>DAY</th>\n",
       "      <th>DAY_OF_WEEK</th>\n",
       "      <th>AIRLINE</th>\n",
       "      <th>FLIGHT_NUMBER</th>\n",
       "      <th>TAIL_NUMBER</th>\n",
       "      <th>ORIGIN_AIRPORT</th>\n",
       "      <th>DESTINATION_AIRPORT</th>\n",
       "      <th>SCHEDULED_DEPARTURE</th>\n",
       "      <th>...</th>\n",
       "      <th>DES_COUNT_VISIB</th>\n",
       "      <th>DES_WDSP</th>\n",
       "      <th>DES_COUNT_WDSP</th>\n",
       "      <th>DES_MXSPD</th>\n",
       "      <th>DES_GUST</th>\n",
       "      <th>DES_MAX</th>\n",
       "      <th>DES_MIN</th>\n",
       "      <th>DES_PRCP</th>\n",
       "      <th>DES_SNDP</th>\n",
       "      <th>DES_FRSHTT</th>\n",
       "    </tr>\n",
       "  </thead>\n",
       "  <tbody>\n",
       "    <tr>\n",
       "      <th>0</th>\n",
       "      <td>2015</td>\n",
       "      <td>1</td>\n",
       "      <td>1</td>\n",
       "      <td>4</td>\n",
       "      <td>AS</td>\n",
       "      <td>98</td>\n",
       "      <td>N407AS</td>\n",
       "      <td>ANC</td>\n",
       "      <td>SEA</td>\n",
       "      <td>5</td>\n",
       "      <td>...</td>\n",
       "      <td>24.0</td>\n",
       "      <td>4.6</td>\n",
       "      <td>24.0</td>\n",
       "      <td>11.1</td>\n",
       "      <td>999.9</td>\n",
       "      <td>42.1</td>\n",
       "      <td>26.1</td>\n",
       "      <td>0.00G</td>\n",
       "      <td>999.9</td>\n",
       "      <td>000000</td>\n",
       "    </tr>\n",
       "    <tr>\n",
       "      <th>1</th>\n",
       "      <td>2015</td>\n",
       "      <td>1</td>\n",
       "      <td>1</td>\n",
       "      <td>4</td>\n",
       "      <td>AA</td>\n",
       "      <td>2336</td>\n",
       "      <td>N3KUAA</td>\n",
       "      <td>LAX</td>\n",
       "      <td>PBI</td>\n",
       "      <td>10</td>\n",
       "      <td>...</td>\n",
       "      <td>24.0</td>\n",
       "      <td>5.5</td>\n",
       "      <td>24.0</td>\n",
       "      <td>9.9</td>\n",
       "      <td>999.9</td>\n",
       "      <td>79.0</td>\n",
       "      <td>70.0</td>\n",
       "      <td>0.33G</td>\n",
       "      <td>999.9</td>\n",
       "      <td>010000</td>\n",
       "    </tr>\n",
       "    <tr>\n",
       "      <th>2</th>\n",
       "      <td>2015</td>\n",
       "      <td>1</td>\n",
       "      <td>1</td>\n",
       "      <td>4</td>\n",
       "      <td>US</td>\n",
       "      <td>840</td>\n",
       "      <td>N171US</td>\n",
       "      <td>SFO</td>\n",
       "      <td>CLT</td>\n",
       "      <td>20</td>\n",
       "      <td>...</td>\n",
       "      <td>24.0</td>\n",
       "      <td>2.3</td>\n",
       "      <td>24.0</td>\n",
       "      <td>7.0</td>\n",
       "      <td>999.9</td>\n",
       "      <td>53.1</td>\n",
       "      <td>26.1</td>\n",
       "      <td>0.00G</td>\n",
       "      <td>999.9</td>\n",
       "      <td>000000</td>\n",
       "    </tr>\n",
       "    <tr>\n",
       "      <th>3</th>\n",
       "      <td>2015</td>\n",
       "      <td>1</td>\n",
       "      <td>1</td>\n",
       "      <td>4</td>\n",
       "      <td>AA</td>\n",
       "      <td>258</td>\n",
       "      <td>N3HYAA</td>\n",
       "      <td>LAX</td>\n",
       "      <td>MIA</td>\n",
       "      <td>20</td>\n",
       "      <td>...</td>\n",
       "      <td>24.0</td>\n",
       "      <td>4.1</td>\n",
       "      <td>24.0</td>\n",
       "      <td>11.1</td>\n",
       "      <td>999.9</td>\n",
       "      <td>82.0</td>\n",
       "      <td>70.0</td>\n",
       "      <td>0.00G</td>\n",
       "      <td>999.9</td>\n",
       "      <td>000000</td>\n",
       "    </tr>\n",
       "    <tr>\n",
       "      <th>4</th>\n",
       "      <td>2015</td>\n",
       "      <td>1</td>\n",
       "      <td>1</td>\n",
       "      <td>4</td>\n",
       "      <td>AS</td>\n",
       "      <td>135</td>\n",
       "      <td>N527AS</td>\n",
       "      <td>SEA</td>\n",
       "      <td>ANC</td>\n",
       "      <td>25</td>\n",
       "      <td>...</td>\n",
       "      <td>24.0</td>\n",
       "      <td>3.6</td>\n",
       "      <td>24.0</td>\n",
       "      <td>6.0</td>\n",
       "      <td>999.9</td>\n",
       "      <td>43.0</td>\n",
       "      <td>32.0</td>\n",
       "      <td>0.09G</td>\n",
       "      <td>999.9</td>\n",
       "      <td>110000</td>\n",
       "    </tr>\n",
       "  </tbody>\n",
       "</table>\n",
       "<p>5 rows × 74 columns</p>\n",
       "</div>"
      ],
      "text/plain": [
       "   YEAR  MONTH  DAY  DAY_OF_WEEK AIRLINE  FLIGHT_NUMBER TAIL_NUMBER  \\\n",
       "0  2015      1    1            4      AS             98      N407AS   \n",
       "1  2015      1    1            4      AA           2336      N3KUAA   \n",
       "2  2015      1    1            4      US            840      N171US   \n",
       "3  2015      1    1            4      AA            258      N3HYAA   \n",
       "4  2015      1    1            4      AS            135      N527AS   \n",
       "\n",
       "  ORIGIN_AIRPORT DESTINATION_AIRPORT  SCHEDULED_DEPARTURE     ...      \\\n",
       "0            ANC                 SEA                    5     ...       \n",
       "1            LAX                 PBI                   10     ...       \n",
       "2            SFO                 CLT                   20     ...       \n",
       "3            LAX                 MIA                   20     ...       \n",
       "4            SEA                 ANC                   25     ...       \n",
       "\n",
       "   DES_COUNT_VISIB  DES_WDSP  DES_COUNT_WDSP  DES_MXSPD  DES_GUST  DES_MAX  \\\n",
       "0             24.0       4.6            24.0       11.1     999.9     42.1   \n",
       "1             24.0       5.5            24.0        9.9     999.9     79.0   \n",
       "2             24.0       2.3            24.0        7.0     999.9     53.1   \n",
       "3             24.0       4.1            24.0       11.1     999.9     82.0   \n",
       "4             24.0       3.6            24.0        6.0     999.9     43.0   \n",
       "\n",
       "   DES_MIN  DES_PRCP  DES_SNDP  DES_FRSHTT  \n",
       "0     26.1     0.00G     999.9      000000  \n",
       "1     70.0     0.33G     999.9      010000  \n",
       "2     26.1     0.00G     999.9      000000  \n",
       "3     70.0     0.00G     999.9      000000  \n",
       "4     32.0     0.09G     999.9      110000  \n",
       "\n",
       "[5 rows x 74 columns]"
      ]
     },
     "execution_count": 2,
     "metadata": {},
     "output_type": "execute_result"
    }
   ],
   "source": [
    "# Load data and set data types\n",
    "flights_weather_path = '../data/flights_weather.csv'\n",
    "dtypes = {\n",
    "    'ORIGIN_AIRPORT': 'str',\n",
    "    'DESTINATION_AIRPORT': 'str', \n",
    "    'IATA_CODE_x': 'str', \n",
    "    'origin_weather_station': 'str', \n",
    "    'IATA_CODE_y': 'str', \n",
    "    'destination_weather_station': 'str', \n",
    "    'OR_MAX': 'str', \n",
    "    'OR_MIN': 'str', \n",
    "    'OR_PRCP': 'str', \n",
    "    'DES_MAX': 'str', \n",
    "    'DES_MIN': 'str', \n",
    "    'DES_PRCP': 'str', \n",
    "    'OR_FRSHTT': 'str', \n",
    "    'DES_FRSHTT': 'str'\n",
    "}\n",
    "fw = pd.read_csv(flights_weather_path, dtype=dtypes, parse_dates=['DATE'])\n",
    "\n",
    "# Convert some columns to numeric data\n",
    "fw['OR_PRCP'] = pd.to_numeric(fw['OR_PRCP'].str.replace('A|B|C|D|E|F|G|H|I', ''))\n",
    "fw['OR_MIN'] = pd.to_numeric(fw['OR_MIN'].str.replace('*', ''))\n",
    "fw['OR_MAX'] = pd.to_numeric(fw['OR_MAX'].str.replace('*', ''))\n",
    "\n",
    "# Some fields use 9's to indicate that an observation is missing. Remove these values.\n",
    "fw.loc[fw['OR_TEMP'] == 9999.9, 'OR_TEMP'] = np.NaN\n",
    "fw.loc[fw['OR_MIN'] == 9999.9, 'OR_MIN'] = np.NaN\n",
    "fw.loc[fw['OR_MAX'] == 9999.9, 'OR_MAX'] = np.NaN\n",
    "fw.loc[fw['OR_WDSP'] == 999.9, 'OR_WDSP'] = np.NaN\n",
    "fw.loc[fw['OR_MXSPD'] == 999.9, 'OR_MXSPD'] = np.NaN\n",
    "fw.loc[fw['OR_GUST'] == 999.9, 'OR_GUST'] = np.NaN\n",
    "fw.loc[fw['OR_SNDP'] == 999.9, 'OR_SNDP'] = np.NaN\n",
    "fw.loc[fw['OR_PRCP'] == 99.99, 'OR_PRCP'] = np.NaN\n",
    "\n",
    "fw.drop('Unnamed: 0', axis=1, inplace=True)\n",
    "\n",
    "fw.head()"
   ]
  },
  {
   "cell_type": "markdown",
   "metadata": {},
   "source": [
    "***\n",
    "## Part 1\n",
    "\n",
    "* **Conduct Decriptive Analytics (Mean, Median, Quartile) calculation by each division of Date-Time**\n",
    "* **Calculate divergence of mean and median in your data**\n",
    "* **Visualize the data and draw inferences**\n",
    "***"
   ]
  },
  {
   "cell_type": "markdown",
   "metadata": {},
   "source": [
    "### Mean\n",
    "\n",
    "First, let's group the data by month and calculate the mean of 'ARRIVAL_DELAY'\n",
    "\n",
    "There are some flights where the departure delay is higher than the arrival delay (ie. the plane made time up in the air)\n",
    "\n",
    "Passengers care more about how late their flight is upon arrival so we'll focus on this column for analysis"
   ]
  },
  {
   "cell_type": "code",
   "execution_count": 3,
   "metadata": {},
   "outputs": [
    {
     "data": {
      "text/plain": [
       "MONTH\n",
       "1     5.813583\n",
       "2     8.320500\n",
       "3     4.920673\n",
       "4     3.163190\n",
       "5     4.485019\n",
       "6     9.601590\n",
       "7     6.431775\n",
       "8     4.607372\n",
       "9    -0.772571\n",
       "10   -0.780390\n",
       "11    1.100784\n",
       "12    6.092903\n",
       "Name: ARRIVAL_DELAY, dtype: float64"
      ]
     },
     "execution_count": 3,
     "metadata": {},
     "output_type": "execute_result"
    }
   ],
   "source": [
    "fw.groupby('MONTH')['ARRIVAL_DELAY'].mean()"
   ]
  },
  {
   "cell_type": "markdown",
   "metadata": {},
   "source": [
    "The means aren't too high. Also, the values seem somewhat scattered throughout the year. One might guess that there would be higher delays in the winter, but that doesn't appear to be the case at first glance.\n",
    "\n",
    "More on this later when we start visualizing."
   ]
  },
  {
   "cell_type": "markdown",
   "metadata": {},
   "source": [
    "### Median\n",
    "\n",
    "Calculate the median of the delay times"
   ]
  },
  {
   "cell_type": "code",
   "execution_count": 4,
   "metadata": {},
   "outputs": [
    {
     "data": {
      "text/plain": [
       "MONTH\n",
       "1    -4.0\n",
       "2    -2.0\n",
       "3    -4.0\n",
       "4    -5.0\n",
       "5    -5.0\n",
       "6    -3.0\n",
       "7    -4.0\n",
       "8    -5.0\n",
       "9    -7.0\n",
       "10   -7.0\n",
       "11   -6.0\n",
       "12   -5.0\n",
       "Name: ARRIVAL_DELAY, dtype: float64"
      ]
     },
     "execution_count": 4,
     "metadata": {},
     "output_type": "execute_result"
    }
   ],
   "source": [
    "fw.groupby('MONTH')['ARRIVAL_DELAY'].median()"
   ]
  },
  {
   "cell_type": "markdown",
   "metadata": {},
   "source": [
    "Interesting, the median of the arrival delays is actually negative (flights that arrived earlier than scheduled)"
   ]
  },
  {
   "cell_type": "markdown",
   "metadata": {},
   "source": [
    "### Quartile\n",
    "\n",
    "Calculate the 5 number summaries (quartiles) for each month."
   ]
  },
  {
   "cell_type": "code",
   "execution_count": 5,
   "metadata": {},
   "outputs": [
    {
     "data": {
      "text/html": [
       "<div>\n",
       "<style>\n",
       "    .dataframe thead tr:only-child th {\n",
       "        text-align: right;\n",
       "    }\n",
       "\n",
       "    .dataframe thead th {\n",
       "        text-align: left;\n",
       "    }\n",
       "\n",
       "    .dataframe tbody tr th {\n",
       "        vertical-align: top;\n",
       "    }\n",
       "</style>\n",
       "<table border=\"1\" class=\"dataframe\">\n",
       "  <thead>\n",
       "    <tr style=\"text-align: right;\">\n",
       "      <th></th>\n",
       "      <th>min</th>\n",
       "      <th>25%</th>\n",
       "      <th>50%</th>\n",
       "      <th>75%</th>\n",
       "      <th>max</th>\n",
       "    </tr>\n",
       "    <tr>\n",
       "      <th>MONTH</th>\n",
       "      <th></th>\n",
       "      <th></th>\n",
       "      <th></th>\n",
       "      <th></th>\n",
       "      <th></th>\n",
       "    </tr>\n",
       "  </thead>\n",
       "  <tbody>\n",
       "    <tr>\n",
       "      <th>1</th>\n",
       "      <td>-82.0</td>\n",
       "      <td>-13.0</td>\n",
       "      <td>-4.0</td>\n",
       "      <td>10.0</td>\n",
       "      <td>1971.0</td>\n",
       "    </tr>\n",
       "    <tr>\n",
       "      <th>2</th>\n",
       "      <td>-79.0</td>\n",
       "      <td>-12.0</td>\n",
       "      <td>-2.0</td>\n",
       "      <td>13.0</td>\n",
       "      <td>1627.0</td>\n",
       "    </tr>\n",
       "    <tr>\n",
       "      <th>3</th>\n",
       "      <td>-87.0</td>\n",
       "      <td>-13.0</td>\n",
       "      <td>-4.0</td>\n",
       "      <td>9.0</td>\n",
       "      <td>1598.0</td>\n",
       "    </tr>\n",
       "    <tr>\n",
       "      <th>4</th>\n",
       "      <td>-87.0</td>\n",
       "      <td>-13.0</td>\n",
       "      <td>-5.0</td>\n",
       "      <td>7.0</td>\n",
       "      <td>1554.0</td>\n",
       "    </tr>\n",
       "    <tr>\n",
       "      <th>5</th>\n",
       "      <td>-76.0</td>\n",
       "      <td>-13.0</td>\n",
       "      <td>-5.0</td>\n",
       "      <td>7.0</td>\n",
       "      <td>1480.0</td>\n",
       "    </tr>\n",
       "    <tr>\n",
       "      <th>6</th>\n",
       "      <td>-66.0</td>\n",
       "      <td>-12.0</td>\n",
       "      <td>-3.0</td>\n",
       "      <td>13.0</td>\n",
       "      <td>1508.0</td>\n",
       "    </tr>\n",
       "    <tr>\n",
       "      <th>7</th>\n",
       "      <td>-73.0</td>\n",
       "      <td>-12.0</td>\n",
       "      <td>-4.0</td>\n",
       "      <td>10.0</td>\n",
       "      <td>1636.0</td>\n",
       "    </tr>\n",
       "    <tr>\n",
       "      <th>8</th>\n",
       "      <td>-80.0</td>\n",
       "      <td>-13.0</td>\n",
       "      <td>-5.0</td>\n",
       "      <td>7.0</td>\n",
       "      <td>1898.0</td>\n",
       "    </tr>\n",
       "    <tr>\n",
       "      <th>9</th>\n",
       "      <td>-73.0</td>\n",
       "      <td>-15.0</td>\n",
       "      <td>-7.0</td>\n",
       "      <td>3.0</td>\n",
       "      <td>1665.0</td>\n",
       "    </tr>\n",
       "    <tr>\n",
       "      <th>10</th>\n",
       "      <td>-81.0</td>\n",
       "      <td>-14.0</td>\n",
       "      <td>-7.0</td>\n",
       "      <td>3.0</td>\n",
       "      <td>1555.0</td>\n",
       "    </tr>\n",
       "    <tr>\n",
       "      <th>11</th>\n",
       "      <td>-80.0</td>\n",
       "      <td>-15.0</td>\n",
       "      <td>-6.0</td>\n",
       "      <td>5.0</td>\n",
       "      <td>1638.0</td>\n",
       "    </tr>\n",
       "    <tr>\n",
       "      <th>12</th>\n",
       "      <td>-80.0</td>\n",
       "      <td>-14.0</td>\n",
       "      <td>-5.0</td>\n",
       "      <td>10.0</td>\n",
       "      <td>1636.0</td>\n",
       "    </tr>\n",
       "  </tbody>\n",
       "</table>\n",
       "</div>"
      ],
      "text/plain": [
       "        min   25%  50%   75%     max\n",
       "MONTH                               \n",
       "1     -82.0 -13.0 -4.0  10.0  1971.0\n",
       "2     -79.0 -12.0 -2.0  13.0  1627.0\n",
       "3     -87.0 -13.0 -4.0   9.0  1598.0\n",
       "4     -87.0 -13.0 -5.0   7.0  1554.0\n",
       "5     -76.0 -13.0 -5.0   7.0  1480.0\n",
       "6     -66.0 -12.0 -3.0  13.0  1508.0\n",
       "7     -73.0 -12.0 -4.0  10.0  1636.0\n",
       "8     -80.0 -13.0 -5.0   7.0  1898.0\n",
       "9     -73.0 -15.0 -7.0   3.0  1665.0\n",
       "10    -81.0 -14.0 -7.0   3.0  1555.0\n",
       "11    -80.0 -15.0 -6.0   5.0  1638.0\n",
       "12    -80.0 -14.0 -5.0  10.0  1636.0"
      ]
     },
     "execution_count": 5,
     "metadata": {},
     "output_type": "execute_result"
    }
   ],
   "source": [
    "fw.groupby('MONTH')['ARRIVAL_DELAY'].describe()[['min', '25%', '50%', '75%', 'max']]"
   ]
  },
  {
   "cell_type": "code",
   "execution_count": 7,
   "metadata": {
    "scrolled": false
   },
   "outputs": [
    {
     "data": {
      "text/html": [
       "<div>\n",
       "<style>\n",
       "    .dataframe thead tr:only-child th {\n",
       "        text-align: right;\n",
       "    }\n",
       "\n",
       "    .dataframe thead th {\n",
       "        text-align: left;\n",
       "    }\n",
       "\n",
       "    .dataframe tbody tr th {\n",
       "        vertical-align: top;\n",
       "    }\n",
       "</style>\n",
       "<table border=\"1\" class=\"dataframe\">\n",
       "  <thead>\n",
       "    <tr style=\"text-align: right;\">\n",
       "      <th></th>\n",
       "      <th>count</th>\n",
       "      <th>mean</th>\n",
       "      <th>std</th>\n",
       "      <th>min</th>\n",
       "      <th>25%</th>\n",
       "      <th>50%</th>\n",
       "      <th>75%</th>\n",
       "      <th>max</th>\n",
       "    </tr>\n",
       "    <tr>\n",
       "      <th>MONTH</th>\n",
       "      <th></th>\n",
       "      <th></th>\n",
       "      <th></th>\n",
       "      <th></th>\n",
       "      <th></th>\n",
       "      <th></th>\n",
       "      <th></th>\n",
       "      <th></th>\n",
       "    </tr>\n",
       "  </thead>\n",
       "  <tbody>\n",
       "    <tr>\n",
       "      <th>1</th>\n",
       "      <td>457013.0</td>\n",
       "      <td>5.81</td>\n",
       "      <td>39.41</td>\n",
       "      <td>-82.0</td>\n",
       "      <td>-13.0</td>\n",
       "      <td>-4.0</td>\n",
       "      <td>10.0</td>\n",
       "      <td>1971.0</td>\n",
       "    </tr>\n",
       "    <tr>\n",
       "      <th>2</th>\n",
       "      <td>407663.0</td>\n",
       "      <td>8.32</td>\n",
       "      <td>43.17</td>\n",
       "      <td>-79.0</td>\n",
       "      <td>-12.0</td>\n",
       "      <td>-2.0</td>\n",
       "      <td>13.0</td>\n",
       "      <td>1627.0</td>\n",
       "    </tr>\n",
       "    <tr>\n",
       "      <th>3</th>\n",
       "      <td>492138.0</td>\n",
       "      <td>4.92</td>\n",
       "      <td>39.21</td>\n",
       "      <td>-87.0</td>\n",
       "      <td>-13.0</td>\n",
       "      <td>-4.0</td>\n",
       "      <td>9.0</td>\n",
       "      <td>1598.0</td>\n",
       "    </tr>\n",
       "    <tr>\n",
       "      <th>4</th>\n",
       "      <td>479251.0</td>\n",
       "      <td>3.16</td>\n",
       "      <td>36.59</td>\n",
       "      <td>-87.0</td>\n",
       "      <td>-13.0</td>\n",
       "      <td>-5.0</td>\n",
       "      <td>7.0</td>\n",
       "      <td>1554.0</td>\n",
       "    </tr>\n",
       "    <tr>\n",
       "      <th>5</th>\n",
       "      <td>489641.0</td>\n",
       "      <td>4.49</td>\n",
       "      <td>39.86</td>\n",
       "      <td>-76.0</td>\n",
       "      <td>-13.0</td>\n",
       "      <td>-5.0</td>\n",
       "      <td>7.0</td>\n",
       "      <td>1480.0</td>\n",
       "    </tr>\n",
       "    <tr>\n",
       "      <th>6</th>\n",
       "      <td>492847.0</td>\n",
       "      <td>9.60</td>\n",
       "      <td>45.00</td>\n",
       "      <td>-66.0</td>\n",
       "      <td>-12.0</td>\n",
       "      <td>-3.0</td>\n",
       "      <td>13.0</td>\n",
       "      <td>1508.0</td>\n",
       "    </tr>\n",
       "    <tr>\n",
       "      <th>7</th>\n",
       "      <td>514384.0</td>\n",
       "      <td>6.43</td>\n",
       "      <td>39.43</td>\n",
       "      <td>-73.0</td>\n",
       "      <td>-12.0</td>\n",
       "      <td>-4.0</td>\n",
       "      <td>10.0</td>\n",
       "      <td>1636.0</td>\n",
       "    </tr>\n",
       "    <tr>\n",
       "      <th>8</th>\n",
       "      <td>503956.0</td>\n",
       "      <td>4.61</td>\n",
       "      <td>38.72</td>\n",
       "      <td>-80.0</td>\n",
       "      <td>-13.0</td>\n",
       "      <td>-5.0</td>\n",
       "      <td>7.0</td>\n",
       "      <td>1898.0</td>\n",
       "    </tr>\n",
       "    <tr>\n",
       "      <th>9</th>\n",
       "      <td>462153.0</td>\n",
       "      <td>-0.77</td>\n",
       "      <td>32.33</td>\n",
       "      <td>-73.0</td>\n",
       "      <td>-15.0</td>\n",
       "      <td>-7.0</td>\n",
       "      <td>3.0</td>\n",
       "      <td>1665.0</td>\n",
       "    </tr>\n",
       "    <tr>\n",
       "      <th>10</th>\n",
       "      <td>482878.0</td>\n",
       "      <td>-0.78</td>\n",
       "      <td>32.72</td>\n",
       "      <td>-81.0</td>\n",
       "      <td>-14.0</td>\n",
       "      <td>-7.0</td>\n",
       "      <td>3.0</td>\n",
       "      <td>1555.0</td>\n",
       "    </tr>\n",
       "    <tr>\n",
       "      <th>11</th>\n",
       "      <td>462367.0</td>\n",
       "      <td>1.10</td>\n",
       "      <td>36.82</td>\n",
       "      <td>-80.0</td>\n",
       "      <td>-15.0</td>\n",
       "      <td>-6.0</td>\n",
       "      <td>5.0</td>\n",
       "      <td>1638.0</td>\n",
       "    </tr>\n",
       "    <tr>\n",
       "      <th>12</th>\n",
       "      <td>469717.0</td>\n",
       "      <td>6.09</td>\n",
       "      <td>44.53</td>\n",
       "      <td>-80.0</td>\n",
       "      <td>-14.0</td>\n",
       "      <td>-5.0</td>\n",
       "      <td>10.0</td>\n",
       "      <td>1636.0</td>\n",
       "    </tr>\n",
       "  </tbody>\n",
       "</table>\n",
       "</div>"
      ],
      "text/plain": [
       "          count  mean    std   min   25%  50%   75%     max\n",
       "MONTH                                                      \n",
       "1      457013.0  5.81  39.41 -82.0 -13.0 -4.0  10.0  1971.0\n",
       "2      407663.0  8.32  43.17 -79.0 -12.0 -2.0  13.0  1627.0\n",
       "3      492138.0  4.92  39.21 -87.0 -13.0 -4.0   9.0  1598.0\n",
       "4      479251.0  3.16  36.59 -87.0 -13.0 -5.0   7.0  1554.0\n",
       "5      489641.0  4.49  39.86 -76.0 -13.0 -5.0   7.0  1480.0\n",
       "6      492847.0  9.60  45.00 -66.0 -12.0 -3.0  13.0  1508.0\n",
       "7      514384.0  6.43  39.43 -73.0 -12.0 -4.0  10.0  1636.0\n",
       "8      503956.0  4.61  38.72 -80.0 -13.0 -5.0   7.0  1898.0\n",
       "9      462153.0 -0.77  32.33 -73.0 -15.0 -7.0   3.0  1665.0\n",
       "10     482878.0 -0.78  32.72 -81.0 -14.0 -7.0   3.0  1555.0\n",
       "11     462367.0  1.10  36.82 -80.0 -15.0 -6.0   5.0  1638.0\n",
       "12     469717.0  6.09  44.53 -80.0 -14.0 -5.0  10.0  1636.0"
      ]
     },
     "execution_count": 7,
     "metadata": {},
     "output_type": "execute_result"
    }
   ],
   "source": [
    "fw.groupby('MONTH')['ARRIVAL_DELAY'].describe().round(decimals=2)"
   ]
  },
  {
   "cell_type": "markdown",
   "metadata": {},
   "source": [
    "Wow, these max values are pretty high - as high as 30 hours. But, I guess that does make sense if a flight was delayed overnight. Though, I'm surprised these aren't just cancelled."
   ]
  },
  {
   "cell_type": "markdown",
   "metadata": {},
   "source": [
    "### Standard Deviation and Median Absolute Deviation"
   ]
  },
  {
   "cell_type": "code",
   "execution_count": 6,
   "metadata": {},
   "outputs": [
    {
     "name": "stdout",
     "output_type": "stream",
     "text": [
      "\n",
      "Standard Deviation = 39.2712970939\n",
      "Median Absolute Deviation = 14.826\n",
      "\n"
     ]
    }
   ],
   "source": [
    "std_dev = fw['ARRIVAL_DELAY'].std()\n",
    "\n",
    "abs_median_dev = abs(fw['ARRIVAL_DELAY'] - fw['ARRIVAL_DELAY'].median())\n",
    "abs_median_dev = abs_median_dev.median() * 1.4826\n",
    "\n",
    "print\n",
    "print 'Standard Deviation = ' + str(std_dev)\n",
    "print 'Median Absolute Deviation = ' + str(abs_median_dev)\n",
    "print"
   ]
  },
  {
   "cell_type": "markdown",
   "metadata": {},
   "source": [
    "### Divergence of Mean and Median"
   ]
  },
  {
   "cell_type": "code",
   "execution_count": 94,
   "metadata": {},
   "outputs": [
    {
     "data": {
      "text/plain": [
       "<matplotlib.collections.LineCollection at 0x13794a090>"
      ]
     },
     "execution_count": 94,
     "metadata": {},
     "output_type": "execute_result"
    },
    {
     "data": {
      "image/png": "[encoded data removed]",
      "text/plain": [
       "<matplotlib.figure.Figure at 0x133cae350>"
      ]
     },
     "metadata": {},
     "output_type": "display_data"
    }
   ],
   "source": [
    "fw['ARRIVAL_DELAY'].plot(kind='density', figsize=(10, 10))\n",
    "\n",
    "plt.vlines(fw['ARRIVAL_DELAY'].mean(), ymin=0, ymax=0.030, linewidth=1.0)\n",
    "plt.vlines(fw['ARRIVAL_DELAY'].median(), ymin=0, ymax=0.030, linewidth=1.0, color='red')"
   ]
  },
  {
   "cell_type": "markdown",
   "metadata": {},
   "source": [
    "There is very little divergence between the mean and median."
   ]
  },
  {
   "cell_type": "markdown",
   "metadata": {},
   "source": [
    "### Visualization\n",
    "\n",
    "#### Boxplots of distributions by month\n",
    "\n",
    "Let's take a look at some boxplots to see how the data is distributed"
   ]
  },
  {
   "cell_type": "code",
   "execution_count": 7,
   "metadata": {},
   "outputs": [
    {
     "data": {
      "text/plain": [
       "1          Axes(0.1,0.736957;0.235294x0.163043)\n",
       "2     Axes(0.382353,0.736957;0.235294x0.163043)\n",
       "3     Axes(0.664706,0.736957;0.235294x0.163043)\n",
       "4          Axes(0.1,0.541304;0.235294x0.163043)\n",
       "5     Axes(0.382353,0.541304;0.235294x0.163043)\n",
       "6     Axes(0.664706,0.541304;0.235294x0.163043)\n",
       "7          Axes(0.1,0.345652;0.235294x0.163043)\n",
       "8     Axes(0.382353,0.345652;0.235294x0.163043)\n",
       "9     Axes(0.664706,0.345652;0.235294x0.163043)\n",
       "10             Axes(0.1,0.15;0.235294x0.163043)\n",
       "11        Axes(0.382353,0.15;0.235294x0.163043)\n",
       "12        Axes(0.664706,0.15;0.235294x0.163043)\n",
       "dtype: object"
      ]
     },
     "execution_count": 7,
     "metadata": {},
     "output_type": "execute_result"
    },
    {
     "data": {
      "image/png": "[encoded data removed]",
      "text/plain": [
       "<matplotlib.figure.Figure at 0x1095f5cd0>"
      ]
     },
     "metadata": {},
     "output_type": "display_data"
    }
   ],
   "source": [
    "fw_by_month = fw.groupby('MONTH')\n",
    "fw_by_month.boxplot(column='ARRIVAL_DELAY', by='MONTH', figsize=(8, 20))"
   ]
  },
  {
   "cell_type": "markdown",
   "metadata": {},
   "source": [
    "These box plots aren't pretty. As we've seen in the previous sections, the means for delay time are pretty low, but there are really long whiskers above the means. It looks like all of the quartiles are pretty tightly centered around the mean, so the **majority** of flights are low-delay.\n",
    "\n",
    "Also, the max, mins, and means are all pretty consistent month-to-month. We see at least a few very high (24+ hour) delays each month, along with flights that actually arrived early. There doesn't appear to be any significant difference between any of the months."
   ]
  },
  {
   "cell_type": "markdown",
   "metadata": {},
   "source": [
    "### Outliers\n",
    "\n",
    "Looking at the boxplots above, it looks like we might have a lot of outliers that our skewing our data.\n",
    "\n",
    "As a sanity check, let's check a histogram to see how the distribution looks."
   ]
  },
  {
   "cell_type": "code",
   "execution_count": 9,
   "metadata": {},
   "outputs": [
    {
     "data": {
      "image/png": "[encoded data removed]",
      "text/plain": [
       "<matplotlib.figure.Figure at 0x1166b3d90>"
      ]
     },
     "metadata": {},
     "output_type": "display_data"
    }
   ],
   "source": [
    "fw['ARRIVAL_DELAY'].plot(kind='hist', bins=1000, title='Histogram of Arrival Delays (Full Data Set)')\n",
    "plt.xlabel('Delay Time (Minutes)')\n",
    "plt.ylabel('Frequency')\n",
    "\n",
    "plt.tight_layout()\n",
    "plt.savefig('../out/images/arrival_delay_hist_full.png', dpi=300)"
   ]
  },
  {
   "cell_type": "markdown",
   "metadata": {},
   "source": [
    "It does look like the vast majority of our observations are right around the same area (between about -50 and 250). While we have some values that go as high as 2000, there are so few observations that we could throw many of these out.\n",
    "\n",
    "The main section of the distribution seems to be shaped like a normal distribution. As such, let's try removing any values that don't fall within 3$\\sigma$ (3 * standard deviation) of the mean"
   ]
  },
  {
   "cell_type": "code",
   "execution_count": 7,
   "metadata": {
    "collapsed": true
   },
   "outputs": [],
   "source": [
    "fw_trim = fw[np.abs(fw['ARRIVAL_DELAY'] - fw['ARRIVAL_DELAY'].mean()) <= (3*fw['ARRIVAL_DELAY'].std())]"
   ]
  },
  {
   "cell_type": "markdown",
   "metadata": {},
   "source": [
    "Let's try looking at the histogram and boxplots on this trimmed data set."
   ]
  },
  {
   "cell_type": "code",
   "execution_count": null,
   "metadata": {},
   "outputs": [],
   "source": [
    "fw_trim['ARRIVAL_DELAY'].plot(kind='hist', bins=50, title='Histogram of Arrival Delays (Outliers Removed)')\n",
    "plt.xlabel('Delay Time (Minutes)')\n",
    "plt.ylabel('Frequency')\n",
    "\n",
    "plt.tight_layout()\n",
    "plt.savefig('../out/images/arrival_delay_hist_no_outliers.png', dpi=300)"
   ]
  },
  {
   "cell_type": "code",
   "execution_count": 12,
   "metadata": {},
   "outputs": [
    {
     "data": {
      "text/plain": [
       "1          Axes(0.1,0.736957;0.235294x0.163043)\n",
       "2     Axes(0.382353,0.736957;0.235294x0.163043)\n",
       "3     Axes(0.664706,0.736957;0.235294x0.163043)\n",
       "4          Axes(0.1,0.541304;0.235294x0.163043)\n",
       "5     Axes(0.382353,0.541304;0.235294x0.163043)\n",
       "6     Axes(0.664706,0.541304;0.235294x0.163043)\n",
       "7          Axes(0.1,0.345652;0.235294x0.163043)\n",
       "8     Axes(0.382353,0.345652;0.235294x0.163043)\n",
       "9     Axes(0.664706,0.345652;0.235294x0.163043)\n",
       "10             Axes(0.1,0.15;0.235294x0.163043)\n",
       "11        Axes(0.382353,0.15;0.235294x0.163043)\n",
       "12        Axes(0.664706,0.15;0.235294x0.163043)\n",
       "dtype: object"
      ]
     },
     "execution_count": 12,
     "metadata": {},
     "output_type": "execute_result"
    },
    {
     "data": {
      "image/png": "[encoded data removed]",
      "text/plain": [
       "<matplotlib.figure.Figure at 0x1d0107710>"
      ]
     },
     "metadata": {},
     "output_type": "display_data"
    }
   ],
   "source": [
    "fw_trim_by_month = fw_trim.groupby('MONTH')\n",
    "fw_trim_by_month.boxplot(column='ARRIVAL_DELAY', by='MONTH', figsize=(8, 20))"
   ]
  },
  {
   "cell_type": "markdown",
   "metadata": {},
   "source": [
    "That looks much better. Let's continue using the trimmed data in the rest of our visualizations. For good measure, we'll also plot the full data set too."
   ]
  },
  {
   "cell_type": "markdown",
   "metadata": {},
   "source": [
    "#### Average delay time per month\n",
    "Let's start by looking at the average delay time per month. We already saw the mean values above. Now let's look at them graphically."
   ]
  },
  {
   "cell_type": "code",
   "execution_count": 76,
   "metadata": {},
   "outputs": [
    {
     "data": {
      "text/plain": [
       "<matplotlib.text.Text at 0x14c44a450>"
      ]
     },
     "execution_count": 76,
     "metadata": {},
     "output_type": "execute_result"
    },
    {
     "data": {
      "image/png": "[encoded data removed]",
      "text/plain": [
       "<matplotlib.figure.Figure at 0x14c4389d0>"
      ]
     },
     "metadata": {},
     "output_type": "display_data"
    }
   ],
   "source": [
    "fw_avg_delay = fw.groupby('MONTH', as_index=False)['ARRIVAL_DELAY'].mean()\n",
    "fw_avg_delay.plot('MONTH', 'ARRIVAL_DELAY', kind='bar', legend=False, title='Average Arrival Delay by Month (Full Data Set)')\n",
    "plt.xlabel('Month')\n",
    "plt.ylabel('Average Delay Time (Minutes)')\n",
    "\n",
    "plt.tight_layou"
   ]
  },
  {
   "cell_type": "markdown",
   "metadata": {},
   "source": [
    "It looks like the highest average delays are in the winter and summer months (Dec - Feb, Jun - Jul). This *could* mean that more extreme temperatures affect these delays. The spring and autumn months in between have much lower averages. In fact, in Sep - Oct the average flight arrived even earlier than scheduled."
   ]
  },
  {
   "cell_type": "code",
   "execution_count": 77,
   "metadata": {},
   "outputs": [
    {
     "data": {
      "text/plain": [
       "<matplotlib.text.Text at 0x14c44ed50>"
      ]
     },
     "execution_count": 77,
     "metadata": {},
     "output_type": "execute_result"
    },
    {
     "data": {
      "image/png": "[encoded data removed]",
      "text/plain": [
       "<matplotlib.figure.Figure at 0x15afb3290>"
      ]
     },
     "metadata": {},
     "output_type": "display_data"
    }
   ],
   "source": [
    "fw_trim_avg_delay = fw_trim.groupby('MONTH', as_index=False)['ARRIVAL_DELAY'].mean()\n",
    "fw_trim_avg_delay.plot('MONTH', 'ARRIVAL_DELAY', kind='bar', legend=False, title='Average Arrival Delay by Month (Outliers Removed)')\n",
    "plt.xlabel('Month')\n",
    "plt.ylabel('Average Delay Time (Minutes)')"
   ]
  },
  {
   "cell_type": "markdown",
   "metadata": {},
   "source": [
    "Removing the outliers has affected this plot a lot. It looks like the autumn months (Sep - Nov) might have had a lot of really high delay outliers that pulled the average up."
   ]
  },
  {
   "cell_type": "markdown",
   "metadata": {},
   "source": [
    "#### Average delay time per day\n",
    "Let's see what happens if we look a little more closely. Next, let's take the averages by day and see if that gives us any greater insight."
   ]
  },
  {
   "cell_type": "code",
   "execution_count": 78,
   "metadata": {},
   "outputs": [
    {
     "data": {
      "text/plain": [
       "<matplotlib.text.Text at 0x12ed29790>"
      ]
     },
     "execution_count": 78,
     "metadata": {},
     "output_type": "execute_result"
    },
    {
     "data": {
      "image/png": "[encoded data removed]",
      "text/plain": [
       "<matplotlib.figure.Figure at 0x1241fbf90>"
      ]
     },
     "metadata": {},
     "output_type": "display_data"
    }
   ],
   "source": [
    "fw_avg_by_date = fw.groupby('DATE', as_index=False)['ARRIVAL_DELAY'].mean()\n",
    "fw_avg_by_date.plot('DATE', 'ARRIVAL_DELAY', legend=False, title='Average Arrival Delay by Day (Full Data Set)')\n",
    "plt.xlabel('Date')\n",
    "plt.ylabel('Average Delay Time (Minutes)')"
   ]
  },
  {
   "cell_type": "markdown",
   "metadata": {},
   "source": [
    "When looking at average delays by month, it appeared that there were higher delays in the winter and summer months. However, when we break it down to the day, it looks like this might not be in case. We see a pretty uniform spread of variation throughout the entire year. Some days have higher delays while others have lower. But it doesn't appear to skew one way or the other during a particular season in any really significant way. There are some months that seem on the higher side (eg. February), but it doesn't appear to be a significant enough difference to make any claims."
   ]
  },
  {
   "cell_type": "code",
   "execution_count": 79,
   "metadata": {},
   "outputs": [
    {
     "data": {
      "text/plain": [
       "<matplotlib.text.Text at 0x137c73110>"
      ]
     },
     "execution_count": 79,
     "metadata": {},
     "output_type": "execute_result"
    },
    {
     "data": {
      "image/png": "[encoded data removed]",
      "text/plain": [
       "<matplotlib.figure.Figure at 0x13b2f5710>"
      ]
     },
     "metadata": {},
     "output_type": "display_data"
    }
   ],
   "source": [
    "fw_trim_avg_by_date = fw_trim.groupby('DATE', as_index=False)['ARRIVAL_DELAY'].mean()\n",
    "fw_trim_avg_by_date.plot('DATE', 'ARRIVAL_DELAY', legend=False, title='Average Arrival Delay by Day (Outliers Removed)')\n",
    "plt.xlabel('Date')\n",
    "plt.ylabel('Average Delay Time (Minutes)')"
   ]
  },
  {
   "cell_type": "markdown",
   "metadata": {},
   "source": [
    "It looks like removing the outliers didn't affect this plot too much. On a day-to-day basis, the outliers don't affect the averages very much (as to be expected)."
   ]
  },
  {
   "cell_type": "markdown",
   "metadata": {
    "collapsed": true
   },
   "source": [
    "***\n",
    "## Part 2\n",
    "* **Conduct Probablity distibution analysis based on the data. Analyze your data based on the type of distribution it best fits (for PDF and CDF)**\n",
    "* **Conduct Method of Moments analysis on your data to suggest the best fit distribution. Visualize the results**\n",
    "***"
   ]
  },
  {
   "cell_type": "markdown",
   "metadata": {},
   "source": [
    "### Probability Distribution Analysis\n",
    "\n",
    "Let's first take a look at the density of the distribution, along with a CDF of the distribution."
   ]
  },
  {
   "cell_type": "code",
   "execution_count": 17,
   "metadata": {},
   "outputs": [
    {
     "data": {
      "text/plain": [
       "<matplotlib.axes._subplots.AxesSubplot at 0x11cb72e90>"
      ]
     },
     "execution_count": 17,
     "metadata": {},
     "output_type": "execute_result"
    },
    {
     "data": {
      "image/png": "[encoded data removed]",
      "text/plain": [
       "<matplotlib.figure.Figure at 0x11c98d450>"
      ]
     },
     "metadata": {},
     "output_type": "display_data"
    }
   ],
   "source": [
    "fw['ARRIVAL_DELAY'].plot(kind='density', title='Density of Arrival Delays (Full Data Set)')"
   ]
  },
  {
   "cell_type": "markdown",
   "metadata": {},
   "source": [
    "It looks like there are many outlier observations, but overall the data follows a normal distribution."
   ]
  },
  {
   "cell_type": "code",
   "execution_count": 18,
   "metadata": {},
   "outputs": [
    {
     "data": {
      "text/plain": [
       "<matplotlib.text.Text at 0x12c827610>"
      ]
     },
     "execution_count": 18,
     "metadata": {},
     "output_type": "execute_result"
    },
    {
     "data": {
      "image/png": "[encoded data removed]",
      "text/plain": [
       "<matplotlib.figure.Figure at 0x1340be950>"
      ]
     },
     "metadata": {},
     "output_type": "display_data"
    }
   ],
   "source": [
    "arrival_delays = fw['ARRIVAL_DELAY']\n",
    "arrival_delays.sort_values()\n",
    "\n",
    "hist = arrival_delays.hist(cumulative=True, normed=1, bins=1000)\n",
    "hist.set_title('CDF of Arrival Delays (Full Data Set)')"
   ]
  },
  {
   "cell_type": "markdown",
   "metadata": {},
   "source": [
    "Both of these plots seem to be heavily affected by the outliers. Let's try these again with the outliers removed."
   ]
  },
  {
   "cell_type": "code",
   "execution_count": 19,
   "metadata": {},
   "outputs": [
    {
     "data": {
      "text/plain": [
       "<matplotlib.axes._subplots.AxesSubplot at 0x13402e150>"
      ]
     },
     "execution_count": 19,
     "metadata": {},
     "output_type": "execute_result"
    },
    {
     "data": {
      "image/png": "[encoded data removed]",
      "text/plain": [
       "<matplotlib.figure.Figure at 0x135393c90>"
      ]
     },
     "metadata": {},
     "output_type": "display_data"
    }
   ],
   "source": [
    "fw_trim['ARRIVAL_DELAY'].plot(kind='density', title='Density of Arrival Delays (Outliers Removed)')"
   ]
  },
  {
   "cell_type": "markdown",
   "metadata": {},
   "source": [
    "Once we remove the outliers, the normal distribution curve becomes even more apparent."
   ]
  },
  {
   "cell_type": "code",
   "execution_count": 20,
   "metadata": {},
   "outputs": [
    {
     "data": {
      "text/plain": [
       "<matplotlib.text.Text at 0x12f278a10>"
      ]
     },
     "execution_count": 20,
     "metadata": {},
     "output_type": "execute_result"
    },
    {
     "data": {
      "image/png": "[encoded data removed]",
      "text/plain": [
       "<matplotlib.figure.Figure at 0x12eaa29d0>"
      ]
     },
     "metadata": {},
     "output_type": "display_data"
    }
   ],
   "source": [
    "arrival_delays_trim = fw_trim['ARRIVAL_DELAY']\n",
    "arrival_delays_trim.sort_values()\n",
    "\n",
    "hist = arrival_delays_trim.hist(cumulative=True, normed=1, bins=1000)\n",
    "hist.set_title('CDF of Arrival Delays (Outliers Removed)')"
   ]
  },
  {
   "cell_type": "markdown",
   "metadata": {},
   "source": [
    "Much better! We can see a fairly normal distribution, along with a much clearer CDF."
   ]
  },
  {
   "cell_type": "markdown",
   "metadata": {},
   "source": [
    "### Method of Moment Analysis\n",
    "\n",
    "Calculate the mean of delay times per month. Do this for both the full data set as well as the trimmed data set (without outliers)."
   ]
  },
  {
   "cell_type": "code",
   "execution_count": 8,
   "metadata": {},
   "outputs": [
    {
     "data": {
      "text/plain": [
       "MONTH\n",
       "1     5.813583\n",
       "2     8.320500\n",
       "3     4.920673\n",
       "4     3.163190\n",
       "5     4.485019\n",
       "6     9.601590\n",
       "7     6.431775\n",
       "8     4.607372\n",
       "9    -0.772571\n",
       "10   -0.780390\n",
       "11    1.100784\n",
       "12    6.092903\n",
       "Name: ARRIVAL_DELAY, dtype: float64"
      ]
     },
     "execution_count": 8,
     "metadata": {},
     "output_type": "execute_result"
    }
   ],
   "source": [
    "delay_mean = fw.groupby('MONTH')['ARRIVAL_DELAY'].mean()\n",
    "delay_mean"
   ]
  },
  {
   "cell_type": "code",
   "execution_count": 9,
   "metadata": {},
   "outputs": [
    {
     "data": {
      "text/plain": [
       "MONTH\n",
       "1     2.003700\n",
       "2     3.588636\n",
       "3     1.129674\n",
       "4    -0.136798\n",
       "5     0.364188\n",
       "6     3.929400\n",
       "7     2.303905\n",
       "8     0.731289\n",
       "9    -3.075474\n",
       "10   -3.179868\n",
       "11   -2.144219\n",
       "12    0.940500\n",
       "Name: ARRIVAL_DELAY, dtype: float64"
      ]
     },
     "execution_count": 9,
     "metadata": {},
     "output_type": "execute_result"
    }
   ],
   "source": [
    "delay_mean_trim = fw_trim.groupby('MONTH')['ARRIVAL_DELAY'].mean()\n",
    "delay_mean_trim"
   ]
  },
  {
   "cell_type": "markdown",
   "metadata": {},
   "source": [
    "Calculate the variance of delay times per month. Do this for both the full data set as well as the trimmed data set (without outliers)."
   ]
  },
  {
   "cell_type": "code",
   "execution_count": 10,
   "metadata": {},
   "outputs": [
    {
     "data": {
      "text/plain": [
       "MONTH\n",
       "1     1553.424040\n",
       "2     1863.349193\n",
       "3     1537.076333\n",
       "4     1338.642062\n",
       "5     1588.491460\n",
       "6     2025.215453\n",
       "7     1554.445601\n",
       "8     1499.505426\n",
       "9     1045.334290\n",
       "10    1070.924489\n",
       "11    1355.892281\n",
       "12    1982.567649\n",
       "Name: ARRIVAL_DELAY, dtype: float64"
      ]
     },
     "execution_count": 10,
     "metadata": {},
     "output_type": "execute_result"
    }
   ],
   "source": [
    "delay_var = fw.groupby('MONTH')['ARRIVAL_DELAY'].var()\n",
    "delay_var"
   ]
  },
  {
   "cell_type": "code",
   "execution_count": 11,
   "metadata": {},
   "outputs": [
    {
     "data": {
      "text/plain": [
       "MONTH\n",
       "1     625.578078\n",
       "2     672.380792\n",
       "3     567.908417\n",
       "4     518.007137\n",
       "5     571.892888\n",
       "6     687.526707\n",
       "7     637.876487\n",
       "8     587.081322\n",
       "9     439.627087\n",
       "10    409.388325\n",
       "11    487.668875\n",
       "12    631.975564\n",
       "Name: ARRIVAL_DELAY, dtype: float64"
      ]
     },
     "execution_count": 11,
     "metadata": {},
     "output_type": "execute_result"
    }
   ],
   "source": [
    "delay_var_trim = fw_trim.groupby('MONTH')['ARRIVAL_DELAY'].var()\n",
    "delay_var_trim"
   ]
  },
  {
   "cell_type": "markdown",
   "metadata": {},
   "source": [
    "Use these moments to estimate $\\alpha$ and $\\beta$ per month."
   ]
  },
  {
   "cell_type": "code",
   "execution_count": 12,
   "metadata": {
    "collapsed": true
   },
   "outputs": [],
   "source": [
    "alpha_mom = delay_mean ** 2 / delay_var\n",
    "beta_mom = delay_var / delay_mean"
   ]
  },
  {
   "cell_type": "code",
   "execution_count": 13,
   "metadata": {
    "collapsed": true
   },
   "outputs": [],
   "source": [
    "alpha_mom_trim = delay_mean_trim ** 2 / delay_var_trim\n",
    "beta_mom_trim = delay_var_trim / delay_mean_trim"
   ]
  },
  {
   "cell_type": "markdown",
   "metadata": {},
   "source": [
    "#### DataFrame Formatting\n",
    "\n",
    "To make the method of moments plots below, we have to be able to iterate over the columns of a DataFrame in order to make a grid of histograms. If we use the groupby method on the original DataFrame, then we'll get a SeriesGroupBy object that will not produce this type of graph correctly.\n",
    "\n",
    "In order to fix this, we'll copy the ARRIVAL_DELAY column into a new DataFrame that has one column per month and rows of delay times."
   ]
  },
  {
   "cell_type": "code",
   "execution_count": null,
   "metadata": {
    "collapsed": true
   },
   "outputs": [],
   "source": [
    "fw_months = pd.DataFrame(index=range(0, len(fw)), columns=[1, 2, 3, 4, 5, 6, 7, 8, 9, 10, 11, 12])\n",
    "\n",
    "fw_months_groups = fw.groupby('MONTH', as_index=False)['ARRIVAL_DELAY']\n",
    "\n",
    "for name, group in fw_months_groups:\n",
    "    group.head()"
   ]
  },
  {
   "cell_type": "code",
   "execution_count": 28,
   "metadata": {},
   "outputs": [
    {
     "data": {
      "text/html": [
       "<div>\n",
       "<style>\n",
       "    .dataframe thead tr:only-child th {\n",
       "        text-align: right;\n",
       "    }\n",
       "\n",
       "    .dataframe thead th {\n",
       "        text-align: left;\n",
       "    }\n",
       "\n",
       "    .dataframe tbody tr th {\n",
       "        vertical-align: top;\n",
       "    }\n",
       "</style>\n",
       "<table border=\"1\" class=\"dataframe\">\n",
       "  <thead>\n",
       "    <tr style=\"text-align: right;\">\n",
       "      <th></th>\n",
       "      <th>1</th>\n",
       "      <th>2</th>\n",
       "      <th>3</th>\n",
       "      <th>4</th>\n",
       "      <th>5</th>\n",
       "      <th>6</th>\n",
       "      <th>7</th>\n",
       "      <th>8</th>\n",
       "      <th>9</th>\n",
       "      <th>10</th>\n",
       "      <th>11</th>\n",
       "      <th>12</th>\n",
       "    </tr>\n",
       "  </thead>\n",
       "  <tbody>\n",
       "    <tr>\n",
       "      <th>0</th>\n",
       "      <td>-22.0</td>\n",
       "      <td>NaN</td>\n",
       "      <td>NaN</td>\n",
       "      <td>NaN</td>\n",
       "      <td>NaN</td>\n",
       "      <td>NaN</td>\n",
       "      <td>NaN</td>\n",
       "      <td>NaN</td>\n",
       "      <td>NaN</td>\n",
       "      <td>NaN</td>\n",
       "      <td>NaN</td>\n",
       "      <td>NaN</td>\n",
       "    </tr>\n",
       "    <tr>\n",
       "      <th>1</th>\n",
       "      <td>-9.0</td>\n",
       "      <td>NaN</td>\n",
       "      <td>NaN</td>\n",
       "      <td>NaN</td>\n",
       "      <td>NaN</td>\n",
       "      <td>NaN</td>\n",
       "      <td>NaN</td>\n",
       "      <td>NaN</td>\n",
       "      <td>NaN</td>\n",
       "      <td>NaN</td>\n",
       "      <td>NaN</td>\n",
       "      <td>NaN</td>\n",
       "    </tr>\n",
       "    <tr>\n",
       "      <th>2</th>\n",
       "      <td>5.0</td>\n",
       "      <td>NaN</td>\n",
       "      <td>NaN</td>\n",
       "      <td>NaN</td>\n",
       "      <td>NaN</td>\n",
       "      <td>NaN</td>\n",
       "      <td>NaN</td>\n",
       "      <td>NaN</td>\n",
       "      <td>NaN</td>\n",
       "      <td>NaN</td>\n",
       "      <td>NaN</td>\n",
       "      <td>NaN</td>\n",
       "    </tr>\n",
       "    <tr>\n",
       "      <th>3</th>\n",
       "      <td>-9.0</td>\n",
       "      <td>NaN</td>\n",
       "      <td>NaN</td>\n",
       "      <td>NaN</td>\n",
       "      <td>NaN</td>\n",
       "      <td>NaN</td>\n",
       "      <td>NaN</td>\n",
       "      <td>NaN</td>\n",
       "      <td>NaN</td>\n",
       "      <td>NaN</td>\n",
       "      <td>NaN</td>\n",
       "      <td>NaN</td>\n",
       "    </tr>\n",
       "    <tr>\n",
       "      <th>4</th>\n",
       "      <td>-21.0</td>\n",
       "      <td>NaN</td>\n",
       "      <td>NaN</td>\n",
       "      <td>NaN</td>\n",
       "      <td>NaN</td>\n",
       "      <td>NaN</td>\n",
       "      <td>NaN</td>\n",
       "      <td>NaN</td>\n",
       "      <td>NaN</td>\n",
       "      <td>NaN</td>\n",
       "      <td>NaN</td>\n",
       "      <td>NaN</td>\n",
       "    </tr>\n",
       "  </tbody>\n",
       "</table>\n",
       "</div>"
      ],
      "text/plain": [
       "     1   2   3   4   5   6   7   8   9   10  11  12\n",
       "0 -22.0 NaN NaN NaN NaN NaN NaN NaN NaN NaN NaN NaN\n",
       "1  -9.0 NaN NaN NaN NaN NaN NaN NaN NaN NaN NaN NaN\n",
       "2   5.0 NaN NaN NaN NaN NaN NaN NaN NaN NaN NaN NaN\n",
       "3  -9.0 NaN NaN NaN NaN NaN NaN NaN NaN NaN NaN NaN\n",
       "4 -21.0 NaN NaN NaN NaN NaN NaN NaN NaN NaN NaN NaN"
      ]
     },
     "execution_count": 28,
     "metadata": {},
     "output_type": "execute_result"
    }
   ],
   "source": [
    "fw_months = pd.DataFrame(index=range(0, len(fw)), columns=[1, 2, 3, 4, 5, 6, 7, 8, 9, 10, 11, 12])\n",
    "\n",
    "# @TODO: What's going on here?! I tried copying each month's arrival delays into a new DataFrame, but only January works! >_<\n",
    "for x in range(1, 13):\n",
    "    fw_months[x] = fw[fw['MONTH'] == x]['ARRIVAL_DELAY']\n",
    "    \n",
    "fw_months.head()"
   ]
  },
  {
   "cell_type": "code",
   "execution_count": 68,
   "metadata": {},
   "outputs": [
    {
     "data": {
      "image/png": "[encoded data removed]",
      "text/plain": [
       "<matplotlib.figure.Figure at 0x13ec76790>"
      ]
     },
     "metadata": {},
     "output_type": "display_data"
    }
   ],
   "source": [
    "from scipy.stats.distributions import gamma\n",
    "\n",
    "axs = fw.groupby('MONTH')['ARRIVAL_DELAY'].hist(normed=True, figsize=(12, 8), sharex=True, sharey=True, bins=50, grid=False, ec='black')\n",
    "\n",
    "month = 1\n",
    "\n",
    "for ax in axs.ravel():    \n",
    "    x = np.linspace(*ax.get_xlim())\n",
    "    ax.plot(x, gamma.pdf(x, alpha_mom[month], beta_mom[month]))\n",
    "    \n",
    "    label = 'alpha = {0:.2f}\\nbeta = {1:2f}'.format(alpha_mom[month], beta_mom[month])\n",
    "    ax.annotate(label, xy=(10, 0.2))\n",
    "    \n",
    "    month += 1\n",
    "    \n",
    "plt.tight_layout()"
   ]
  },
  {
   "cell_type": "markdown",
   "metadata": {},
   "source": [
    "***\n",
    "## Part 3\n",
    "* **Formulate a null hypothesis and evaluate it, perform correlation measures, and construct a linear regression model**\n",
    "***"
   ]
  },
  {
   "cell_type": "markdown",
   "metadata": {},
   "source": [
    "### Hypothesis Testing\n",
    "\n",
    "**Null Hypothesis:** 'Extreme' temperatures do not affect flight delays.\n",
    "\n",
    "**Alternate Hypothesis:** 'Extreme' temperature affects flight delays.\n",
    "\n",
    "First, we need to determine what 'extreme' temperature values are. We'll use quartiles in order to split the data into parts. Anything that falls within $\\mu$ $\\pm$ $\\sigma$ will be considered 'normal' temperature. Everything outside of that will be part of the 'extreme' set."
   ]
  },
  {
   "cell_type": "code",
   "execution_count": 153,
   "metadata": {},
   "outputs": [
    {
     "name": "stdout",
     "output_type": "stream",
     "text": [
      "Min Normal Temp: 43.0232995253\n",
      "Max Normal Temp: 79.6442825133\n"
     ]
    }
   ],
   "source": [
    "temp_mean = fw['OR_TEMP'].mean()\n",
    "temp_std = fw['OR_TEMP'].std()\n",
    "\n",
    "temp_min = temp_mean - temp_std\n",
    "temp_max = temp_mean + temp_std\n",
    "\n",
    "print 'Min Normal Temp: ' + str(temp_min)\n",
    "print 'Max Normal Temp: ' + str(temp_max)"
   ]
  },
  {
   "cell_type": "code",
   "execution_count": 156,
   "metadata": {},
   "outputs": [
    {
     "name": "stdout",
     "output_type": "stream",
     "text": [
      "'Normal' Set: (3651231, 74)\n",
      "'Extreme' Set: (1681683, 74)\n"
     ]
    }
   ],
   "source": [
    "fw_normal = fw[(fw['OR_TEMP'] <= temp_max) & (fw['OR_TEMP'] >= temp_min)]\n",
    "fw_extreme = fw[(fw['OR_TEMP'] > temp_max) | (fw['OR_TEMP'] < temp_min)]\n",
    "\n",
    "print '\\'Normal\\' Set: ' + str(fw_normal.shape)\n",
    "print '\\'Extreme\\' Set: ' + str(fw_extreme.shape)"
   ]
  },
  {
   "cell_type": "code",
   "execution_count": 157,
   "metadata": {},
   "outputs": [
    {
     "name": "stdout",
     "output_type": "stream",
     "text": [
      "1451.61005975\n",
      "1865.69536019\n"
     ]
    }
   ],
   "source": [
    "# Check if the variances are equal in order to set the equal_var flag in the t-test call below.\n",
    "\n",
    "print fw_normal['ARRIVAL_DELAY'].var()\n",
    "print fw_extreme['ARRIVAL_DELAY'].var()"
   ]
  },
  {
   "cell_type": "markdown",
   "metadata": {},
   "source": [
    "Now that we have our two sets (flights with 'normal' weather and flights with 'extreme' weather) we can now run a **two-sample t-test**."
   ]
  },
  {
   "cell_type": "code",
   "execution_count": 158,
   "metadata": {},
   "outputs": [
    {
     "data": {
      "text/plain": [
       "Ttest_indResult(statistic=-85.260587927183565, pvalue=0.0)"
      ]
     },
     "execution_count": 158,
     "metadata": {},
     "output_type": "execute_result"
    }
   ],
   "source": [
    "stats.ttest_ind(a=fw_normal['ARRIVAL_DELAY'].dropna(), b=fw_extreme['ARRIVAL_DELAY'].dropna())"
   ]
  },
  {
   "cell_type": "markdown",
   "metadata": {},
   "source": [
    "### Conclusion\n",
    "\n",
    "**p-value** = 0.0\n",
    "\n",
    "We can reject the null hypothesis and accept the alternate hypothesis - \"extreme\" temperatures ** *do* ** have an effect on flight delays.\n",
    "\n",
    "#### Sanity Check\n",
    "\n",
    "Let's do some sanity checking to verify that this result is correct. Let's start by looking at the means per month for both sets."
   ]
  },
  {
   "cell_type": "code",
   "execution_count": 144,
   "metadata": {},
   "outputs": [
    {
     "data": {
      "text/plain": [
       "MONTH\n",
       "1     4.231838\n",
       "2     4.698296\n",
       "3     3.255223\n",
       "4     2.925898\n",
       "5     4.385553\n",
       "6     8.963620\n",
       "7     6.601047\n",
       "8     4.385309\n",
       "9    -1.099071\n",
       "11    0.732444\n",
       "12    5.134191\n",
       "Name: ARRIVAL_DELAY, dtype: float64"
      ]
     },
     "execution_count": 144,
     "metadata": {},
     "output_type": "execute_result"
    }
   ],
   "source": [
    "fw_normal.groupby('MONTH')['ARRIVAL_DELAY'].mean()"
   ]
  },
  {
   "cell_type": "code",
   "execution_count": 139,
   "metadata": {},
   "outputs": [
    {
     "data": {
      "text/plain": [
       "MONTH\n",
       "1      7.197735\n",
       "2     11.828062\n",
       "3      8.999320\n",
       "4      5.323593\n",
       "5      5.564385\n",
       "6     10.831264\n",
       "7      6.220022\n",
       "8      4.983218\n",
       "9      0.096472\n",
       "11     2.419731\n",
       "12     8.374254\n",
       "Name: ARRIVAL_DELAY, dtype: float64"
      ]
     },
     "execution_count": 139,
     "metadata": {},
     "output_type": "execute_result"
    }
   ],
   "source": [
    "fw_extreme.groupby('MONTH')['ARRIVAL_DELAY'].mean()"
   ]
  },
  {
   "cell_type": "markdown",
   "metadata": {},
   "source": [
    "Just at first glance, it does look like flights under \"extreme\" temperatures have different average delay times. For example, in the months of Jan-March, the average delay was much higher under extreme temperatuers. It looks like this also holds true in the summer months as well. The fall months are less prone to this affect, with average delays relatively the same in Sep-Nov.\n",
    "\n",
    "#### Visualization\n",
    "\n",
    "Let's also make some scatter plots of Delay vs. Temperature to see if we can visually spot the difference in trends.\n",
    "\n",
    "First we'll start with the full data set."
   ]
  },
  {
   "cell_type": "code",
   "execution_count": 206,
   "metadata": {},
   "outputs": [
    {
     "data": {
      "text/plain": [
       "<matplotlib.text.Text at 0x1377dd950>"
      ]
     },
     "execution_count": 206,
     "metadata": {},
     "output_type": "execute_result"
    },
    {
     "data": {
      "image/png": "[encoded data removed]",
      "text/plain": [
       "<matplotlib.figure.Figure at 0x13778d250>"
      ]
     },
     "metadata": {},
     "output_type": "display_data"
    }
   ],
   "source": [
    "fw.plot('OR_TEMP', 'ARRIVAL_DELAY', kind='scatter', title='Arrival Delay vs. Origin Temperature')\n",
    "plt.xlabel('Temperature (Fahrenheit)')\n",
    "plt.ylabel('Delay Time (Minutes)')"
   ]
  },
  {
   "cell_type": "markdown",
   "metadata": {},
   "source": [
    "Although the bottom of the graph is pretty filled in (looks like a solid triangle), we can also see a upward trend in arrival delay with temperature all the way up until about 80 degrees, then the it trends back down.\n",
    "\n",
    "Next, let's isolate just the 'normal' temperatures."
   ]
  },
  {
   "cell_type": "code",
   "execution_count": 207,
   "metadata": {},
   "outputs": [
    {
     "data": {
      "text/plain": [
       "<matplotlib.text.Text at 0x136449610>"
      ]
     },
     "execution_count": 207,
     "metadata": {},
     "output_type": "execute_result"
    },
    {
     "data": {
      "image/png": "[encoded data removed]",
      "text/plain": [
       "<matplotlib.figure.Figure at 0x13b003810>"
      ]
     },
     "metadata": {},
     "output_type": "display_data"
    }
   ],
   "source": [
    "fw_normal.plot('OR_TEMP', 'ARRIVAL_DELAY', kind='scatter', title='Arrival Delay vs. \\'Normal\\' Origin Temperature')\n",
    "plt.xlabel('Temperature (Fahrenheit)')\n",
    "plt.ylabel('Delay Time (Minutes)')"
   ]
  },
  {
   "cell_type": "markdown",
   "metadata": {},
   "source": [
    "Now, this plot looks much more uniform. There is a solid bar of observations at the bottom, along with observations that fall above that, but in a fairly uniform pattern across the plot.\n",
    "\n",
    "Finally, we'll look at the 'extreme' temperatures and see what that plot looks like."
   ]
  },
  {
   "cell_type": "code",
   "execution_count": 203,
   "metadata": {},
   "outputs": [
    {
     "data": {
      "text/plain": [
       "<matplotlib.text.Text at 0x1351e3f10>"
      ]
     },
     "execution_count": 203,
     "metadata": {},
     "output_type": "execute_result"
    },
    {
     "data": {
      "image/png": "[encoded data removed]",
      "text/plain": [
       "<matplotlib.figure.Figure at 0x135f02d10>"
      ]
     },
     "metadata": {},
     "output_type": "display_data"
    }
   ],
   "source": [
    "fw_extreme.plot('OR_TEMP', 'ARRIVAL_DELAY', kind='scatter', title='Arrival Delay vs. \\'Extreme\\' Origin Temperature')\n",
    "plt.xlabel('Temperature (Fahrenheit)')\n",
    "plt.ylabel('Delay Time (Minutes)')"
   ]
  },
  {
   "cell_type": "markdown",
   "metadata": {},
   "source": [
    "This plot is *much* less uniform. We can see the upward trend of delays on the left, followed by the missing section (normal temperatures - which we saw had no trend), and ending with the downward trend on the right."
   ]
  },
  {
   "cell_type": "markdown",
   "metadata": {},
   "source": [
    "### Correlation Analysis\n",
    "\n",
    "Now we'll analyze any correlations between delay times and weather features using a correlation heatmap, as well as a correlation matrix."
   ]
  },
  {
   "cell_type": "code",
   "execution_count": 87,
   "metadata": {
    "collapsed": true
   },
   "outputs": [],
   "source": [
    "fw_corr_df = fw[[\n",
    "    'MONTH', 'DEPARTURE_DELAY', 'ARRIVAL_DELAY', \n",
    "    'OR_TEMP', 'OR_DEWP', 'OR_SLP', 'OR_VISIB', 'OR_WDSP', 'OR_GUST', 'OR_PRCP', \n",
    "    'DES_TEMP', 'DES_DEWP', 'DES_SLP', 'DES_VISIB', 'DES_WDSP', 'DES_GUST', 'DES_PRCP']].copy()\n",
    "\n",
    "fw_corr_df['OR_PRCP'].dropna(inplace=True)\n",
    "fw_corr_df['OR_PRCP'] = fw_corr_df['OR_PRCP'].apply(lambda x: float(str(x)[:-1]))\n",
    "\n",
    "fw_corr_df['DES_PRCP'].dropna(inplace=True)\n",
    "fw_corr_df['DES_PRCP'] = fw_corr_df['DES_PRCP'].apply(lambda x: float(str(x)[:-1]))\n",
    "\n",
    "fw_corr = fw_corr_df.corr()"
   ]
  },
  {
   "cell_type": "code",
   "execution_count": 91,
   "metadata": {},
   "outputs": [
    {
     "data": {
      "text/plain": [
       "<matplotlib.axes._subplots.AxesSubplot at 0x137286e10>"
      ]
     },
     "execution_count": 91,
     "metadata": {},
     "output_type": "execute_result"
    },
    {
     "data": {
      "image/png": "[encoded data removed]",
      "text/plain": [
       "<matplotlib.figure.Figure at 0x137db0a10>"
      ]
     },
     "metadata": {},
     "output_type": "display_data"
    }
   ],
   "source": [
    "fig, ax = plt.subplots(figsize=(15,10))\n",
    "sns.heatmap(\n",
    "    fw_corr,\n",
    "    xticklabels = fw_corr.columns.values,\n",
    "    yticklabels = fw_corr.columns.values,\n",
    "    ax = ax\n",
    ")"
   ]
  },
  {
   "cell_type": "markdown",
   "metadata": {},
   "source": [
    "Unfortunately, it looks like we don't have any strong correlations between delay time and any of the weather features."
   ]
  },
  {
   "cell_type": "code",
   "execution_count": 132,
   "metadata": {},
   "outputs": [
    {
     "data": {
      "text/html": [
       "<div>\n",
       "<style>\n",
       "    .dataframe thead tr:only-child th {\n",
       "        text-align: right;\n",
       "    }\n",
       "\n",
       "    .dataframe thead th {\n",
       "        text-align: left;\n",
       "    }\n",
       "\n",
       "    .dataframe tbody tr th {\n",
       "        vertical-align: top;\n",
       "    }\n",
       "</style>\n",
       "<table border=\"1\" class=\"dataframe\">\n",
       "  <thead>\n",
       "    <tr style=\"text-align: right;\">\n",
       "      <th></th>\n",
       "      <th>MONTH</th>\n",
       "      <th>DEPARTURE_DELAY</th>\n",
       "      <th>ARRIVAL_DELAY</th>\n",
       "      <th>OR_TEMP</th>\n",
       "      <th>OR_DEWP</th>\n",
       "      <th>OR_SLP</th>\n",
       "      <th>OR_VISIB</th>\n",
       "      <th>OR_WDSP</th>\n",
       "      <th>OR_GUST</th>\n",
       "      <th>OR_PRCP</th>\n",
       "      <th>DES_TEMP</th>\n",
       "      <th>DES_DEWP</th>\n",
       "      <th>DES_SLP</th>\n",
       "      <th>DES_VISIB</th>\n",
       "      <th>DES_WDSP</th>\n",
       "      <th>DES_GUST</th>\n",
       "      <th>DES_PRCP</th>\n",
       "    </tr>\n",
       "  </thead>\n",
       "  <tbody>\n",
       "    <tr>\n",
       "      <th>MONTH</th>\n",
       "      <td>1.000000</td>\n",
       "      <td>-0.021994</td>\n",
       "      <td>-0.036793</td>\n",
       "      <td>0.266299</td>\n",
       "      <td>0.022474</td>\n",
       "      <td>-0.002923</td>\n",
       "      <td>0.004034</td>\n",
       "      <td>-0.057170</td>\n",
       "      <td>-0.026213</td>\n",
       "      <td>0.048944</td>\n",
       "      <td>0.266336</td>\n",
       "      <td>0.022473</td>\n",
       "      <td>-0.002937</td>\n",
       "      <td>0.004021</td>\n",
       "      <td>-0.009885</td>\n",
       "      <td>0.039996</td>\n",
       "      <td>0.004463</td>\n",
       "    </tr>\n",
       "    <tr>\n",
       "      <th>DEPARTURE_DELAY</th>\n",
       "      <td>-0.021994</td>\n",
       "      <td>1.000000</td>\n",
       "      <td>0.944672</td>\n",
       "      <td>-0.015897</td>\n",
       "      <td>-0.002190</td>\n",
       "      <td>-0.003120</td>\n",
       "      <td>-0.007267</td>\n",
       "      <td>0.035807</td>\n",
       "      <td>0.060634</td>\n",
       "      <td>0.044664</td>\n",
       "      <td>-0.014506</td>\n",
       "      <td>-0.001804</td>\n",
       "      <td>-0.000389</td>\n",
       "      <td>-0.006233</td>\n",
       "      <td>0.001950</td>\n",
       "      <td>-0.026606</td>\n",
       "      <td>0.006055</td>\n",
       "    </tr>\n",
       "    <tr>\n",
       "      <th>ARRIVAL_DELAY</th>\n",
       "      <td>-0.036793</td>\n",
       "      <td>0.944672</td>\n",
       "      <td>1.000000</td>\n",
       "      <td>-0.019712</td>\n",
       "      <td>0.000262</td>\n",
       "      <td>0.001867</td>\n",
       "      <td>-0.006124</td>\n",
       "      <td>0.034739</td>\n",
       "      <td>0.071798</td>\n",
       "      <td>0.048090</td>\n",
       "      <td>-0.024043</td>\n",
       "      <td>0.000387</td>\n",
       "      <td>0.004068</td>\n",
       "      <td>-0.005159</td>\n",
       "      <td>0.006343</td>\n",
       "      <td>-0.037943</td>\n",
       "      <td>0.009528</td>\n",
       "    </tr>\n",
       "    <tr>\n",
       "      <th>OR_TEMP</th>\n",
       "      <td>0.266299</td>\n",
       "      <td>-0.015897</td>\n",
       "      <td>-0.019712</td>\n",
       "      <td>1.000000</td>\n",
       "      <td>0.072197</td>\n",
       "      <td>-0.024922</td>\n",
       "      <td>0.020304</td>\n",
       "      <td>-0.165671</td>\n",
       "      <td>-0.173708</td>\n",
       "      <td>0.028412</td>\n",
       "      <td>0.646097</td>\n",
       "      <td>0.053607</td>\n",
       "      <td>-0.009021</td>\n",
       "      <td>0.017867</td>\n",
       "      <td>-0.002815</td>\n",
       "      <td>-0.060979</td>\n",
       "      <td>0.004376</td>\n",
       "    </tr>\n",
       "    <tr>\n",
       "      <th>OR_DEWP</th>\n",
       "      <td>0.022474</td>\n",
       "      <td>-0.002190</td>\n",
       "      <td>0.000262</td>\n",
       "      <td>0.072197</td>\n",
       "      <td>1.000000</td>\n",
       "      <td>0.200008</td>\n",
       "      <td>0.915438</td>\n",
       "      <td>-0.001545</td>\n",
       "      <td>-0.132381</td>\n",
       "      <td>0.004439</td>\n",
       "      <td>0.053523</td>\n",
       "      <td>0.002027</td>\n",
       "      <td>-0.002810</td>\n",
       "      <td>-0.000371</td>\n",
       "      <td>-0.005054</td>\n",
       "      <td>-0.001939</td>\n",
       "      <td>-0.000343</td>\n",
       "    </tr>\n",
       "    <tr>\n",
       "      <th>OR_SLP</th>\n",
       "      <td>-0.002923</td>\n",
       "      <td>-0.003120</td>\n",
       "      <td>0.001867</td>\n",
       "      <td>-0.024922</td>\n",
       "      <td>0.200008</td>\n",
       "      <td>1.000000</td>\n",
       "      <td>0.190076</td>\n",
       "      <td>-0.015738</td>\n",
       "      <td>-0.008545</td>\n",
       "      <td>-0.015614</td>\n",
       "      <td>-0.008910</td>\n",
       "      <td>-0.002835</td>\n",
       "      <td>0.029593</td>\n",
       "      <td>-0.002116</td>\n",
       "      <td>-0.001400</td>\n",
       "      <td>-0.000522</td>\n",
       "      <td>0.010913</td>\n",
       "    </tr>\n",
       "    <tr>\n",
       "      <th>OR_VISIB</th>\n",
       "      <td>0.004034</td>\n",
       "      <td>-0.007267</td>\n",
       "      <td>-0.006124</td>\n",
       "      <td>0.020304</td>\n",
       "      <td>0.915438</td>\n",
       "      <td>0.190076</td>\n",
       "      <td>1.000000</td>\n",
       "      <td>0.015146</td>\n",
       "      <td>-0.018598</td>\n",
       "      <td>-0.019072</td>\n",
       "      <td>0.017871</td>\n",
       "      <td>-0.000374</td>\n",
       "      <td>-0.002125</td>\n",
       "      <td>0.000691</td>\n",
       "      <td>-0.003064</td>\n",
       "      <td>-0.000030</td>\n",
       "      <td>-0.001841</td>\n",
       "    </tr>\n",
       "    <tr>\n",
       "      <th>OR_WDSP</th>\n",
       "      <td>-0.057170</td>\n",
       "      <td>0.035807</td>\n",
       "      <td>0.034739</td>\n",
       "      <td>-0.165671</td>\n",
       "      <td>-0.001545</td>\n",
       "      <td>-0.015738</td>\n",
       "      <td>0.015146</td>\n",
       "      <td>1.000000</td>\n",
       "      <td>0.572915</td>\n",
       "      <td>0.094236</td>\n",
       "      <td>-0.083047</td>\n",
       "      <td>-0.024581</td>\n",
       "      <td>0.000286</td>\n",
       "      <td>-0.018410</td>\n",
       "      <td>0.005576</td>\n",
       "      <td>-0.125372</td>\n",
       "      <td>0.009773</td>\n",
       "    </tr>\n",
       "    <tr>\n",
       "      <th>OR_GUST</th>\n",
       "      <td>-0.026213</td>\n",
       "      <td>0.060634</td>\n",
       "      <td>0.071798</td>\n",
       "      <td>-0.173708</td>\n",
       "      <td>-0.132381</td>\n",
       "      <td>-0.008545</td>\n",
       "      <td>-0.018598</td>\n",
       "      <td>0.572915</td>\n",
       "      <td>1.000000</td>\n",
       "      <td>0.134991</td>\n",
       "      <td>-0.098996</td>\n",
       "      <td>-0.015403</td>\n",
       "      <td>0.002521</td>\n",
       "      <td>-0.009050</td>\n",
       "      <td>0.011907</td>\n",
       "      <td>-0.069726</td>\n",
       "      <td>0.006255</td>\n",
       "    </tr>\n",
       "    <tr>\n",
       "      <th>OR_PRCP</th>\n",
       "      <td>0.048944</td>\n",
       "      <td>0.044664</td>\n",
       "      <td>0.048090</td>\n",
       "      <td>0.028412</td>\n",
       "      <td>0.004439</td>\n",
       "      <td>-0.015614</td>\n",
       "      <td>-0.019072</td>\n",
       "      <td>0.094236</td>\n",
       "      <td>0.134991</td>\n",
       "      <td>1.000000</td>\n",
       "      <td>0.031424</td>\n",
       "      <td>0.000673</td>\n",
       "      <td>-0.000341</td>\n",
       "      <td>-0.006746</td>\n",
       "      <td>0.000644</td>\n",
       "      <td>-0.029305</td>\n",
       "      <td>0.013772</td>\n",
       "    </tr>\n",
       "    <tr>\n",
       "      <th>DES_TEMP</th>\n",
       "      <td>0.266336</td>\n",
       "      <td>-0.014506</td>\n",
       "      <td>-0.024043</td>\n",
       "      <td>0.646097</td>\n",
       "      <td>0.053523</td>\n",
       "      <td>-0.008910</td>\n",
       "      <td>0.017871</td>\n",
       "      <td>-0.083047</td>\n",
       "      <td>-0.098996</td>\n",
       "      <td>0.031424</td>\n",
       "      <td>1.000000</td>\n",
       "      <td>0.072201</td>\n",
       "      <td>-0.024956</td>\n",
       "      <td>0.020311</td>\n",
       "      <td>-0.015729</td>\n",
       "      <td>-0.069170</td>\n",
       "      <td>-0.001253</td>\n",
       "    </tr>\n",
       "    <tr>\n",
       "      <th>DES_DEWP</th>\n",
       "      <td>0.022473</td>\n",
       "      <td>-0.001804</td>\n",
       "      <td>0.000387</td>\n",
       "      <td>0.053607</td>\n",
       "      <td>0.002027</td>\n",
       "      <td>-0.002835</td>\n",
       "      <td>-0.000374</td>\n",
       "      <td>-0.024581</td>\n",
       "      <td>-0.015403</td>\n",
       "      <td>0.000673</td>\n",
       "      <td>0.072201</td>\n",
       "      <td>1.000000</td>\n",
       "      <td>0.200075</td>\n",
       "      <td>0.915746</td>\n",
       "      <td>0.795603</td>\n",
       "      <td>0.025920</td>\n",
       "      <td>0.000034</td>\n",
       "    </tr>\n",
       "    <tr>\n",
       "      <th>DES_SLP</th>\n",
       "      <td>-0.002937</td>\n",
       "      <td>-0.000389</td>\n",
       "      <td>0.004068</td>\n",
       "      <td>-0.009021</td>\n",
       "      <td>-0.002810</td>\n",
       "      <td>0.029593</td>\n",
       "      <td>-0.002125</td>\n",
       "      <td>0.000286</td>\n",
       "      <td>0.002521</td>\n",
       "      <td>-0.000341</td>\n",
       "      <td>-0.024956</td>\n",
       "      <td>0.200075</td>\n",
       "      <td>1.000000</td>\n",
       "      <td>0.190135</td>\n",
       "      <td>0.243806</td>\n",
       "      <td>0.002439</td>\n",
       "      <td>0.338556</td>\n",
       "    </tr>\n",
       "    <tr>\n",
       "      <th>DES_VISIB</th>\n",
       "      <td>0.004021</td>\n",
       "      <td>-0.006233</td>\n",
       "      <td>-0.005159</td>\n",
       "      <td>0.017867</td>\n",
       "      <td>-0.000371</td>\n",
       "      <td>-0.002116</td>\n",
       "      <td>0.000691</td>\n",
       "      <td>-0.018410</td>\n",
       "      <td>-0.009050</td>\n",
       "      <td>-0.006746</td>\n",
       "      <td>0.020311</td>\n",
       "      <td>0.915746</td>\n",
       "      <td>0.190135</td>\n",
       "      <td>1.000000</td>\n",
       "      <td>0.750385</td>\n",
       "      <td>0.025186</td>\n",
       "      <td>-0.003557</td>\n",
       "    </tr>\n",
       "    <tr>\n",
       "      <th>DES_WDSP</th>\n",
       "      <td>-0.009885</td>\n",
       "      <td>0.001950</td>\n",
       "      <td>0.006343</td>\n",
       "      <td>-0.002815</td>\n",
       "      <td>-0.005054</td>\n",
       "      <td>-0.001400</td>\n",
       "      <td>-0.003064</td>\n",
       "      <td>0.005576</td>\n",
       "      <td>0.011907</td>\n",
       "      <td>0.000644</td>\n",
       "      <td>-0.015729</td>\n",
       "      <td>0.795603</td>\n",
       "      <td>0.243806</td>\n",
       "      <td>0.750385</td>\n",
       "      <td>1.000000</td>\n",
       "      <td>-0.059534</td>\n",
       "      <td>0.001295</td>\n",
       "    </tr>\n",
       "    <tr>\n",
       "      <th>DES_GUST</th>\n",
       "      <td>0.039996</td>\n",
       "      <td>-0.026606</td>\n",
       "      <td>-0.037943</td>\n",
       "      <td>-0.060979</td>\n",
       "      <td>-0.001939</td>\n",
       "      <td>-0.000522</td>\n",
       "      <td>-0.000030</td>\n",
       "      <td>-0.125372</td>\n",
       "      <td>-0.069726</td>\n",
       "      <td>-0.029305</td>\n",
       "      <td>-0.069170</td>\n",
       "      <td>0.025920</td>\n",
       "      <td>0.002439</td>\n",
       "      <td>0.025186</td>\n",
       "      <td>-0.059534</td>\n",
       "      <td>1.000000</td>\n",
       "      <td>-0.016232</td>\n",
       "    </tr>\n",
       "    <tr>\n",
       "      <th>DES_PRCP</th>\n",
       "      <td>0.004463</td>\n",
       "      <td>0.006055</td>\n",
       "      <td>0.009528</td>\n",
       "      <td>0.004376</td>\n",
       "      <td>-0.000343</td>\n",
       "      <td>0.010913</td>\n",
       "      <td>-0.001841</td>\n",
       "      <td>0.009773</td>\n",
       "      <td>0.006255</td>\n",
       "      <td>0.013772</td>\n",
       "      <td>-0.001253</td>\n",
       "      <td>0.000034</td>\n",
       "      <td>0.338556</td>\n",
       "      <td>-0.003557</td>\n",
       "      <td>0.001295</td>\n",
       "      <td>-0.016232</td>\n",
       "      <td>1.000000</td>\n",
       "    </tr>\n",
       "  </tbody>\n",
       "</table>\n",
       "</div>"
      ],
      "text/plain": [
       "                    MONTH  DEPARTURE_DELAY  ARRIVAL_DELAY   OR_TEMP   OR_DEWP  \\\n",
       "MONTH            1.000000        -0.021994      -0.036793  0.266299  0.022474   \n",
       "DEPARTURE_DELAY -0.021994         1.000000       0.944672 -0.015897 -0.002190   \n",
       "ARRIVAL_DELAY   -0.036793         0.944672       1.000000 -0.019712  0.000262   \n",
       "OR_TEMP          0.266299        -0.015897      -0.019712  1.000000  0.072197   \n",
       "OR_DEWP          0.022474        -0.002190       0.000262  0.072197  1.000000   \n",
       "OR_SLP          -0.002923        -0.003120       0.001867 -0.024922  0.200008   \n",
       "OR_VISIB         0.004034        -0.007267      -0.006124  0.020304  0.915438   \n",
       "OR_WDSP         -0.057170         0.035807       0.034739 -0.165671 -0.001545   \n",
       "OR_GUST         -0.026213         0.060634       0.071798 -0.173708 -0.132381   \n",
       "OR_PRCP          0.048944         0.044664       0.048090  0.028412  0.004439   \n",
       "DES_TEMP         0.266336        -0.014506      -0.024043  0.646097  0.053523   \n",
       "DES_DEWP         0.022473        -0.001804       0.000387  0.053607  0.002027   \n",
       "DES_SLP         -0.002937        -0.000389       0.004068 -0.009021 -0.002810   \n",
       "DES_VISIB        0.004021        -0.006233      -0.005159  0.017867 -0.000371   \n",
       "DES_WDSP        -0.009885         0.001950       0.006343 -0.002815 -0.005054   \n",
       "DES_GUST         0.039996        -0.026606      -0.037943 -0.060979 -0.001939   \n",
       "DES_PRCP         0.004463         0.006055       0.009528  0.004376 -0.000343   \n",
       "\n",
       "                   OR_SLP  OR_VISIB   OR_WDSP   OR_GUST   OR_PRCP  DES_TEMP  \\\n",
       "MONTH           -0.002923  0.004034 -0.057170 -0.026213  0.048944  0.266336   \n",
       "DEPARTURE_DELAY -0.003120 -0.007267  0.035807  0.060634  0.044664 -0.014506   \n",
       "ARRIVAL_DELAY    0.001867 -0.006124  0.034739  0.071798  0.048090 -0.024043   \n",
       "OR_TEMP         -0.024922  0.020304 -0.165671 -0.173708  0.028412  0.646097   \n",
       "OR_DEWP          0.200008  0.915438 -0.001545 -0.132381  0.004439  0.053523   \n",
       "OR_SLP           1.000000  0.190076 -0.015738 -0.008545 -0.015614 -0.008910   \n",
       "OR_VISIB         0.190076  1.000000  0.015146 -0.018598 -0.019072  0.017871   \n",
       "OR_WDSP         -0.015738  0.015146  1.000000  0.572915  0.094236 -0.083047   \n",
       "OR_GUST         -0.008545 -0.018598  0.572915  1.000000  0.134991 -0.098996   \n",
       "OR_PRCP         -0.015614 -0.019072  0.094236  0.134991  1.000000  0.031424   \n",
       "DES_TEMP        -0.008910  0.017871 -0.083047 -0.098996  0.031424  1.000000   \n",
       "DES_DEWP        -0.002835 -0.000374 -0.024581 -0.015403  0.000673  0.072201   \n",
       "DES_SLP          0.029593 -0.002125  0.000286  0.002521 -0.000341 -0.024956   \n",
       "DES_VISIB       -0.002116  0.000691 -0.018410 -0.009050 -0.006746  0.020311   \n",
       "DES_WDSP        -0.001400 -0.003064  0.005576  0.011907  0.000644 -0.015729   \n",
       "DES_GUST        -0.000522 -0.000030 -0.125372 -0.069726 -0.029305 -0.069170   \n",
       "DES_PRCP         0.010913 -0.001841  0.009773  0.006255  0.013772 -0.001253   \n",
       "\n",
       "                 DES_DEWP   DES_SLP  DES_VISIB  DES_WDSP  DES_GUST  DES_PRCP  \n",
       "MONTH            0.022473 -0.002937   0.004021 -0.009885  0.039996  0.004463  \n",
       "DEPARTURE_DELAY -0.001804 -0.000389  -0.006233  0.001950 -0.026606  0.006055  \n",
       "ARRIVAL_DELAY    0.000387  0.004068  -0.005159  0.006343 -0.037943  0.009528  \n",
       "OR_TEMP          0.053607 -0.009021   0.017867 -0.002815 -0.060979  0.004376  \n",
       "OR_DEWP          0.002027 -0.002810  -0.000371 -0.005054 -0.001939 -0.000343  \n",
       "OR_SLP          -0.002835  0.029593  -0.002116 -0.001400 -0.000522  0.010913  \n",
       "OR_VISIB        -0.000374 -0.002125   0.000691 -0.003064 -0.000030 -0.001841  \n",
       "OR_WDSP         -0.024581  0.000286  -0.018410  0.005576 -0.125372  0.009773  \n",
       "OR_GUST         -0.015403  0.002521  -0.009050  0.011907 -0.069726  0.006255  \n",
       "OR_PRCP          0.000673 -0.000341  -0.006746  0.000644 -0.029305  0.013772  \n",
       "DES_TEMP         0.072201 -0.024956   0.020311 -0.015729 -0.069170 -0.001253  \n",
       "DES_DEWP         1.000000  0.200075   0.915746  0.795603  0.025920  0.000034  \n",
       "DES_SLP          0.200075  1.000000   0.190135  0.243806  0.002439  0.338556  \n",
       "DES_VISIB        0.915746  0.190135   1.000000  0.750385  0.025186 -0.003557  \n",
       "DES_WDSP         0.795603  0.243806   0.750385  1.000000 -0.059534  0.001295  \n",
       "DES_GUST         0.025920  0.002439   0.025186 -0.059534  1.000000 -0.016232  \n",
       "DES_PRCP         0.000034  0.338556  -0.003557  0.001295 -0.016232  1.000000  "
      ]
     },
     "execution_count": 132,
     "metadata": {},
     "output_type": "execute_result"
    }
   ],
   "source": [
    "fw_corr"
   ]
  },
  {
   "cell_type": "markdown",
   "metadata": {},
   "source": [
    "### Linear Regression\n",
    "\n",
    "Let's first estimate the model coefficients for the data."
   ]
  },
  {
   "cell_type": "code",
   "execution_count": 216,
   "metadata": {},
   "outputs": [
    {
     "data": {
      "text/plain": [
       "Intercept    7.543403\n",
       "OR_TEMP     -0.043193\n",
       "dtype: float64"
      ]
     },
     "execution_count": 216,
     "metadata": {},
     "output_type": "execute_result"
    }
   ],
   "source": [
    "import statsmodels.formula.api as smf\n",
    "\n",
    "lm = smf.ols(formula='ARRIVAL_DELAY ~ OR_TEMP', data=fw).fit()\n",
    "\n",
    "lm.params"
   ]
  },
  {
   "cell_type": "code",
   "execution_count": 217,
   "metadata": {},
   "outputs": [
    {
     "data": {
      "text/html": [
       "<div>\n",
       "<style>\n",
       "    .dataframe thead tr:only-child th {\n",
       "        text-align: right;\n",
       "    }\n",
       "\n",
       "    .dataframe thead th {\n",
       "        text-align: left;\n",
       "    }\n",
       "\n",
       "    .dataframe tbody tr th {\n",
       "        vertical-align: top;\n",
       "    }\n",
       "</style>\n",
       "<table border=\"1\" class=\"dataframe\">\n",
       "  <thead>\n",
       "    <tr style=\"text-align: right;\">\n",
       "      <th></th>\n",
       "      <th>OR_TEMP</th>\n",
       "    </tr>\n",
       "  </thead>\n",
       "  <tbody>\n",
       "    <tr>\n",
       "      <th>0</th>\n",
       "      <td>-38.2</td>\n",
       "    </tr>\n",
       "    <tr>\n",
       "      <th>1</th>\n",
       "      <td>99.8</td>\n",
       "    </tr>\n",
       "  </tbody>\n",
       "</table>\n",
       "</div>"
      ],
      "text/plain": [
       "   OR_TEMP\n",
       "0    -38.2\n",
       "1     99.8"
      ]
     },
     "execution_count": 217,
     "metadata": {},
     "output_type": "execute_result"
    }
   ],
   "source": [
    "# Create a DataFrame with the minimum and maximum values of OR_TEMP\n",
    "X_new = pd.DataFrame({'OR_TEMP': [fw.OR_TEMP.min(), fw.OR_TEMP.max()]})\n",
    "X_new.head()"
   ]
  },
  {
   "cell_type": "code",
   "execution_count": 218,
   "metadata": {},
   "outputs": [
    {
     "data": {
      "text/plain": [
       "0    9.193378\n",
       "1    3.232736\n",
       "dtype: float64"
      ]
     },
     "execution_count": 218,
     "metadata": {},
     "output_type": "execute_result"
    }
   ],
   "source": [
    "# Make predictions for these x values and store them\n",
    "preds = lm.predict(X_new)\n",
    "preds"
   ]
  },
  {
   "cell_type": "code",
   "execution_count": 204,
   "metadata": {},
   "outputs": [
    {
     "data": {
      "text/plain": [
       "[<matplotlib.lines.Line2D at 0x13643bc50>]"
      ]
     },
     "execution_count": 204,
     "metadata": {},
     "output_type": "execute_result"
    },
    {
     "data": {
      "image/png": "[encoded data removed]",
      "text/plain": [
       "<matplotlib.figure.Figure at 0x13643b4d0>"
      ]
     },
     "metadata": {},
     "output_type": "display_data"
    }
   ],
   "source": [
    "# First, plot the observed data\n",
    "fw.plot('OR_TEMP', 'ARRIVAL_DELAY', kind='scatter', title='Delay Time vs. Origin Temperature')\n",
    "plt.xlabel('Temperature (Fahrenheit)')\n",
    "plt.ylabel('Delay Time (Minutes)')\n",
    "\n",
    "# Then, plot the least squares line\n",
    "plt.plot(X_new, preds, c='red', linewidth=2)"
   ]
  },
  {
   "cell_type": "markdown",
   "metadata": {},
   "source": [
    "Upon visual inspection, we can see that the data doesn't seem to fit a linear trend. This fact also seems to be reflected in the regression line. The line of best fit is basically a horizontal line that's very close to zero. This does make sense because the means of delay time per month are pretty low anyway."
   ]
  },
  {
   "cell_type": "markdown",
   "metadata": {},
   "source": [
    "### Linear Regression, Part 2 (Extreme Temperatures)\n",
    "\n",
    "In the previous part, we actaully did seem to find a correlation between temperature and delay time when the temperature was \"extreme.\" Let's try a regression again, but this time on the extreme temp set."
   ]
  },
  {
   "cell_type": "code",
   "execution_count": 209,
   "metadata": {},
   "outputs": [
    {
     "data": {
      "text/plain": [
       "Intercept    11.228797\n",
       "OR_TEMP      -0.073978\n",
       "dtype: float64"
      ]
     },
     "execution_count": 209,
     "metadata": {},
     "output_type": "execute_result"
    }
   ],
   "source": [
    "lm_extreme = smf.ols(formula='ARRIVAL_DELAY ~ OR_TEMP', data=fw_extreme).fit()\n",
    "\n",
    "lm_extreme.params"
   ]
  },
  {
   "cell_type": "code",
   "execution_count": 199,
   "metadata": {},
   "outputs": [
    {
     "data": {
      "text/html": [
       "<div>\n",
       "<style>\n",
       "    .dataframe thead tr:only-child th {\n",
       "        text-align: right;\n",
       "    }\n",
       "\n",
       "    .dataframe thead th {\n",
       "        text-align: left;\n",
       "    }\n",
       "\n",
       "    .dataframe tbody tr th {\n",
       "        vertical-align: top;\n",
       "    }\n",
       "</style>\n",
       "<table border=\"1\" class=\"dataframe\">\n",
       "  <thead>\n",
       "    <tr style=\"text-align: right;\">\n",
       "      <th></th>\n",
       "      <th>OR_TEMP</th>\n",
       "    </tr>\n",
       "  </thead>\n",
       "  <tbody>\n",
       "    <tr>\n",
       "      <th>0</th>\n",
       "      <td>-38.2</td>\n",
       "    </tr>\n",
       "    <tr>\n",
       "      <th>1</th>\n",
       "      <td>99.8</td>\n",
       "    </tr>\n",
       "  </tbody>\n",
       "</table>\n",
       "</div>"
      ],
      "text/plain": [
       "   OR_TEMP\n",
       "0    -38.2\n",
       "1     99.8"
      ]
     },
     "execution_count": 199,
     "metadata": {},
     "output_type": "execute_result"
    }
   ],
   "source": [
    "# Create a DataFrame with the minimum and maximum values of OR_TEMP\n",
    "X_new_extreme = pd.DataFrame({'OR_TEMP': [fw_extreme.OR_TEMP.min(), fw_extreme.OR_TEMP.max()]})\n",
    "X_new_extreme.head()"
   ]
  },
  {
   "cell_type": "code",
   "execution_count": 200,
   "metadata": {},
   "outputs": [
    {
     "data": {
      "text/plain": [
       "0    14.054759\n",
       "1     3.845787\n",
       "dtype: float64"
      ]
     },
     "execution_count": 200,
     "metadata": {},
     "output_type": "execute_result"
    }
   ],
   "source": [
    "# Make predictions for these x values and store them\n",
    "preds_extreme = lm.predict(X_new_extreme)\n",
    "preds_extreme"
   ]
  },
  {
   "cell_type": "code",
   "execution_count": 205,
   "metadata": {},
   "outputs": [
    {
     "data": {
      "text/plain": [
       "[<matplotlib.lines.Line2D at 0x138036e50>]"
      ]
     },
     "execution_count": 205,
     "metadata": {},
     "output_type": "execute_result"
    },
    {
     "data": {
      "image/png": "[encoded data removed]",
      "text/plain": [
       "<matplotlib.figure.Figure at 0x1370151d0>"
      ]
     },
     "metadata": {},
     "output_type": "display_data"
    }
   ],
   "source": [
    "# First, plot the observed data\n",
    "fw_extreme.plot('OR_TEMP', 'ARRIVAL_DELAY', kind='scatter', title='Delay Time vs. \\'Extreme\\' Origin Temperature')\n",
    "plt.xlabel('Temperature (Fahrenheit)')\n",
    "plt.ylabel('Delay Time (Minutes)')\n",
    "\n",
    "# Then, plot the least squares line\n",
    "plt.plot(X_new_extreme, preds_extreme, c='red', linewidth=2)"
   ]
  },
  {
   "cell_type": "markdown",
   "metadata": {},
   "source": [
    "This regression is also not very good, as this data also doesn't seem to follow a linear trend (although there does seem to be these upward and downward trends in the max values per temp).\n",
    "\n",
    "### Hypothesis Testing, Part 2\n",
    "\n",
    "Let's take a look at the p-values from the regression model and see how that compares to our test before."
   ]
  },
  {
   "cell_type": "code",
   "execution_count": 215,
   "metadata": {},
   "outputs": [
    {
     "data": {
      "text/html": [
       "<div>\n",
       "<style>\n",
       "    .dataframe thead tr:only-child th {\n",
       "        text-align: right;\n",
       "    }\n",
       "\n",
       "    .dataframe thead th {\n",
       "        text-align: left;\n",
       "    }\n",
       "\n",
       "    .dataframe tbody tr th {\n",
       "        vertical-align: top;\n",
       "    }\n",
       "</style>\n",
       "<table border=\"1\" class=\"dataframe\">\n",
       "  <thead>\n",
       "    <tr style=\"text-align: right;\">\n",
       "      <th></th>\n",
       "      <th>0</th>\n",
       "      <th>1</th>\n",
       "    </tr>\n",
       "  </thead>\n",
       "  <tbody>\n",
       "    <tr>\n",
       "      <th>Intercept</th>\n",
       "      <td>11.081103</td>\n",
       "      <td>11.376492</td>\n",
       "    </tr>\n",
       "    <tr>\n",
       "      <th>OR_TEMP</th>\n",
       "      <td>-0.076336</td>\n",
       "      <td>-0.071620</td>\n",
       "    </tr>\n",
       "  </tbody>\n",
       "</table>\n",
       "</div>"
      ],
      "text/plain": [
       "                   0          1\n",
       "Intercept  11.081103  11.376492\n",
       "OR_TEMP    -0.076336  -0.071620"
      ]
     },
     "execution_count": 215,
     "metadata": {},
     "output_type": "execute_result"
    }
   ],
   "source": [
    "# Print the confidence intervals for the model coefficients\n",
    "lm_extreme.conf_int()"
   ]
  },
  {
   "cell_type": "code",
   "execution_count": 210,
   "metadata": {},
   "outputs": [
    {
     "data": {
      "text/plain": [
       "Intercept    0.0\n",
       "OR_TEMP      0.0\n",
       "dtype: float64"
      ]
     },
     "execution_count": 210,
     "metadata": {},
     "output_type": "execute_result"
    }
   ],
   "source": [
    "lm_extreme.pvalues"
   ]
  },
  {
   "cell_type": "markdown",
   "metadata": {},
   "source": [
    "#### Conclusion\n",
    "\n",
    "**p-value:** = 0.0\n",
    "\n",
    "It looks like we're getting the same result, p=value = 0. This means we can reject the null hypothesis and conclude that there *is* a relationship between extreme temperature and arrival delay (although that relationship is not linear)."
   ]
  }
 ],
 "metadata": {
  "kernelspec": {
   "display_name": "Python 2",
   "language": "python",
   "name": "python2"
  },
  "language_info": {
   "codemirror_mode": {
    "name": "ipython",
    "version": 2
   },
   "file_extension": ".py",
   "mimetype": "text/x-python",
   "name": "python",
   "nbconvert_exporter": "python",
   "pygments_lexer": "ipython2",
   "version": "2.7.13"
  }
 },
 "nbformat": 4,
 "nbformat_minor": 2
}

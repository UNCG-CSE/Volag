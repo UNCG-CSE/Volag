{
 "cells": [
  {
   "cell_type": "markdown",
   "metadata": {
    "collapsed": true
   },
   "source": [
    "## Statistics by day\n",
    "---\n",
    "Since our weather data is daily, it may not work to use it to predict delays of a specific flight, but it might be usable to predict average delays for an airport on a specific day. Since only the origin weather applies to all flights leaving an airport and and origin weather appears to have a stronger link to delays, I will focus on the origin airport.\n",
    "\n",
    "### Load Data File"
   ]
  },
  {
   "cell_type": "code",
   "execution_count": 1,
   "metadata": {
    "collapsed": true
   },
   "outputs": [],
   "source": [
    "%matplotlib inline\n",
    "import math\n",
    "import matplotlib.pyplot as plt\n",
    "from decimal import *\n",
    "import numpy as np # linear algebra\n",
    "import pandas as pd # read_csv and such\n",
    "from io import StringIO # convert strings to buffers or something like that.\n",
    "import os # for listing files in directory\n",
    "import seaborn as sns\n",
    "import scipy.stats as stats\n",
    "\n",
    "pd.options.display.max_columns = 99\n",
    "pd.options.display.max_rows = 99"
   ]
  },
  {
   "cell_type": "code",
   "execution_count": 2,
   "metadata": {
    "scrolled": true
   },
   "outputs": [
    {
     "data": {
      "text/html": [
       "<div>\n",
       "<style>\n",
       "    .dataframe thead tr:only-child th {\n",
       "        text-align: right;\n",
       "    }\n",
       "\n",
       "    .dataframe thead th {\n",
       "        text-align: left;\n",
       "    }\n",
       "\n",
       "    .dataframe tbody tr th {\n",
       "        vertical-align: top;\n",
       "    }\n",
       "</style>\n",
       "<table border=\"1\" class=\"dataframe\">\n",
       "  <thead>\n",
       "    <tr style=\"text-align: right;\">\n",
       "      <th></th>\n",
       "      <th>DATE</th>\n",
       "      <th>ORIGIN_AIRPORT</th>\n",
       "      <th>DESTINATION_AIRPORT</th>\n",
       "      <th>WEATHER_DELAY</th>\n",
       "      <th>OR_TEMP</th>\n",
       "      <th>OR_VISIB</th>\n",
       "      <th>OR_WDSP</th>\n",
       "      <th>OR_MXSPD</th>\n",
       "      <th>OR_SNDP</th>\n",
       "      <th>OR_PRCP</th>\n",
       "      <th>OR_GUST</th>\n",
       "      <th>OR_MAX</th>\n",
       "      <th>OR_MIN</th>\n",
       "      <th>OR_FOG</th>\n",
       "      <th>OR_RAIN_DRIZZLE</th>\n",
       "      <th>OR_SNOW_ICE_PELLETS</th>\n",
       "      <th>OR_HAIL</th>\n",
       "      <th>OR_THUNDER</th>\n",
       "      <th>OR_TORNADO_FUNNEL_CLOUD</th>\n",
       "      <th>DES_TEMP</th>\n",
       "      <th>DES_VISIB</th>\n",
       "      <th>DES_WDSP</th>\n",
       "      <th>DES_MXSPD</th>\n",
       "      <th>DES_SNDP</th>\n",
       "      <th>DES_PRCP</th>\n",
       "      <th>DES_GUST</th>\n",
       "      <th>DES_MAX</th>\n",
       "      <th>DES_MIN</th>\n",
       "      <th>DES_FOG</th>\n",
       "      <th>DES_RAIN_DRIZZLE</th>\n",
       "      <th>DES_SNOW_ICE_PELLETS</th>\n",
       "      <th>DES_HAIL</th>\n",
       "      <th>DES_THUNDER</th>\n",
       "      <th>DES_TORNADO_FUNNEL_CLOUD</th>\n",
       "    </tr>\n",
       "  </thead>\n",
       "  <tbody>\n",
       "    <tr>\n",
       "      <th>0</th>\n",
       "      <td>2015-01-01</td>\n",
       "      <td>ANC</td>\n",
       "      <td>SEA</td>\n",
       "      <td>NaN</td>\n",
       "      <td>35.1</td>\n",
       "      <td>7.5</td>\n",
       "      <td>3.6</td>\n",
       "      <td>6.0</td>\n",
       "      <td>999.9</td>\n",
       "      <td>0.09G</td>\n",
       "      <td>999.9</td>\n",
       "      <td>43.0</td>\n",
       "      <td>32.0</td>\n",
       "      <td>True</td>\n",
       "      <td>True</td>\n",
       "      <td>False</td>\n",
       "      <td>False</td>\n",
       "      <td>False</td>\n",
       "      <td>False</td>\n",
       "      <td>32.9</td>\n",
       "      <td>10.0</td>\n",
       "      <td>4.6</td>\n",
       "      <td>11.1</td>\n",
       "      <td>999.9</td>\n",
       "      <td>0.00G</td>\n",
       "      <td>999.9</td>\n",
       "      <td>42.1</td>\n",
       "      <td>26.1</td>\n",
       "      <td>False</td>\n",
       "      <td>False</td>\n",
       "      <td>False</td>\n",
       "      <td>False</td>\n",
       "      <td>False</td>\n",
       "      <td>False</td>\n",
       "    </tr>\n",
       "    <tr>\n",
       "      <th>1</th>\n",
       "      <td>2015-01-01</td>\n",
       "      <td>ANC</td>\n",
       "      <td>SEA</td>\n",
       "      <td>NaN</td>\n",
       "      <td>35.1</td>\n",
       "      <td>7.5</td>\n",
       "      <td>3.6</td>\n",
       "      <td>6.0</td>\n",
       "      <td>999.9</td>\n",
       "      <td>0.09G</td>\n",
       "      <td>999.9</td>\n",
       "      <td>43.0</td>\n",
       "      <td>32.0</td>\n",
       "      <td>True</td>\n",
       "      <td>True</td>\n",
       "      <td>False</td>\n",
       "      <td>False</td>\n",
       "      <td>False</td>\n",
       "      <td>False</td>\n",
       "      <td>32.9</td>\n",
       "      <td>10.0</td>\n",
       "      <td>4.6</td>\n",
       "      <td>11.1</td>\n",
       "      <td>999.9</td>\n",
       "      <td>0.00G</td>\n",
       "      <td>999.9</td>\n",
       "      <td>42.1</td>\n",
       "      <td>26.1</td>\n",
       "      <td>False</td>\n",
       "      <td>False</td>\n",
       "      <td>False</td>\n",
       "      <td>False</td>\n",
       "      <td>False</td>\n",
       "      <td>False</td>\n",
       "    </tr>\n",
       "    <tr>\n",
       "      <th>2</th>\n",
       "      <td>2015-01-01</td>\n",
       "      <td>ANC</td>\n",
       "      <td>SEA</td>\n",
       "      <td>NaN</td>\n",
       "      <td>35.1</td>\n",
       "      <td>7.5</td>\n",
       "      <td>3.6</td>\n",
       "      <td>6.0</td>\n",
       "      <td>999.9</td>\n",
       "      <td>0.09G</td>\n",
       "      <td>999.9</td>\n",
       "      <td>43.0</td>\n",
       "      <td>32.0</td>\n",
       "      <td>True</td>\n",
       "      <td>True</td>\n",
       "      <td>False</td>\n",
       "      <td>False</td>\n",
       "      <td>False</td>\n",
       "      <td>False</td>\n",
       "      <td>32.9</td>\n",
       "      <td>10.0</td>\n",
       "      <td>4.6</td>\n",
       "      <td>11.1</td>\n",
       "      <td>999.9</td>\n",
       "      <td>0.00G</td>\n",
       "      <td>999.9</td>\n",
       "      <td>42.1</td>\n",
       "      <td>26.1</td>\n",
       "      <td>False</td>\n",
       "      <td>False</td>\n",
       "      <td>False</td>\n",
       "      <td>False</td>\n",
       "      <td>False</td>\n",
       "      <td>False</td>\n",
       "    </tr>\n",
       "    <tr>\n",
       "      <th>3</th>\n",
       "      <td>2015-01-01</td>\n",
       "      <td>ANC</td>\n",
       "      <td>SEA</td>\n",
       "      <td>NaN</td>\n",
       "      <td>35.1</td>\n",
       "      <td>7.5</td>\n",
       "      <td>3.6</td>\n",
       "      <td>6.0</td>\n",
       "      <td>999.9</td>\n",
       "      <td>0.09G</td>\n",
       "      <td>999.9</td>\n",
       "      <td>43.0</td>\n",
       "      <td>32.0</td>\n",
       "      <td>True</td>\n",
       "      <td>True</td>\n",
       "      <td>False</td>\n",
       "      <td>False</td>\n",
       "      <td>False</td>\n",
       "      <td>False</td>\n",
       "      <td>32.9</td>\n",
       "      <td>10.0</td>\n",
       "      <td>4.6</td>\n",
       "      <td>11.1</td>\n",
       "      <td>999.9</td>\n",
       "      <td>0.00G</td>\n",
       "      <td>999.9</td>\n",
       "      <td>42.1</td>\n",
       "      <td>26.1</td>\n",
       "      <td>False</td>\n",
       "      <td>False</td>\n",
       "      <td>False</td>\n",
       "      <td>False</td>\n",
       "      <td>False</td>\n",
       "      <td>False</td>\n",
       "    </tr>\n",
       "    <tr>\n",
       "      <th>4</th>\n",
       "      <td>2015-01-01</td>\n",
       "      <td>ANC</td>\n",
       "      <td>SEA</td>\n",
       "      <td>NaN</td>\n",
       "      <td>35.1</td>\n",
       "      <td>7.5</td>\n",
       "      <td>3.6</td>\n",
       "      <td>6.0</td>\n",
       "      <td>999.9</td>\n",
       "      <td>0.09G</td>\n",
       "      <td>999.9</td>\n",
       "      <td>43.0</td>\n",
       "      <td>32.0</td>\n",
       "      <td>True</td>\n",
       "      <td>True</td>\n",
       "      <td>False</td>\n",
       "      <td>False</td>\n",
       "      <td>False</td>\n",
       "      <td>False</td>\n",
       "      <td>32.9</td>\n",
       "      <td>10.0</td>\n",
       "      <td>4.6</td>\n",
       "      <td>11.1</td>\n",
       "      <td>999.9</td>\n",
       "      <td>0.00G</td>\n",
       "      <td>999.9</td>\n",
       "      <td>42.1</td>\n",
       "      <td>26.1</td>\n",
       "      <td>False</td>\n",
       "      <td>False</td>\n",
       "      <td>False</td>\n",
       "      <td>False</td>\n",
       "      <td>False</td>\n",
       "      <td>False</td>\n",
       "    </tr>\n",
       "  </tbody>\n",
       "</table>\n",
       "</div>"
      ],
      "text/plain": [
       "        DATE ORIGIN_AIRPORT DESTINATION_AIRPORT  WEATHER_DELAY  OR_TEMP  \\\n",
       "0 2015-01-01            ANC                 SEA            NaN     35.1   \n",
       "1 2015-01-01            ANC                 SEA            NaN     35.1   \n",
       "2 2015-01-01            ANC                 SEA            NaN     35.1   \n",
       "3 2015-01-01            ANC                 SEA            NaN     35.1   \n",
       "4 2015-01-01            ANC                 SEA            NaN     35.1   \n",
       "\n",
       "   OR_VISIB  OR_WDSP  OR_MXSPD  OR_SNDP OR_PRCP  OR_GUST OR_MAX OR_MIN  \\\n",
       "0       7.5      3.6       6.0    999.9   0.09G    999.9   43.0   32.0   \n",
       "1       7.5      3.6       6.0    999.9   0.09G    999.9   43.0   32.0   \n",
       "2       7.5      3.6       6.0    999.9   0.09G    999.9   43.0   32.0   \n",
       "3       7.5      3.6       6.0    999.9   0.09G    999.9   43.0   32.0   \n",
       "4       7.5      3.6       6.0    999.9   0.09G    999.9   43.0   32.0   \n",
       "\n",
       "   OR_FOG  OR_RAIN_DRIZZLE  OR_SNOW_ICE_PELLETS  OR_HAIL  OR_THUNDER  \\\n",
       "0    True             True                False    False       False   \n",
       "1    True             True                False    False       False   \n",
       "2    True             True                False    False       False   \n",
       "3    True             True                False    False       False   \n",
       "4    True             True                False    False       False   \n",
       "\n",
       "   OR_TORNADO_FUNNEL_CLOUD  DES_TEMP  DES_VISIB  DES_WDSP  DES_MXSPD  \\\n",
       "0                    False      32.9       10.0       4.6       11.1   \n",
       "1                    False      32.9       10.0       4.6       11.1   \n",
       "2                    False      32.9       10.0       4.6       11.1   \n",
       "3                    False      32.9       10.0       4.6       11.1   \n",
       "4                    False      32.9       10.0       4.6       11.1   \n",
       "\n",
       "   DES_SNDP DES_PRCP  DES_GUST DES_MAX DES_MIN  DES_FOG  DES_RAIN_DRIZZLE  \\\n",
       "0     999.9    0.00G     999.9    42.1    26.1    False             False   \n",
       "1     999.9    0.00G     999.9    42.1    26.1    False             False   \n",
       "2     999.9    0.00G     999.9    42.1    26.1    False             False   \n",
       "3     999.9    0.00G     999.9    42.1    26.1    False             False   \n",
       "4     999.9    0.00G     999.9    42.1    26.1    False             False   \n",
       "\n",
       "   DES_SNOW_ICE_PELLETS  DES_HAIL  DES_THUNDER  DES_TORNADO_FUNNEL_CLOUD  \n",
       "0                 False     False        False                     False  \n",
       "1                 False     False        False                     False  \n",
       "2                 False     False        False                     False  \n",
       "3                 False     False        False                     False  \n",
       "4                 False     False        False                     False  "
      ]
     },
     "execution_count": 2,
     "metadata": {},
     "output_type": "execute_result"
    }
   ],
   "source": [
    "flights_weather_path = '../data/flight_delays_2015/flights_weather.csv'\n",
    "dtypes = {\n",
    "    'ORIGIN_AIRPORT': 'str', \n",
    "    'DESTINATION_AIRPORT': 'str', \n",
    "    'IATA_CODE_x': 'str', \n",
    "    'origin_weather_station': 'str', \n",
    "    'IATA_CODE_y': 'str', \n",
    "    'destination_weather_station': 'str', \n",
    "    'OR_MAX': 'str', \n",
    "    'OR_MIN': 'str', \n",
    "    'OR_PRCP': 'str', \n",
    "    'DES_MAX': 'str', \n",
    "    'DES_MIN': 'str', \n",
    "    'DES_PRCP': 'str', \n",
    "    'OR_FRSHTT': 'str', \n",
    "    'DES_FRSHTT': 'str'\n",
    "}\n",
    "fw_df = pd.read_csv(flights_weather_path, dtype=dtypes, parse_dates=['DATE'])\n",
    "fw_df = fw_df[['DATE', 'ORIGIN_AIRPORT', 'DESTINATION_AIRPORT', 'WEATHER_DELAY', 'OR_TEMP', 'OR_VISIB',\n",
    "               'OR_WDSP', 'OR_MXSPD', 'OR_SNDP', 'OR_PRCP', 'OR_GUST', 'OR_MAX', 'OR_MIN', 'OR_FOG',\n",
    "               'OR_RAIN_DRIZZLE', 'OR_SNOW_ICE_PELLETS', 'OR_HAIL', 'OR_THUNDER', 'OR_TORNADO_FUNNEL_CLOUD',\n",
    "               'DES_TEMP', 'DES_VISIB', 'DES_WDSP', 'DES_MXSPD', 'DES_SNDP', 'DES_PRCP', 'DES_GUST', 'DES_MAX',\n",
    "               'DES_MIN', 'DES_FOG', 'DES_RAIN_DRIZZLE', 'DES_SNOW_ICE_PELLETS', 'DES_HAIL', 'DES_THUNDER',\n",
    "               'DES_TORNADO_FUNNEL_CLOUD']]\n",
    "fw_df.head()"
   ]
  },
  {
   "cell_type": "code",
   "execution_count": 3,
   "metadata": {
    "collapsed": true
   },
   "outputs": [],
   "source": [
    "fw_df['OR_PRCP'] = pd.to_numeric(fw_df['OR_PRCP'].str.replace('A|B|C|D|E|F|G|H|I', ''))\n",
    "fw_df['OR_MAX'] = pd.to_numeric(fw_df['OR_MAX'].str.replace('*', ''))\n",
    "fw_df['OR_MIN'] = pd.to_numeric(fw_df['OR_MIN'].str.replace('*', ''))\n",
    "fw_df.loc[fw_df['OR_TEMP'] == 9999.9, 'OR_TEMP'] = fw_df.OR_TEMP.mean()\n",
    "fw_df.loc[fw_df['OR_WDSP'] == 999.9, 'OR_WDSP'] = fw_df.OR_WDSP.mean()\n",
    "fw_df.loc[fw_df['OR_PRCP'] == 99.99, 'OR_PRCP'] = 0\n",
    "fw_df.loc[fw_df['OR_VISIB'] == 999.9, 'OR_VISIB'] = fw_df.OR_VISIB.mean()\n",
    "fw_df.loc[fw_df['OR_GUST'] == 999.9, 'OR_GUST'] = fw_df.OR_GUST.mean()\n",
    "fw_df.loc[fw_df['OR_MAX'] == 9999.9, 'OR_MAX'] = fw_df.OR_MAX.mean()\n",
    "fw_df.loc[fw_df['OR_MIN'] == 9999.9, 'OR_MIN'] = fw_df.OR_MIN.mean()\n",
    "fw_df.loc[fw_df['OR_WDSP'] == 999.9, 'OR_WDSP'] = fw_df.OR_WDSP.mean()\n",
    "fw_df.loc[fw_df['OR_MXSPD'] == 999.9, 'OR_MXSPD'] = fw_df.OR_MXSPD.mean()\n",
    "fw_df.loc[fw_df['OR_SNDP'] == 999.9, 'OR_SNDP'] = 0\n",
    "fw_df.loc[fw_df['OR_FOG'] == True, 'OR_FOGV'] = 1\n",
    "fw_df.loc[fw_df['OR_FOG'] == False, 'OR_FOGV'] = 0\n",
    "fw_df.loc[fw_df['OR_RAIN_DRIZZLE'] == True, 'OR_RAIN_DRIZZLEV'] = 1\n",
    "fw_df.loc[fw_df['OR_RAIN_DRIZZLE'] == False, 'OR_RAIN_DRIZZLEV'] = 0\n",
    "fw_df.loc[fw_df['OR_SNOW_ICE_PELLETS'] == True, 'OR_SNOW_ICE_PELLETSV'] = 1\n",
    "fw_df.loc[fw_df['OR_SNOW_ICE_PELLETS'] == False, 'OR_SNOW_ICE_PELLETSV'] = 0\n",
    "fw_df.loc[fw_df['OR_HAIL'] == True, 'OR_HAILV'] = 1\n",
    "fw_df.loc[fw_df['OR_HAIL'] == False, 'OR_HAILV'] = 0\n",
    "fw_df.loc[fw_df['OR_THUNDER'] == True, 'OR_THUNDERV'] = 1\n",
    "fw_df.loc[fw_df['OR_THUNDER'] == False, 'OR_THUNDERV'] = 0\n",
    "fw_df.loc[fw_df['OR_TORNADO_FUNNEL_CLOUD'] == True, 'OR_TORNADO_FUNNEL_CLOUDV'] = 1\n",
    "fw_df.loc[fw_df['OR_TORNADO_FUNNEL_CLOUD'] == False, 'OR_TORNADO_FUNNEL_CLOUDV'] = 0\n",
    "fw_df['DES_PRCP'] = pd.to_numeric(fw_df['DES_PRCP'].str.replace('A|B|C|D|E|F|G|H|I', ''))\n",
    "fw_df['DES_MAX'] = pd.to_numeric(fw_df['DES_MAX'].str.replace('*', ''))\n",
    "fw_df['DES_MIN'] = pd.to_numeric(fw_df['DES_MIN'].str.replace('*', ''))\n",
    "fw_df.loc[fw_df['DES_TEMP'] == 9999.9, 'DES_TEMP'] = fw_df.DES_TEMP.mean()\n",
    "fw_df.loc[fw_df['DES_WDSP'] == 999.9, 'DES_WDSP'] = fw_df.DES_WDSP.mean()\n",
    "fw_df.loc[fw_df['DES_PRCP'] == 99.99, 'DES_PRCP'] = 0\n",
    "fw_df.loc[fw_df['DES_VISIB'] == 999.9, 'DES_VISIB'] = fw_df.DES_VISIB.mean()\n",
    "fw_df.loc[fw_df['DES_GUST'] == 999.9, 'DES_GUST'] = fw_df.DES_GUST.mean()\n",
    "fw_df.loc[fw_df['DES_MAX'] == 9999.9, 'DES_MAX'] = fw_df.DES_MAX.mean()\n",
    "fw_df.loc[fw_df['DES_MIN'] == 9999.9, 'DES_MIN'] = fw_df.DES_MIN.mean()\n",
    "fw_df.loc[fw_df['DES_WDSP'] == 999.9, 'DES_WDSP'] = fw_df.DES_WDSP.mean()\n",
    "fw_df.loc[fw_df['DES_MXSPD'] == 999.9, 'DES_MXSPD'] = fw_df.DES_MXSPD.mean()\n",
    "fw_df.loc[fw_df['DES_SNDP'] == 999.9, 'DES_SNDP'] = 0\n",
    "fw_df.loc[fw_df['DES_FOG'] == True, 'DES_FOGV'] = 1\n",
    "fw_df.loc[fw_df['DES_FOG'] == False, 'DES_FOGV'] = 0\n",
    "fw_df.loc[fw_df['DES_RAIN_DRIZZLE'] == True, 'DES_RAIN_DRIZZLEV'] = 1\n",
    "fw_df.loc[fw_df['DES_RAIN_DRIZZLE'] == False, 'DES_RAIN_DRIZZLEV'] = 0\n",
    "fw_df.loc[fw_df['DES_SNOW_ICE_PELLETS'] == True, 'DES_SNOW_ICE_PELLETSV'] = 1\n",
    "fw_df.loc[fw_df['DES_SNOW_ICE_PELLETS'] == False, 'DES_SNOW_ICE_PELLETSV'] = 0\n",
    "fw_df.loc[fw_df['DES_HAIL'] == True, 'DES_HAILV'] = 1\n",
    "fw_df.loc[fw_df['DES_HAIL'] == False, 'DES_HAILV'] = 0\n",
    "fw_df.loc[fw_df['DES_THUNDER'] == True, 'DES_THUNDERV'] = 1\n",
    "fw_df.loc[fw_df['DES_THUNDER'] == False, 'DES_THUNDERV'] = 0\n",
    "fw_df.loc[fw_df['DES_TORNADO_FUNNEL_CLOUD'] == True, 'DES_TORNADO_FUNNEL_CLOUDV'] = 1\n",
    "fw_df.loc[fw_df['DES_TORNADO_FUNNEL_CLOUD'] == False, 'DES_TORNADO_FUNNEL_CLOUDV'] = 0\n",
    "fw_df.loc[fw_df['WEATHER_DELAY'].isnull(), 'WEATHER_DELAY'] = 0\n"
   ]
  },
  {
   "cell_type": "code",
   "execution_count": 4,
   "metadata": {
    "collapsed": true
   },
   "outputs": [],
   "source": [
    "fw_df = fw_df[['DATE', 'ORIGIN_AIRPORT', 'DESTINATION_AIRPORT', 'WEATHER_DELAY', 'OR_TEMP', 'OR_VISIB', \n",
    "               'OR_WDSP', 'OR_MXSPD', 'OR_SNDP', 'OR_PRCP', 'OR_MAX', 'OR_MIN', 'OR_FOGV',\n",
    "               'OR_RAIN_DRIZZLEV', 'OR_SNOW_ICE_PELLETSV', 'OR_HAILV', 'OR_THUNDERV', 'OR_TORNADO_FUNNEL_CLOUDV',\n",
    "               'DES_TEMP', 'DES_VISIB', 'DES_WDSP', 'DES_MXSPD', 'DES_SNDP', 'DES_PRCP', 'DES_MAX',\n",
    "               'DES_MIN', 'DES_FOGV', 'DES_RAIN_DRIZZLEV', 'DES_SNOW_ICE_PELLETSV', 'DES_HAILV', 'DES_THUNDERV',\n",
    "               'DES_TORNADO_FUNNEL_CLOUDV']]"
   ]
  },
  {
   "cell_type": "code",
   "execution_count": 5,
   "metadata": {
    "collapsed": true
   },
   "outputs": [],
   "source": [
    "fw_airports = fw_df.groupby(['DATE', 'ORIGIN_AIRPORT'], as_index=False).mean()"
   ]
  },
  {
   "cell_type": "markdown",
   "metadata": {},
   "source": [
    "### Hypothesis Tests\n",
    "\n",
    "Our null hypothesis would be that the mean weather conditions for flights with delays is the same as all flights. We can do this test for all of our weather variable, treating flights with a weather delay greater than 2 minutes as delayed:"
   ]
  },
  {
   "cell_type": "markdown",
   "metadata": {},
   "source": [
    "#### Origin Precipitation"
   ]
  },
  {
   "cell_type": "code",
   "execution_count": 7,
   "metadata": {},
   "outputs": [
    {
     "data": {
      "text/plain": [
       "Ttest_indResult(statistic=15.99094642281525, pvalue=2.5416701109319971e-56)"
      ]
     },
     "execution_count": 7,
     "metadata": {},
     "output_type": "execute_result"
    }
   ],
   "source": [
    "stats.ttest_ind(a=fw_airports.loc[fw_airports['WEATHER_DELAY'] >= 1, 'OR_PRCP'], \n",
    "                b=fw_airports.loc[fw_airports['WEATHER_DELAY'] < 1, 'OR_PRCP'],\n",
    "                 equal_var=False)"
   ]
  },
  {
   "cell_type": "markdown",
   "metadata": {},
   "source": [
    "#### Origin Temp"
   ]
  },
  {
   "cell_type": "code",
   "execution_count": 8,
   "metadata": {
    "scrolled": true
   },
   "outputs": [
    {
     "data": {
      "text/plain": [
       "Ttest_indResult(statistic=-1.8035889272382468, pvalue=0.071347019670119569)"
      ]
     },
     "execution_count": 8,
     "metadata": {},
     "output_type": "execute_result"
    }
   ],
   "source": [
    "stats.ttest_ind(a=fw_airports.loc[fw_airports['WEATHER_DELAY'] >= 1, 'OR_TEMP'], \n",
    "                b=fw_airports.loc[fw_airports['WEATHER_DELAY'] < 1, 'OR_TEMP'],\n",
    "                 equal_var=False)"
   ]
  },
  {
   "cell_type": "markdown",
   "metadata": {},
   "source": [
    "#### Origin Max Temp"
   ]
  },
  {
   "cell_type": "code",
   "execution_count": 9,
   "metadata": {},
   "outputs": [
    {
     "data": {
      "text/plain": [
       "Ttest_indResult(statistic=-3.6849325886630098, pvalue=0.00023082118171332882)"
      ]
     },
     "execution_count": 9,
     "metadata": {},
     "output_type": "execute_result"
    }
   ],
   "source": [
    "stats.ttest_ind(a=fw_airports.loc[fw_airports['WEATHER_DELAY'] >= 1, 'OR_MAX'], \n",
    "                b=fw_airports.loc[fw_airports['WEATHER_DELAY'] < 1, 'OR_MAX'],\n",
    "                 equal_var=False)"
   ]
  },
  {
   "cell_type": "markdown",
   "metadata": {},
   "source": [
    "#### Origin Min Temp"
   ]
  },
  {
   "cell_type": "code",
   "execution_count": 10,
   "metadata": {},
   "outputs": [
    {
     "data": {
      "text/plain": [
       "Ttest_indResult(statistic=1.8727486869702372, pvalue=0.061152636194478062)"
      ]
     },
     "execution_count": 10,
     "metadata": {},
     "output_type": "execute_result"
    }
   ],
   "source": [
    "stats.ttest_ind(a=fw_airports.loc[fw_airports['WEATHER_DELAY'] >= 1, 'OR_MIN'], \n",
    "                b=fw_airports.loc[fw_airports['WEATHER_DELAY'] < 1, 'OR_MIN'],\n",
    "                 equal_var=False)"
   ]
  },
  {
   "cell_type": "markdown",
   "metadata": {},
   "source": [
    "#### Origin Windspeed"
   ]
  },
  {
   "cell_type": "code",
   "execution_count": 11,
   "metadata": {},
   "outputs": [
    {
     "data": {
      "text/plain": [
       "Ttest_indResult(statistic=12.933958534665889, pvalue=9.3226561557838483e-38)"
      ]
     },
     "execution_count": 11,
     "metadata": {},
     "output_type": "execute_result"
    }
   ],
   "source": [
    "stats.ttest_ind(a=fw_airports.loc[fw_airports['WEATHER_DELAY'] >= 1, 'OR_WDSP'], \n",
    "                b=fw_airports.loc[fw_airports['WEATHER_DELAY'] < 1, 'OR_WDSP'],\n",
    "                 equal_var=False)"
   ]
  },
  {
   "cell_type": "markdown",
   "metadata": {},
   "source": [
    "#### Origin Visibility"
   ]
  },
  {
   "cell_type": "code",
   "execution_count": 13,
   "metadata": {},
   "outputs": [
    {
     "data": {
      "text/plain": [
       "Ttest_indResult(statistic=-30.196614722237278, pvalue=6.0863055705511551e-186)"
      ]
     },
     "execution_count": 13,
     "metadata": {},
     "output_type": "execute_result"
    }
   ],
   "source": [
    "stats.ttest_ind(a=fw_airports.loc[fw_airports['WEATHER_DELAY'] >= 1, 'OR_VISIB'], \n",
    "                b=fw_airports.loc[fw_airports['WEATHER_DELAY'] < 1, 'OR_VISIB'],\n",
    "                 equal_var=False)"
   ]
  },
  {
   "cell_type": "markdown",
   "metadata": {
    "collapsed": true
   },
   "source": [
    "#### Origin Fog"
   ]
  },
  {
   "cell_type": "code",
   "execution_count": 14,
   "metadata": {},
   "outputs": [
    {
     "data": {
      "text/plain": [
       "Ttest_indResult(statistic=22.079318738348551, pvalue=1.0120639994741724e-103)"
      ]
     },
     "execution_count": 14,
     "metadata": {},
     "output_type": "execute_result"
    }
   ],
   "source": [
    "stats.ttest_ind(a=fw_airports.loc[fw_airports['WEATHER_DELAY'] >= 1, 'OR_FOGV'], \n",
    "                b=fw_airports.loc[fw_airports['WEATHER_DELAY'] < 1, 'OR_FOGV'],\n",
    "                 equal_var=False)"
   ]
  },
  {
   "cell_type": "markdown",
   "metadata": {},
   "source": [
    "#### Origin Rain or Drizzle"
   ]
  },
  {
   "cell_type": "code",
   "execution_count": 15,
   "metadata": {},
   "outputs": [
    {
     "data": {
      "text/plain": [
       "Ttest_indResult(statistic=31.697929270366714, pvalue=7.0849939979477167e-204)"
      ]
     },
     "execution_count": 15,
     "metadata": {},
     "output_type": "execute_result"
    }
   ],
   "source": [
    "stats.ttest_ind(a=fw_airports.loc[fw_airports['WEATHER_DELAY'] >= 1, 'OR_RAIN_DRIZZLEV'], \n",
    "                b=fw_airports.loc[fw_airports['WEATHER_DELAY'] < 1, 'OR_RAIN_DRIZZLEV'],\n",
    "                 equal_var=False)"
   ]
  },
  {
   "cell_type": "markdown",
   "metadata": {},
   "source": [
    "#### Origin Snow/Ice/Pellets"
   ]
  },
  {
   "cell_type": "code",
   "execution_count": 16,
   "metadata": {},
   "outputs": [
    {
     "data": {
      "text/plain": [
       "Ttest_indResult(statistic=22.880676565216234, pvalue=6.6138171767096105e-111)"
      ]
     },
     "execution_count": 16,
     "metadata": {},
     "output_type": "execute_result"
    }
   ],
   "source": [
    "stats.ttest_ind(a=fw_airports.loc[fw_airports['WEATHER_DELAY'] >= 1, 'OR_SNOW_ICE_PELLETSV'], \n",
    "                b=fw_airports.loc[fw_airports['WEATHER_DELAY'] < 1, 'OR_SNOW_ICE_PELLETSV'],\n",
    "                 equal_var=False)"
   ]
  },
  {
   "cell_type": "markdown",
   "metadata": {},
   "source": [
    "#### Origin Hail"
   ]
  },
  {
   "cell_type": "code",
   "execution_count": 17,
   "metadata": {},
   "outputs": [
    {
     "data": {
      "text/plain": [
       "Ttest_indResult(statistic=6.1551675155749521, pvalue=8.035377833819259e-10)"
      ]
     },
     "execution_count": 17,
     "metadata": {},
     "output_type": "execute_result"
    }
   ],
   "source": [
    "stats.ttest_ind(a=fw_airports.loc[fw_airports['WEATHER_DELAY'] >= 1, 'OR_HAILV'], \n",
    "                b=fw_airports.loc[fw_airports['WEATHER_DELAY'] < 1, 'OR_HAILV'],\n",
    "                 equal_var=False)"
   ]
  },
  {
   "cell_type": "markdown",
   "metadata": {},
   "source": [
    "#### Origin Thunder"
   ]
  },
  {
   "cell_type": "code",
   "execution_count": 18,
   "metadata": {},
   "outputs": [
    {
     "data": {
      "text/plain": [
       "Ttest_indResult(statistic=33.18813420581224, pvalue=9.8700875221811105e-221)"
      ]
     },
     "execution_count": 18,
     "metadata": {},
     "output_type": "execute_result"
    }
   ],
   "source": [
    "stats.ttest_ind(a=fw_airports.loc[fw_airports['WEATHER_DELAY'] >= 1, 'OR_THUNDERV'], \n",
    "                b=fw_airports.loc[fw_airports['WEATHER_DELAY'] < 1, 'OR_THUNDERV'],\n",
    "                 equal_var=False)"
   ]
  },
  {
   "cell_type": "markdown",
   "metadata": {},
   "source": [
    "#### Origin Tornado/Funnel Cloud"
   ]
  },
  {
   "cell_type": "code",
   "execution_count": 19,
   "metadata": {
    "scrolled": true
   },
   "outputs": [
    {
     "data": {
      "text/plain": [
       "Ttest_indResult(statistic=2.0525178871003678, pvalue=0.040166572972179307)"
      ]
     },
     "execution_count": 19,
     "metadata": {},
     "output_type": "execute_result"
    }
   ],
   "source": [
    "stats.ttest_ind(a=fw_airports.loc[fw_airports['WEATHER_DELAY'] >= 1, 'OR_TORNADO_FUNNEL_CLOUDV'], \n",
    "                b=fw_airports.loc[fw_airports['WEATHER_DELAY'] < 1, 'OR_TORNADO_FUNNEL_CLOUDV'],\n",
    "                 equal_var=False)"
   ]
  },
  {
   "cell_type": "markdown",
   "metadata": {
    "collapsed": true
   },
   "source": [
    "Based on rejecting with a pvalue less than .05, we can reject the null hypothesis for all features other than average temperature and min temperature.\n",
    "\n",
    "### Linear Regression\n",
    "\n",
    "We can perform a linear regression to see if we can predict average delay at an airport based on weather."
   ]
  },
  {
   "cell_type": "code",
   "execution_count": 20,
   "metadata": {},
   "outputs": [
    {
     "name": "stderr",
     "output_type": "stream",
     "text": [
      "/home/tcox/Envs/Volag/local/lib/python2.7/site-packages/sklearn/cross_validation.py:41: DeprecationWarning: This module was deprecated in version 0.18 in favor of the model_selection module into which all the refactored classes and functions are moved. Also note that the interface of the new CV iterators are different from that of this module. This module will be removed in 0.20.\n",
      "  \"This module will be removed in 0.20.\", DeprecationWarning)\n"
     ]
    }
   ],
   "source": [
    "from sklearn.cross_validation import train_test_split"
   ]
  },
  {
   "cell_type": "code",
   "execution_count": 22,
   "metadata": {},
   "outputs": [],
   "source": [
    "X_train, X_test, y_train, y_test = train_test_split(fw_airports[['OR_TEMP', 'OR_VISIB', \n",
    "               'OR_WDSP', 'OR_MXSPD', 'OR_SNDP', 'OR_PRCP', 'OR_MAX', 'OR_MIN', 'OR_FOGV',\n",
    "               'OR_RAIN_DRIZZLEV', 'OR_SNOW_ICE_PELLETSV', 'OR_HAILV', 'OR_THUNDERV', 'OR_TORNADO_FUNNEL_CLOUDV']], fw_airports[['WEATHER_DELAY']])\n"
   ]
  },
  {
   "cell_type": "code",
   "execution_count": 23,
   "metadata": {},
   "outputs": [
    {
     "name": "stdout",
     "output_type": "stream",
     "text": [
      "[ 2.19620548]\n",
      "[[  2.63121964e-03  -2.37702853e-01  -4.46934677e-03   3.02874326e-02\n",
      "   -1.83841830e-02   1.24018674e-01  -5.68676963e-04  -3.52535595e-03\n",
      "    6.91214366e-01  -1.19728416e-01   8.34651895e-01   2.65182671e+00\n",
      "    7.93816354e-01  -1.08522756e-01]]\n"
     ]
    }
   ],
   "source": [
    "from sklearn.linear_model import LinearRegression\n",
    "lm = LinearRegression()\n",
    "lm.fit(X_train, y_train)\n",
    "\n",
    "# print intercept and coefficients\n",
    "print lm.intercept_\n",
    "print lm.coef_"
   ]
  },
  {
   "cell_type": "code",
   "execution_count": 24,
   "metadata": {},
   "outputs": [
    {
     "data": {
      "text/plain": [
       "0.014309590387573401"
      ]
     },
     "execution_count": 24,
     "metadata": {},
     "output_type": "execute_result"
    }
   ],
   "source": [
    "lm.score(X_test, y_test)"
   ]
  },
  {
   "cell_type": "markdown",
   "metadata": {
    "collapsed": true
   },
   "source": [
    "This score is a little better than the per flight regression score but is still barely better than prediciting the mean for all inputs."
   ]
  }
 ],
 "metadata": {
  "kernelspec": {
   "display_name": "Python 2",
   "language": "python",
   "name": "python2"
  },
  "language_info": {
   "codemirror_mode": {
    "name": "ipython",
    "version": 2
   },
   "file_extension": ".py",
   "mimetype": "text/x-python",
   "name": "python",
   "nbconvert_exporter": "python",
   "pygments_lexer": "ipython2",
   "version": "2.7.13"
  }
 },
 "nbformat": 4,
 "nbformat_minor": 2
}

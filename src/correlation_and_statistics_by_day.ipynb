{
 "cells": [
  {
   "cell_type": "markdown",
   "metadata": {
    "collapsed": true
   },
   "source": [
    "### Load Data File"
   ]
  },
  {
   "cell_type": "code",
   "execution_count": 1,
   "metadata": {
    "collapsed": true
   },
   "outputs": [],
   "source": [
    "%matplotlib inline\n",
    "import math\n",
    "import matplotlib.pyplot as plt\n",
    "from decimal import *\n",
    "import numpy as np # linear algebra\n",
    "import pandas as pd # read_csv and such\n",
    "from io import StringIO # convert strings to buffers or something like that.\n",
    "import os # for listing files in directory\n",
    "import seaborn as sns\n",
    "import scipy.stats as stats\n",
    "\n",
    "pd.options.display.max_columns = 99\n",
    "pd.options.display.max_rows = 99"
   ]
  },
  {
   "cell_type": "code",
   "execution_count": 67,
   "metadata": {
    "scrolled": true
   },
   "outputs": [
    {
     "data": {
      "text/html": [
       "<div>\n",
       "<style>\n",
       "    .dataframe thead tr:only-child th {\n",
       "        text-align: right;\n",
       "    }\n",
       "\n",
       "    .dataframe thead th {\n",
       "        text-align: left;\n",
       "    }\n",
       "\n",
       "    .dataframe tbody tr th {\n",
       "        vertical-align: top;\n",
       "    }\n",
       "</style>\n",
       "<table border=\"1\" class=\"dataframe\">\n",
       "  <thead>\n",
       "    <tr style=\"text-align: right;\">\n",
       "      <th></th>\n",
       "      <th>DATE</th>\n",
       "      <th>ORIGIN_AIRPORT</th>\n",
       "      <th>DESTINATION_AIRPORT</th>\n",
       "      <th>WEATHER_DELAY</th>\n",
       "      <th>OR_TEMP</th>\n",
       "      <th>OR_VISIB</th>\n",
       "      <th>OR_WDSP</th>\n",
       "      <th>OR_MXSPD</th>\n",
       "      <th>OR_SNDP</th>\n",
       "      <th>OR_PRCP</th>\n",
       "      <th>OR_GUST</th>\n",
       "      <th>OR_MAX</th>\n",
       "      <th>OR_MIN</th>\n",
       "      <th>OR_FOG</th>\n",
       "      <th>OR_RAIN_DRIZZLE</th>\n",
       "      <th>OR_SNOW_ICE_PELLETS</th>\n",
       "      <th>OR_HAIL</th>\n",
       "      <th>OR_THUNDER</th>\n",
       "      <th>OR_TORNADO_FUNNEL_CLOUD</th>\n",
       "      <th>DES_TEMP</th>\n",
       "      <th>DES_VISIB</th>\n",
       "      <th>DES_WDSP</th>\n",
       "      <th>DES_MXSPD</th>\n",
       "      <th>DES_SNDP</th>\n",
       "      <th>DES_PRCP</th>\n",
       "      <th>DES_GUST</th>\n",
       "      <th>DES_MAX</th>\n",
       "      <th>DES_MIN</th>\n",
       "      <th>DES_FOG</th>\n",
       "      <th>DES_RAIN_DRIZZLE</th>\n",
       "      <th>DES_SNOW_ICE_PELLETS</th>\n",
       "      <th>DES_HAIL</th>\n",
       "      <th>DES_THUNDER</th>\n",
       "      <th>DES_TORNADO_FUNNEL_CLOUD</th>\n",
       "    </tr>\n",
       "  </thead>\n",
       "  <tbody>\n",
       "    <tr>\n",
       "      <th>0</th>\n",
       "      <td>2015-01-01</td>\n",
       "      <td>ANC</td>\n",
       "      <td>SEA</td>\n",
       "      <td>NaN</td>\n",
       "      <td>35.1</td>\n",
       "      <td>7.5</td>\n",
       "      <td>3.6</td>\n",
       "      <td>6.0</td>\n",
       "      <td>999.9</td>\n",
       "      <td>0.09G</td>\n",
       "      <td>999.9</td>\n",
       "      <td>43.0</td>\n",
       "      <td>32.0</td>\n",
       "      <td>True</td>\n",
       "      <td>True</td>\n",
       "      <td>False</td>\n",
       "      <td>False</td>\n",
       "      <td>False</td>\n",
       "      <td>False</td>\n",
       "      <td>32.9</td>\n",
       "      <td>10.0</td>\n",
       "      <td>4.6</td>\n",
       "      <td>11.1</td>\n",
       "      <td>999.9</td>\n",
       "      <td>0.00G</td>\n",
       "      <td>999.9</td>\n",
       "      <td>42.1</td>\n",
       "      <td>26.1</td>\n",
       "      <td>False</td>\n",
       "      <td>False</td>\n",
       "      <td>False</td>\n",
       "      <td>False</td>\n",
       "      <td>False</td>\n",
       "      <td>False</td>\n",
       "    </tr>\n",
       "    <tr>\n",
       "      <th>1</th>\n",
       "      <td>2015-01-01</td>\n",
       "      <td>ANC</td>\n",
       "      <td>SEA</td>\n",
       "      <td>NaN</td>\n",
       "      <td>35.1</td>\n",
       "      <td>7.5</td>\n",
       "      <td>3.6</td>\n",
       "      <td>6.0</td>\n",
       "      <td>999.9</td>\n",
       "      <td>0.09G</td>\n",
       "      <td>999.9</td>\n",
       "      <td>43.0</td>\n",
       "      <td>32.0</td>\n",
       "      <td>True</td>\n",
       "      <td>True</td>\n",
       "      <td>False</td>\n",
       "      <td>False</td>\n",
       "      <td>False</td>\n",
       "      <td>False</td>\n",
       "      <td>32.9</td>\n",
       "      <td>10.0</td>\n",
       "      <td>4.6</td>\n",
       "      <td>11.1</td>\n",
       "      <td>999.9</td>\n",
       "      <td>0.00G</td>\n",
       "      <td>999.9</td>\n",
       "      <td>42.1</td>\n",
       "      <td>26.1</td>\n",
       "      <td>False</td>\n",
       "      <td>False</td>\n",
       "      <td>False</td>\n",
       "      <td>False</td>\n",
       "      <td>False</td>\n",
       "      <td>False</td>\n",
       "    </tr>\n",
       "    <tr>\n",
       "      <th>2</th>\n",
       "      <td>2015-01-01</td>\n",
       "      <td>ANC</td>\n",
       "      <td>SEA</td>\n",
       "      <td>NaN</td>\n",
       "      <td>35.1</td>\n",
       "      <td>7.5</td>\n",
       "      <td>3.6</td>\n",
       "      <td>6.0</td>\n",
       "      <td>999.9</td>\n",
       "      <td>0.09G</td>\n",
       "      <td>999.9</td>\n",
       "      <td>43.0</td>\n",
       "      <td>32.0</td>\n",
       "      <td>True</td>\n",
       "      <td>True</td>\n",
       "      <td>False</td>\n",
       "      <td>False</td>\n",
       "      <td>False</td>\n",
       "      <td>False</td>\n",
       "      <td>32.9</td>\n",
       "      <td>10.0</td>\n",
       "      <td>4.6</td>\n",
       "      <td>11.1</td>\n",
       "      <td>999.9</td>\n",
       "      <td>0.00G</td>\n",
       "      <td>999.9</td>\n",
       "      <td>42.1</td>\n",
       "      <td>26.1</td>\n",
       "      <td>False</td>\n",
       "      <td>False</td>\n",
       "      <td>False</td>\n",
       "      <td>False</td>\n",
       "      <td>False</td>\n",
       "      <td>False</td>\n",
       "    </tr>\n",
       "    <tr>\n",
       "      <th>3</th>\n",
       "      <td>2015-01-01</td>\n",
       "      <td>ANC</td>\n",
       "      <td>SEA</td>\n",
       "      <td>NaN</td>\n",
       "      <td>35.1</td>\n",
       "      <td>7.5</td>\n",
       "      <td>3.6</td>\n",
       "      <td>6.0</td>\n",
       "      <td>999.9</td>\n",
       "      <td>0.09G</td>\n",
       "      <td>999.9</td>\n",
       "      <td>43.0</td>\n",
       "      <td>32.0</td>\n",
       "      <td>True</td>\n",
       "      <td>True</td>\n",
       "      <td>False</td>\n",
       "      <td>False</td>\n",
       "      <td>False</td>\n",
       "      <td>False</td>\n",
       "      <td>32.9</td>\n",
       "      <td>10.0</td>\n",
       "      <td>4.6</td>\n",
       "      <td>11.1</td>\n",
       "      <td>999.9</td>\n",
       "      <td>0.00G</td>\n",
       "      <td>999.9</td>\n",
       "      <td>42.1</td>\n",
       "      <td>26.1</td>\n",
       "      <td>False</td>\n",
       "      <td>False</td>\n",
       "      <td>False</td>\n",
       "      <td>False</td>\n",
       "      <td>False</td>\n",
       "      <td>False</td>\n",
       "    </tr>\n",
       "    <tr>\n",
       "      <th>4</th>\n",
       "      <td>2015-01-01</td>\n",
       "      <td>ANC</td>\n",
       "      <td>SEA</td>\n",
       "      <td>NaN</td>\n",
       "      <td>35.1</td>\n",
       "      <td>7.5</td>\n",
       "      <td>3.6</td>\n",
       "      <td>6.0</td>\n",
       "      <td>999.9</td>\n",
       "      <td>0.09G</td>\n",
       "      <td>999.9</td>\n",
       "      <td>43.0</td>\n",
       "      <td>32.0</td>\n",
       "      <td>True</td>\n",
       "      <td>True</td>\n",
       "      <td>False</td>\n",
       "      <td>False</td>\n",
       "      <td>False</td>\n",
       "      <td>False</td>\n",
       "      <td>32.9</td>\n",
       "      <td>10.0</td>\n",
       "      <td>4.6</td>\n",
       "      <td>11.1</td>\n",
       "      <td>999.9</td>\n",
       "      <td>0.00G</td>\n",
       "      <td>999.9</td>\n",
       "      <td>42.1</td>\n",
       "      <td>26.1</td>\n",
       "      <td>False</td>\n",
       "      <td>False</td>\n",
       "      <td>False</td>\n",
       "      <td>False</td>\n",
       "      <td>False</td>\n",
       "      <td>False</td>\n",
       "    </tr>\n",
       "  </tbody>\n",
       "</table>\n",
       "</div>"
      ],
      "text/plain": [
       "        DATE ORIGIN_AIRPORT DESTINATION_AIRPORT  WEATHER_DELAY  OR_TEMP  \\\n",
       "0 2015-01-01            ANC                 SEA            NaN     35.1   \n",
       "1 2015-01-01            ANC                 SEA            NaN     35.1   \n",
       "2 2015-01-01            ANC                 SEA            NaN     35.1   \n",
       "3 2015-01-01            ANC                 SEA            NaN     35.1   \n",
       "4 2015-01-01            ANC                 SEA            NaN     35.1   \n",
       "\n",
       "   OR_VISIB  OR_WDSP  OR_MXSPD  OR_SNDP OR_PRCP  OR_GUST OR_MAX OR_MIN  \\\n",
       "0       7.5      3.6       6.0    999.9   0.09G    999.9   43.0   32.0   \n",
       "1       7.5      3.6       6.0    999.9   0.09G    999.9   43.0   32.0   \n",
       "2       7.5      3.6       6.0    999.9   0.09G    999.9   43.0   32.0   \n",
       "3       7.5      3.6       6.0    999.9   0.09G    999.9   43.0   32.0   \n",
       "4       7.5      3.6       6.0    999.9   0.09G    999.9   43.0   32.0   \n",
       "\n",
       "   OR_FOG  OR_RAIN_DRIZZLE  OR_SNOW_ICE_PELLETS  OR_HAIL  OR_THUNDER  \\\n",
       "0    True             True                False    False       False   \n",
       "1    True             True                False    False       False   \n",
       "2    True             True                False    False       False   \n",
       "3    True             True                False    False       False   \n",
       "4    True             True                False    False       False   \n",
       "\n",
       "   OR_TORNADO_FUNNEL_CLOUD  DES_TEMP  DES_VISIB  DES_WDSP  DES_MXSPD  \\\n",
       "0                    False      32.9       10.0       4.6       11.1   \n",
       "1                    False      32.9       10.0       4.6       11.1   \n",
       "2                    False      32.9       10.0       4.6       11.1   \n",
       "3                    False      32.9       10.0       4.6       11.1   \n",
       "4                    False      32.9       10.0       4.6       11.1   \n",
       "\n",
       "   DES_SNDP DES_PRCP  DES_GUST DES_MAX DES_MIN  DES_FOG  DES_RAIN_DRIZZLE  \\\n",
       "0     999.9    0.00G     999.9    42.1    26.1    False             False   \n",
       "1     999.9    0.00G     999.9    42.1    26.1    False             False   \n",
       "2     999.9    0.00G     999.9    42.1    26.1    False             False   \n",
       "3     999.9    0.00G     999.9    42.1    26.1    False             False   \n",
       "4     999.9    0.00G     999.9    42.1    26.1    False             False   \n",
       "\n",
       "   DES_SNOW_ICE_PELLETS  DES_HAIL  DES_THUNDER  DES_TORNADO_FUNNEL_CLOUD  \n",
       "0                 False     False        False                     False  \n",
       "1                 False     False        False                     False  \n",
       "2                 False     False        False                     False  \n",
       "3                 False     False        False                     False  \n",
       "4                 False     False        False                     False  "
      ]
     },
     "execution_count": 67,
     "metadata": {},
     "output_type": "execute_result"
    }
   ],
   "source": [
    "flights_weather_path = '../data/flight_delays_2015/flights_weather.csv'\n",
    "dtypes = {\n",
    "    'ORIGIN_AIRPORT': 'str', \n",
    "    'DESTINATION_AIRPORT': 'str', \n",
    "    'IATA_CODE_x': 'str', \n",
    "    'origin_weather_station': 'str', \n",
    "    'IATA_CODE_y': 'str', \n",
    "    'destination_weather_station': 'str', \n",
    "    'OR_MAX': 'str', \n",
    "    'OR_MIN': 'str', \n",
    "    'OR_PRCP': 'str', \n",
    "    'DES_MAX': 'str', \n",
    "    'DES_MIN': 'str', \n",
    "    'DES_PRCP': 'str', \n",
    "    'OR_FRSHTT': 'str', \n",
    "    'DES_FRSHTT': 'str'\n",
    "}\n",
    "fw_df = pd.read_csv(flights_weather_path, dtype=dtypes, parse_dates=['DATE'])\n",
    "fw_df = fw_df[['DATE', 'ORIGIN_AIRPORT', 'DESTINATION_AIRPORT', 'WEATHER_DELAY', 'OR_TEMP', 'OR_VISIB',\n",
    "               'OR_WDSP', 'OR_MXSPD', 'OR_SNDP', 'OR_PRCP', 'OR_GUST', 'OR_MAX', 'OR_MIN', 'OR_FOG',\n",
    "               'OR_RAIN_DRIZZLE', 'OR_SNOW_ICE_PELLETS', 'OR_HAIL', 'OR_THUNDER', 'OR_TORNADO_FUNNEL_CLOUD',\n",
    "               'DES_TEMP', 'DES_VISIB', 'DES_WDSP', 'DES_MXSPD', 'DES_SNDP', 'DES_PRCP', 'DES_GUST', 'DES_MAX',\n",
    "               'DES_MIN', 'DES_FOG', 'DES_RAIN_DRIZZLE', 'DES_SNOW_ICE_PELLETS', 'DES_HAIL', 'DES_THUNDER',\n",
    "               'DES_TORNADO_FUNNEL_CLOUD']]\n",
    "fw_df.head()"
   ]
  },
  {
   "cell_type": "code",
   "execution_count": 68,
   "metadata": {
    "collapsed": true
   },
   "outputs": [],
   "source": [
    "fw_df['OR_PRCP'] = pd.to_numeric(fw_df['OR_PRCP'].str.replace('A|B|C|D|E|F|G|H|I', ''))\n",
    "fw_df['OR_MAX'] = pd.to_numeric(fw_df['OR_MAX'].str.replace('*', ''))\n",
    "fw_df['OR_MIN'] = pd.to_numeric(fw_df['OR_MIN'].str.replace('*', ''))\n",
    "fw_df.loc[fw_df['OR_TEMP'] == 9999.9, 'OR_TEMP'] = fw_df.OR_TEMP.mean()\n",
    "fw_df.loc[fw_df['OR_WDSP'] == 999.9, 'OR_WDSP'] = fw_df.OR_WDSP.mean()\n",
    "fw_df.loc[fw_df['OR_PRCP'] == 99.99, 'OR_PRCP'] = 0\n",
    "fw_df.loc[fw_df['OR_VISIB'] == 999.9, 'OR_VISIB'] = fw_df.OR_VISIB.mean()\n",
    "fw_df.loc[fw_df['OR_GUST'] == 999.9, 'OR_GUST'] = fw_df.OR_GUST.mean()\n",
    "fw_df.loc[fw_df['OR_MAX'] == 9999.9, 'OR_MAX'] = fw_df.OR_MAX.mean()\n",
    "fw_df.loc[fw_df['OR_MIN'] == 9999.9, 'OR_MIN'] = fw_df.OR_MIN.mean()\n",
    "fw_df.loc[fw_df['OR_WDSP'] == 999.9, 'OR_WDSP'] = fw_df.OR_WDSP.mean()\n",
    "fw_df.loc[fw_df['OR_MXSPD'] == 999.9, 'OR_MXSPD'] = fw_df.OR_MXSPD.mean()\n",
    "fw_df.loc[fw_df['OR_SNDP'] == 999.9, 'OR_SNDP'] = 0\n",
    "fw_df.loc[fw_df['OR_FOG'] == True, 'OR_FOGV'] = 1\n",
    "fw_df.loc[fw_df['OR_FOG'] == False, 'OR_FOGV'] = 0\n",
    "fw_df.loc[fw_df['OR_RAIN_DRIZZLE'] == True, 'OR_RAIN_DRIZZLEV'] = 1\n",
    "fw_df.loc[fw_df['OR_RAIN_DRIZZLE'] == False, 'OR_RAIN_DRIZZLEV'] = 0\n",
    "fw_df.loc[fw_df['OR_SNOW_ICE_PELLETS'] == True, 'OR_SNOW_ICE_PELLETSV'] = 1\n",
    "fw_df.loc[fw_df['OR_SNOW_ICE_PELLETS'] == False, 'OR_SNOW_ICE_PELLETSV'] = 0\n",
    "fw_df.loc[fw_df['OR_HAIL'] == True, 'OR_HAILV'] = 1\n",
    "fw_df.loc[fw_df['OR_HAIL'] == False, 'OR_HAILV'] = 0\n",
    "fw_df.loc[fw_df['OR_THUNDER'] == True, 'OR_THUNDERV'] = 1\n",
    "fw_df.loc[fw_df['OR_THUNDER'] == False, 'OR_THUNDERV'] = 0\n",
    "fw_df.loc[fw_df['OR_TORNADO_FUNNEL_CLOUD'] == True, 'OR_TORNADO_FUNNEL_CLOUDV'] = 1\n",
    "fw_df.loc[fw_df['OR_TORNADO_FUNNEL_CLOUD'] == False, 'OR_TORNADO_FUNNEL_CLOUDV'] = 0\n",
    "fw_df['DES_PRCP'] = pd.to_numeric(fw_df['DES_PRCP'].str.replace('A|B|C|D|E|F|G|H|I', ''))\n",
    "fw_df['DES_MAX'] = pd.to_numeric(fw_df['DES_MAX'].str.replace('*', ''))\n",
    "fw_df['DES_MIN'] = pd.to_numeric(fw_df['DES_MIN'].str.replace('*', ''))\n",
    "fw_df.loc[fw_df['DES_TEMP'] == 9999.9, 'DES_TEMP'] = fw_df.DES_TEMP.mean()\n",
    "fw_df.loc[fw_df['DES_WDSP'] == 999.9, 'DES_WDSP'] = fw_df.DES_WDSP.mean()\n",
    "fw_df.loc[fw_df['DES_PRCP'] == 99.99, 'DES_PRCP'] = 0\n",
    "fw_df.loc[fw_df['DES_VISIB'] == 999.9, 'DES_VISIB'] = fw_df.DES_VISIB.mean()\n",
    "fw_df.loc[fw_df['DES_GUST'] == 999.9, 'DES_GUST'] = fw_df.DES_GUST.mean()\n",
    "fw_df.loc[fw_df['DES_MAX'] == 9999.9, 'DES_MAX'] = fw_df.DES_MAX.mean()\n",
    "fw_df.loc[fw_df['DES_MIN'] == 9999.9, 'DES_MIN'] = fw_df.DES_MIN.mean()\n",
    "fw_df.loc[fw_df['DES_WDSP'] == 999.9, 'DES_WDSP'] = fw_df.DES_WDSP.mean()\n",
    "fw_df.loc[fw_df['DES_MXSPD'] == 999.9, 'DES_MXSPD'] = fw_df.DES_MXSPD.mean()\n",
    "fw_df.loc[fw_df['DES_SNDP'] == 999.9, 'DES_SNDP'] = 0\n",
    "fw_df.loc[fw_df['DES_FOG'] == True, 'DES_FOGV'] = 1\n",
    "fw_df.loc[fw_df['DES_FOG'] == False, 'DES_FOGV'] = 0\n",
    "fw_df.loc[fw_df['DES_RAIN_DRIZZLE'] == True, 'DES_RAIN_DRIZZLEV'] = 1\n",
    "fw_df.loc[fw_df['DES_RAIN_DRIZZLE'] == False, 'DES_RAIN_DRIZZLEV'] = 0\n",
    "fw_df.loc[fw_df['DES_SNOW_ICE_PELLETS'] == True, 'DES_SNOW_ICE_PELLETSV'] = 1\n",
    "fw_df.loc[fw_df['DES_SNOW_ICE_PELLETS'] == False, 'DES_SNOW_ICE_PELLETSV'] = 0\n",
    "fw_df.loc[fw_df['DES_HAIL'] == True, 'DES_HAILV'] = 1\n",
    "fw_df.loc[fw_df['DES_HAIL'] == False, 'DES_HAILV'] = 0\n",
    "fw_df.loc[fw_df['DES_THUNDER'] == True, 'DES_THUNDERV'] = 1\n",
    "fw_df.loc[fw_df['DES_THUNDER'] == False, 'DES_THUNDERV'] = 0\n",
    "fw_df.loc[fw_df['DES_TORNADO_FUNNEL_CLOUD'] == True, 'DES_TORNADO_FUNNEL_CLOUDV'] = 1\n",
    "fw_df.loc[fw_df['DES_TORNADO_FUNNEL_CLOUD'] == False, 'DES_TORNADO_FUNNEL_CLOUDV'] = 0\n",
    "fw_df.loc[fw_df['WEATHER_DELAY'].isnull(), 'WEATHER_DELAY'] = 0\n"
   ]
  },
  {
   "cell_type": "code",
   "execution_count": 69,
   "metadata": {
    "collapsed": true
   },
   "outputs": [],
   "source": [
    "fw_df = fw_df[['DATE', 'ORIGIN_AIRPORT', 'DESTINATION_AIRPORT', 'WEATHER_DELAY', 'OR_TEMP', 'OR_VISIB', \n",
    "               'OR_WDSP', 'OR_MXSPD', 'OR_SNDP', 'OR_PRCP', 'OR_MAX', 'OR_MIN', 'OR_FOGV',\n",
    "               'OR_RAIN_DRIZZLEV', 'OR_SNOW_ICE_PELLETSV', 'OR_HAILV', 'OR_THUNDERV', 'OR_TORNADO_FUNNEL_CLOUDV',\n",
    "               'DES_TEMP', 'DES_VISIB', 'DES_WDSP', 'DES_MXSPD', 'DES_SNDP', 'DES_PRCP', 'DES_MAX',\n",
    "               'DES_MIN', 'DES_FOGV', 'DES_RAIN_DRIZZLEV', 'DES_SNOW_ICE_PELLETSV', 'DES_HAILV', 'DES_THUNDERV',\n",
    "               'DES_TORNADO_FUNNEL_CLOUDV']]"
   ]
  },
  {
   "cell_type": "code",
   "execution_count": 70,
   "metadata": {
    "collapsed": true
   },
   "outputs": [],
   "source": [
    "fw_airports = fw_df.groupby(['DATE', 'ORIGIN_AIRPORT'], as_index=False).mean()"
   ]
  },
  {
   "cell_type": "markdown",
   "metadata": {},
   "source": [
    "### Hypothesis Tests\n",
    "Since our weather data is daily, it may not work to use it to predict delays of a specific flight, but it might be usable to predict average delays for an airport on a specific day. Since only the origin weather applies to all flights leaving an airport and and origin weather appears to have a stronger link to delays, I will focus on the origin airport.\n",
    "\n",
    "Our null hypothesis would be that the mean weather conditions for flights with delays is the same as all flights. We can do this test for all of our weather variable, treating flights with a weather delay greater than 2 minutes as delayed:"
   ]
  },
  {
   "cell_type": "markdown",
   "metadata": {},
   "source": [
    "#### Origin Precipitation"
   ]
  },
  {
   "cell_type": "code",
   "execution_count": 52,
   "metadata": {},
   "outputs": [
    {
     "data": {
      "text/plain": [
       "Ttest_1sampResult(statistic=OR_PRCP    12.750045\n",
       "dtype: float64, pvalue=array([  6.24913584e-37]))"
      ]
     },
     "execution_count": 52,
     "metadata": {},
     "output_type": "execute_result"
    }
   ],
   "source": [
    "stats.ttest_1samp(a=fw_airports.loc[fw_airports['WEATHER_DELAY'] >= 1, 'OR_PRCP'], \n",
    "                 popmean=fw_airports[['OR_PRCP']].mean(), nan_policy='omit')"
   ]
  },
  {
   "cell_type": "markdown",
   "metadata": {},
   "source": [
    "#### Origin Temp"
   ]
  },
  {
   "cell_type": "code",
   "execution_count": 53,
   "metadata": {
    "scrolled": true
   },
   "outputs": [
    {
     "data": {
      "text/plain": [
       "Ttest_1sampResult(statistic=OR_TEMP   -0.455533\n",
       "dtype: float64, pvalue=array([ 0.6487364]))"
      ]
     },
     "execution_count": 53,
     "metadata": {},
     "output_type": "execute_result"
    }
   ],
   "source": [
    "stats.ttest_1samp(a=fw_airports.loc[fw_airports['WEATHER_DELAY'] >= 1, 'OR_TEMP'],\n",
    "                 popmean=fw_airports[['OR_TEMP']].mean())"
   ]
  },
  {
   "cell_type": "markdown",
   "metadata": {},
   "source": [
    "#### Origin Max Temp"
   ]
  },
  {
   "cell_type": "code",
   "execution_count": 54,
   "metadata": {},
   "outputs": [
    {
     "data": {
      "text/plain": [
       "Ttest_1sampResult(statistic=OR_MAX   -2.770157\n",
       "dtype: float64, pvalue=array([ 0.00561381]))"
      ]
     },
     "execution_count": 54,
     "metadata": {},
     "output_type": "execute_result"
    }
   ],
   "source": [
    "stats.ttest_1samp(a=fw_airports.loc[fw_airports['WEATHER_DELAY'] >= 1, 'OR_MAX'],\n",
    "                 popmean=fw_airports[['OR_MAX']].mean())"
   ]
  },
  {
   "cell_type": "markdown",
   "metadata": {},
   "source": [
    "#### Origin Min Temp"
   ]
  },
  {
   "cell_type": "code",
   "execution_count": 55,
   "metadata": {},
   "outputs": [
    {
     "data": {
      "text/plain": [
       "Ttest_1sampResult(statistic=OR_MIN    2.581028\n",
       "dtype: float64, pvalue=array([ 0.00986551]))"
      ]
     },
     "execution_count": 55,
     "metadata": {},
     "output_type": "execute_result"
    }
   ],
   "source": [
    "stats.ttest_1samp(a=fw_airports.loc[fw_airports['WEATHER_DELAY'] >= 1, 'OR_MIN'],\n",
    "                 popmean=fw_airports[['OR_MIN']].mean())"
   ]
  },
  {
   "cell_type": "markdown",
   "metadata": {},
   "source": [
    "#### Origin Windspeed"
   ]
  },
  {
   "cell_type": "code",
   "execution_count": 56,
   "metadata": {},
   "outputs": [
    {
     "data": {
      "text/plain": [
       "Ttest_1sampResult(statistic=OR_WDSP    11.998827\n",
       "dtype: float64, pvalue=array([  6.23021173e-33]))"
      ]
     },
     "execution_count": 56,
     "metadata": {},
     "output_type": "execute_result"
    }
   ],
   "source": [
    "stats.ttest_1samp(a=fw_airports.loc[fw_airports['WEATHER_DELAY'] >= 1, 'OR_WDSP'],\n",
    "                 popmean=fw_airports[['OR_WDSP']].mean())"
   ]
  },
  {
   "cell_type": "markdown",
   "metadata": {},
   "source": [
    "#### Origin Wind Gust"
   ]
  },
  {
   "cell_type": "code",
   "execution_count": 57,
   "metadata": {},
   "outputs": [
    {
     "data": {
      "text/plain": [
       "Ttest_1sampResult(statistic=OR_GUST   -14.380283\n",
       "dtype: float64, pvalue=array([  2.10881329e-46]))"
      ]
     },
     "execution_count": 57,
     "metadata": {},
     "output_type": "execute_result"
    }
   ],
   "source": [
    "stats.ttest_1samp(a=fw_airports.loc[fw_airports['WEATHER_DELAY'] >= 1, 'OR_GUST'],\n",
    "                 popmean=fw_airports[['OR_GUST']].mean())"
   ]
  },
  {
   "cell_type": "markdown",
   "metadata": {},
   "source": [
    "#### Origin Visibility"
   ]
  },
  {
   "cell_type": "code",
   "execution_count": 58,
   "metadata": {},
   "outputs": [
    {
     "data": {
      "text/plain": [
       "Ttest_1sampResult(statistic=OR_VISIB   -21.374135\n",
       "dtype: float64, pvalue=array([  4.87633338e-99]))"
      ]
     },
     "execution_count": 58,
     "metadata": {},
     "output_type": "execute_result"
    }
   ],
   "source": [
    "stats.ttest_1samp(a=fw_airports.loc[fw_airports['WEATHER_DELAY'] >= 1, 'OR_VISIB'],\n",
    "                 popmean=fw_airports[['OR_VISIB']].mean())"
   ]
  },
  {
   "cell_type": "markdown",
   "metadata": {
    "collapsed": true
   },
   "source": [
    "#### Origin Fog"
   ]
  },
  {
   "cell_type": "code",
   "execution_count": 59,
   "metadata": {},
   "outputs": [
    {
     "data": {
      "text/plain": [
       "Ttest_1sampResult(statistic=OR_FOGV    16.056905\n",
       "dtype: float64, pvalue=array([  2.88909246e-57]))"
      ]
     },
     "execution_count": 59,
     "metadata": {},
     "output_type": "execute_result"
    }
   ],
   "source": [
    "stats.ttest_1samp(a=fw_airports.loc[fw_airports['WEATHER_DELAY'] >= 1, 'OR_FOGV'],\n",
    "                 popmean=fw_airports[['OR_FOGV']].mean())"
   ]
  },
  {
   "cell_type": "markdown",
   "metadata": {},
   "source": [
    "#### Origin Rain or Drizzle"
   ]
  },
  {
   "cell_type": "code",
   "execution_count": 36,
   "metadata": {},
   "outputs": [
    {
     "data": {
      "text/plain": [
       "Ttest_1sampResult(statistic=OR_RAIN_DRIZZLEV    24.271907\n",
       "dtype: float64, pvalue=array([  2.94130063e-126]))"
      ]
     },
     "execution_count": 36,
     "metadata": {},
     "output_type": "execute_result"
    }
   ],
   "source": [
    "stats.ttest_1samp(a=fw_airports.loc[fw_airports['WEATHER_DELAY'] > 1, 'OR_RAIN_DRIZZLEV'],\n",
    "                 popmean=fw_airports[['OR_RAIN_DRIZZLEV']].mean())"
   ]
  },
  {
   "cell_type": "markdown",
   "metadata": {},
   "source": [
    "#### Origin Snow/Ice/Pellets"
   ]
  },
  {
   "cell_type": "code",
   "execution_count": 37,
   "metadata": {},
   "outputs": [
    {
     "data": {
      "text/plain": [
       "Ttest_1sampResult(statistic=OR_SNOW_ICE_PELLETSV    17.388457\n",
       "dtype: float64, pvalue=array([  1.12057466e-66]))"
      ]
     },
     "execution_count": 37,
     "metadata": {},
     "output_type": "execute_result"
    }
   ],
   "source": [
    "stats.ttest_1samp(a=fw_airports.loc[fw_airports['WEATHER_DELAY'] > 1, 'OR_SNOW_ICE_PELLETSV'],\n",
    "                 popmean=fw_airports[['OR_SNOW_ICE_PELLETSV']].mean())"
   ]
  },
  {
   "cell_type": "markdown",
   "metadata": {},
   "source": [
    "#### Origin Hail"
   ]
  },
  {
   "cell_type": "code",
   "execution_count": 38,
   "metadata": {},
   "outputs": [
    {
     "data": {
      "text/plain": [
       "Ttest_1sampResult(statistic=OR_HAILV    5.588084\n",
       "dtype: float64, pvalue=array([  2.35924658e-08]))"
      ]
     },
     "execution_count": 38,
     "metadata": {},
     "output_type": "execute_result"
    }
   ],
   "source": [
    "stats.ttest_1samp(a=fw_airports.loc[fw_airports['WEATHER_DELAY'] >= 1, 'OR_HAILV'],\n",
    "                 popmean=fw_airports[['OR_HAILV']].mean())"
   ]
  },
  {
   "cell_type": "markdown",
   "metadata": {},
   "source": [
    "#### Origin Thunder"
   ]
  },
  {
   "cell_type": "code",
   "execution_count": 39,
   "metadata": {},
   "outputs": [
    {
     "data": {
      "text/plain": [
       "Ttest_1sampResult(statistic=OR_THUNDERV    30.072963\n",
       "dtype: float64, pvalue=array([  7.10681520e-190]))"
      ]
     },
     "execution_count": 39,
     "metadata": {},
     "output_type": "execute_result"
    }
   ],
   "source": [
    "stats.ttest_1samp(a=fw_airports.loc[fw_airports['WEATHER_DELAY'] >= 1, 'OR_THUNDERV'],\n",
    "                 popmean=fw_airports[['OR_THUNDERV']].mean())"
   ]
  },
  {
   "cell_type": "markdown",
   "metadata": {},
   "source": [
    "#### Origin Tornado/Funnel Cloud"
   ]
  },
  {
   "cell_type": "code",
   "execution_count": 40,
   "metadata": {
    "scrolled": true
   },
   "outputs": [
    {
     "data": {
      "text/plain": [
       "Ttest_1sampResult(statistic=OR_TORNADO_FUNNEL_CLOUDV    1.926365\n",
       "dtype: float64, pvalue=array([ 0.05408859]))"
      ]
     },
     "execution_count": 40,
     "metadata": {},
     "output_type": "execute_result"
    }
   ],
   "source": [
    "stats.ttest_1samp(a=fw_airports.loc[fw_airports['WEATHER_DELAY'] >= 1, 'OR_TORNADO_FUNNEL_CLOUDV'],\n",
    "                 popmean=fw_airports[['OR_TORNADO_FUNNEL_CLOUDV']].mean())"
   ]
  },
  {
   "cell_type": "markdown",
   "metadata": {
    "collapsed": true
   },
   "source": [
    "These pvalues still support the alternative hypothesis except in a single case, it looks as if average daily temp does not but that min and max temperature do."
   ]
  },
  {
   "cell_type": "code",
   "execution_count": 41,
   "metadata": {},
   "outputs": [
    {
     "name": "stderr",
     "output_type": "stream",
     "text": [
      "/home/tcox/Envs/Volag/local/lib/python2.7/site-packages/sklearn/cross_validation.py:41: DeprecationWarning: This module was deprecated in version 0.18 in favor of the model_selection module into which all the refactored classes and functions are moved. Also note that the interface of the new CV iterators are different from that of this module. This module will be removed in 0.20.\n",
      "  \"This module will be removed in 0.20.\", DeprecationWarning)\n"
     ]
    }
   ],
   "source": [
    "from sklearn.cross_validation import train_test_split"
   ]
  },
  {
   "cell_type": "code",
   "execution_count": 1,
   "metadata": {},
   "outputs": [
    {
     "ename": "NameError",
     "evalue": "name 'train_test_split' is not defined",
     "output_type": "error",
     "traceback": [
      "\u001b[0;31m---------------------------------------------------------------------------\u001b[0m",
      "\u001b[0;31mNameError\u001b[0m                                 Traceback (most recent call last)",
      "\u001b[0;32m<ipython-input-1-f394dd3ac455>\u001b[0m in \u001b[0;36m<module>\u001b[0;34m()\u001b[0m\n\u001b[0;32m----> 1\u001b[0;31m X_train, X_test, y_train, y_test = train_test_split(fw_airports[['OR_VISIB', \n\u001b[0m\u001b[1;32m      2\u001b[0m                \u001b[0;34m'OR_WDSP'\u001b[0m\u001b[0;34m,\u001b[0m \u001b[0;34m'OR_MXSPD'\u001b[0m\u001b[0;34m,\u001b[0m \u001b[0;34m'OR_SNDP'\u001b[0m\u001b[0;34m,\u001b[0m \u001b[0;34m'OR_PRCP'\u001b[0m\u001b[0;34m,\u001b[0m \u001b[0;34m'OR_GUST'\u001b[0m\u001b[0;34m,\u001b[0m \u001b[0;34m'OR_MAX'\u001b[0m\u001b[0;34m,\u001b[0m \u001b[0;34m'OR_MIN'\u001b[0m\u001b[0;34m,\u001b[0m \u001b[0;34m'OR_FOGV'\u001b[0m\u001b[0;34m,\u001b[0m\u001b[0;34m\u001b[0m\u001b[0m\n\u001b[1;32m      3\u001b[0m                'OR_RAIN_DRIZZLEV', 'OR_SNOW_ICE_PELLETSV', 'OR_HAILV', 'OR_THUNDERV', 'OR_TORNADO_FUNNEL_CLOUDV']], fw_airports[['WEATHER_DELAY']])\n",
      "\u001b[0;31mNameError\u001b[0m: name 'train_test_split' is not defined"
     ]
    }
   ],
   "source": [
    "X_train, X_test, y_train, y_test = train_test_split(fw_airports[['OR_TEMP', 'OR_VISIB', \n",
    "               'OR_WDSP', 'OR_MXSPD', 'OR_SNDP', 'OR_PRCP', 'OR_GUST', 'OR_MAX', 'OR_MIN', 'OR_FOGV',\n",
    "               'OR_RAIN_DRIZZLEV', 'OR_SNOW_ICE_PELLETSV', 'OR_HAILV', 'OR_THUNDERV', 'OR_TORNADO_FUNNEL_CLOUDV']], fw_airports[['WEATHER_DELAY']])\n"
   ]
  },
  {
   "cell_type": "code",
   "execution_count": 62,
   "metadata": {},
   "outputs": [
    {
     "name": "stdout",
     "output_type": "stream",
     "text": [
      "[ 6.02115643]\n",
      "[[  1.59670244e-02  -6.66527716e-01   6.42369896e-02   3.73690261e-02\n",
      "    3.73690261e-02  -2.38518914e-02  -2.38518914e-02   6.72083328e-02\n",
      "    6.87893362e-04  -4.18784400e-04  -1.60542639e-02   2.07266464e+00\n",
      "   -1.77432549e-01   1.90730300e+00   8.78974806e+00   2.26157793e+00\n",
      "   -4.84879343e-01]]\n"
     ]
    }
   ],
   "source": [
    "from sklearn.linear_model import LinearRegression\n",
    "lm = LinearRegression()\n",
    "lm.fit(X_train, y_train)\n",
    "\n",
    "# print intercept and coefficients\n",
    "print lm.intercept_\n",
    "print lm.coef_"
   ]
  },
  {
   "cell_type": "code",
   "execution_count": 64,
   "metadata": {},
   "outputs": [
    {
     "data": {
      "text/plain": [
       "0.018468063902115972"
      ]
     },
     "execution_count": 64,
     "metadata": {},
     "output_type": "execute_result"
    }
   ],
   "source": [
    "lm.score(X_test, y_test)"
   ]
  },
  {
   "cell_type": "code",
   "execution_count": null,
   "metadata": {
    "collapsed": true
   },
   "outputs": [],
   "source": []
  }
 ],
 "metadata": {
  "kernelspec": {
   "display_name": "Python 2",
   "language": "python",
   "name": "python2"
  },
  "language_info": {
   "codemirror_mode": {
    "name": "ipython",
    "version": 2
   },
   "file_extension": ".py",
   "mimetype": "text/x-python",
   "name": "python",
   "nbconvert_exporter": "python",
   "pygments_lexer": "ipython2",
   "version": "2.7.13"
  }
 },
 "nbformat": 4,
 "nbformat_minor": 2
}
